{
 "cells": [
  {
   "cell_type": "code",
   "execution_count": 1,
   "metadata": {},
   "outputs": [],
   "source": [
    "from dag_nao.modules.readers.read_files import MultipleFilesReader\n",
    "from dag_nao.modules.readers.single_file_reader import SingleFileReader\n",
    "from dag_nao.modules.readers.pdf_reader import PDFReader\n",
    "from dag_nao.modules.readers.bpu_reader import BPUReader"
   ]
  },
  {
   "cell_type": "code",
   "execution_count": 2,
   "metadata": {},
   "outputs": [],
   "source": [
    "path_offres_tech = \"/workspace/data/03-AppelsOffre-anonyme/2023DOS0550696 - Technicien Support Utilisateurs/offres_techniques\"\n",
    "path_offres_finance = \"/workspace/data/03-AppelsOffre-anonyme/2023DOS0550696 - Technicien Support Utilisateurs/offres_financieres\"\n",
    "dir_amaris = \"AMARIS_FRANCE-1482764\"\n",
    "dir_cgi = \"CGI_FRANCE-1743068\"\n",
    "dir_consort = \"CONSORT_FRANCE-1209686\"\n",
    "dir_experis = \"EXPERIS_FRANCE-1467215\"\n",
    "dir_neurones = \"NEURONES-1206980\"\n",
    "dir_synchrone = \"SYNCHRONE-1210404\""
   ]
  },
  {
   "cell_type": "code",
   "execution_count": 3,
   "metadata": {},
   "outputs": [
    {
     "name": "stdout",
     "output_type": "stream",
     "text": [
      "['CV-ConsultantSupport.pdf', 'proposition_technique.pdf']\n"
     ]
    }
   ],
   "source": [
    "import os\n",
    "my_dir = path_offres_tech\n",
    "my_company = dir_amaris\n",
    "abs_path = os.path.join(my_dir, my_company)\n",
    "my_files = os.listdir(abs_path)\n",
    "print(my_files)"
   ]
  },
  {
   "cell_type": "code",
   "execution_count": 10,
   "metadata": {},
   "outputs": [
    {
     "name": "stdout",
     "output_type": "stream",
     "text": [
      "['/workspace/data/03-AppelsOffre-anonyme/2023DOS0550696 - Technicien Support Utilisateurs/ao_sncf/CDC-technicien _support_utilisateurs.pdf', '/workspace/data/03-AppelsOffre-anonyme/2023DOS0550696 - Technicien Support Utilisateurs/ao_sncf/REC-technicien _support_utilisateurs.pdf', '/workspace/data/03-AppelsOffre-anonyme/2023DOS0550696 - Technicien Support Utilisateurs/offres_financieres/CGI_FRANCE-1743068/BPU-technicien_support_utilisateurs.xlsx', '/workspace/data/03-AppelsOffre-anonyme/2023DOS0550696 - Technicien Support Utilisateurs/offres_techniques/CGI_FRANCE-1743068/CV-JMO.pdf']\n"
     ]
    }
   ],
   "source": [
    "M = MultipleFilesReader(dir=False)\n",
    "toml_path = \"/workspace/data/03-AppelsOffre-anonyme/2023DOS0550696 - Technicien Support Utilisateurs/tomls/cgi.toml\"\n",
    "info = M.read_all_documents(toml_path)"
   ]
  },
  {
   "cell_type": "code",
   "execution_count": 11,
   "metadata": {},
   "outputs": [
    {
     "data": {
      "text/plain": [
       "{'/workspace/data/03-AppelsOffre-anonyme/2023DOS0550696 - Technicien Support Utilisateurs/ao_sncf/CDC-technicien _support_utilisateurs.pdf': 'NUMERO DE PAGE : 1\\n\\n\\n \\n1 \\n  \\nInterne \\nSNCF – GC – DDT – QoS  \\n20230525 \\n \\n \\nCONSULTATION PRESTATIONS INFORMATIQUES \\nAU TITRE DU CONTRAT-CADRE AST & DIGITAL 2021 \\n \\nRéférence à rappeler dans toute correspondance : 20230525_GFN-CSIE \\n1 \\nCONTEXTE \\n1.1 SNCF Gares & Connexions est l’entreprise gestionnaire des 3000 gares Française. Elle en assure le pilotage \\nstratégique, la conception, la construction, l’aménagement, la maintenance, la promotion, la valorisation, \\nl’animation mais aussi la gestion opérationnelle des circulations et des voyageurs  passants  chalands. \\n1.2 En son sein, la Direction Digital & Technologie pilote le SI et les Service Digitaux mais assure aussi la Gestion de \\nFlottes de smartphones et l’assistance informatique pour les utilisateurs du siège, objet de cette consultation. \\n2 \\nDESCRIPTION DE LA MISSION \\n2.1 Objectifs \\nLa mission objet de cette consultation vise à décharger les équipes SNCF dans trois domaines concernant les services \\nbureautiques et digitaux au sens large : \\n- \\nLa gestion courante des sollicitations et demandes ; \\n- \\nL’assistance et le conseil aux utilisateurs ; \\n- \\nLa gestion des stocks, de l’approvisionnement à la mise au rebus en passant par la remise en main. \\n2.2 Description détaillée des tâches qui constituent la mission \\n- \\nTraiter les demandes des agents G&C reçues via le portail interne Digital Office ; \\n- \\nPrendre en charge les déclarations d’incidents ou d’anomalie de fonctionnement bureautique quand les \\nprocessus standard des porteurs de services ne suffisent pas ; \\n- \\nAlerter  escalader en interne DDT etou chez les fournisseurs ;  \\n- \\nAssurer le lien avec les différentes assistances et support pour garantir qu’une réponse soit apportée aux \\nutilisateurs ; \\n- \\nGérer le stock, les dotations et les retours d’équipements PC, tablettes, smartphones pour l’ensemble du siège \\nde G&C ; \\n- \\nAssister le CSIE dans la gestion des commandes : déclenchement du réappro, suivi, relance ; \\n- \\nAssurer le tri des matériels à évacuer (recyclage, collecte SNCF) ; \\n- \\nAssurer physiquement les remises et retours d’équipements ; \\n- \\nAssister les utilisateurs dans la prise en main et le paramétrage des équipements (en particulier smartphone et \\ntablette) ; \\n- \\nApporter conseil à l’utilisation bureautique et accompagnement sur les outils digitaux ; \\n- \\nPrendre en charge des actions de communication et de pédagogie au nom de la DDT ; \\n- \\nRédiger des procédures, des tutoriels, des consignes ; \\n- \\nParticiper à de mini-projets concernant la gestion du site. \\n \\n2.3 Résultats attendus etou livrables avec échéancier si besoin \\nSatisfaction client tenue au meilleur niveau. Corpus documentaire, outils et suivi régulièrement revus et complétés. \\nAnticipation dans la gestion des stocks et autres fournitures. Alertes et escalades à bon escient. \\n \\n2.4 Dates souhaitées de début et de fin de mission \\nPériode ferme :  De juillet 2023 à juillet 2024 \\nPériode optionnelle 1 : De juillet 2024 à décembre 2024 \\nPériode optionnelle 2 : De janvier 2025 à juin 2025 \\nPériode optionnelle 3 : De juillet 2025 à décembre 2025 \\nPériode optionnelle 4 : De janvier 2026 à juin 2026 \\nNUMERO DE PAGE : 2\\n\\n\\n \\n2 \\n  \\nInterne \\nLes périodes optionnelles seront levées sur demande expresse du client et si et seulement si les périodes \\noptionnelles du contrat-cadre sont levées également.  \\n \\n2.5 Code  libellé profil contrat cadre AST 2021 : 701.E.PAR - Support Méthode, qualité et Sécurité Expert - ouvert à des \\nprofils Senior (701.S.PAR) \\n3 \\nCONDITIONS D’EXECUTION DE LA MISSION \\n3.1 Localisation : 16 avenue d’Ivry – 75 013 Paris,  \\n3.2 Organisation de l’équipe : Equipe GFN  CSIE constituée d’un Chef d’équipe et de deux missions d’assistance, \\nrattachée au Pôle « Qualité de Service et Pilotage du RUN » de la « Direction Digital et Technologie » \\n3.3 Informations disponibles (documentations, …) : Le prestataire aura accès à l’ensemble du fonds documentaire de \\nl’équipe. \\n3.4 Responsables SNCF du suivi de la mission \\nLe prestataire reste sous la supervision directe de son employeur, mais devra aviser de l’avancement de la \\nprestation auprès de \\n – CSIE Central GC. \\n4 \\nACCESSIBILITE ET INCLUSION \\n4.1 Fréquence et organisation de réunions à plus de 3 personnes : Peu de réunions en gros comité mais des échanges \\ncontinus avec les utilisateurs ; l’aisance relationnelle fait partie des facteurs clef de réussite. \\n4.2 Accessibilité des locaux en transports en commun : Site principal de la mission accessible en transports en commun.  \\n4.3 Accessibilité des locaux en fauteuil roulant : Bureau en rez de chaussée et accessible aux PMRPSH mais la mission \\noblige à de nombreux et fréquents déplacements dans tout le bâtiment et à des gestes de manutention au quotidien. \\nIl est indispensable de pouvoir porter et manipuler des charges en toute autonomie. \\n4.4 Organisation du lieu de travail (open space de plus de trois bureaux, bureaux individuels…) : Open Space et nombreux \\néchanges à distance (usage du micro-casque). \\n4.5 Possibilité de télétravail ou de travail depuis une autre localisation en cas de travailleurs handicapés : Uniquement \\nde manière ponctuelle et exceptionnelle. \\n \\n5 \\nPARTICULARITES DE LA MISSION \\n5.1 Particularités : De nombreux contacts avec de nombreux intervenants tant internes qu’externes et tant techniques \\nque métier. Cette mission requiert une expérience significative dans la gestion de parc bureautique, de solides bases \\ntechniques sur les infrastructures informatiques et une réelle aisance relationnelle. \\n5.2 Astreintes à prévoir : Non. \\n5.3 Déplacements à prévoir : Très rares (< 4 par an sauf périodes particulières). \\n5.4 Possibilité de télétravail : Non (ou exceptionnellement). \\n5.5 Equipements informatiques (le fournisseur doit-il  peut-il utiliser son propre matériel ?) : Non, le matériel sera \\nfourni par SNCF. \\n6 \\nAUTRES POINTS \\n6.1 Profil(s) le(s) plus à même de remplir la prestation (compétences requises et souhaitées) : Personne ayant déjà piloté \\ndes parcs bureautiques etou des flottes mobiles. Technicien aguerri, autonome dans le diagnostic voire la \\nremédiation de problème bureautique  mobile et même de problème sur les infrastructures (réseau, VPN, \\nNUMERO DE PAGE : 3\\n\\n\\n \\n3 \\n  \\nInterne \\nhabilitations, opérateurs, store, etc…).  Suffisamment expérimenté et autonome pour tenir le service en récurrent \\net alerter à bon escient. \\n6.2 Environnement technique : Flottes sous Android et iOS, parc de PC sous Windows et Mac, environnement \\nbureautique O365 dans un contexte Active Directory  VPN. \\n6.3 Estimation du volume de la prestation (en jours) : 210 jours par an, soit 630 jours maximum en cas de levée d’option',\n",
       " '/workspace/data/03-AppelsOffre-anonyme/2023DOS0550696 - Technicien Support Utilisateurs/ao_sncf/REC-technicien _support_utilisateurs.pdf': \"NUMERO DE PAGE : 1\\n\\n\\n \\nREGLEMENT DE CONSULTATION PRESTATIONS INTELLECTUELLES AU SEIN DU REFERENCEMENT CONTRAT-CADRE AST & DIGITAL.  \\nDOSSIER DE CONSULTATION N°2023DOS0550696  \\nAcheteur (société pilotant la procédure de consultation) : SNCF, 2 place aux Etoiles - 93200 Saint-Denis, \\nImmatriculation RCS : RCS Bobigny n°552 049 447  \\nDate limite de réception des offres1 : 15062023 à 12h00 \\nAdresse URL du profil d’acheteur (e@si) :   \\nhttps:sncf.bravosolution.comweblogin.html \\nDate limite de remise des questions 2 : 05062023 à 12h00 \\nBrief technique3 : ☐ Oui ☒ Non \\nOffre technique : \\n- \\nMémoire technique \\n- \\nCV des intervenants affectés à la réalisation de la \\nprestation (2 CV maximum par soumissionnaire) \\n- \\nPlanning ressourcé (nombre de jours prévus par profil) \\n- \\nTout autre document utile à la bonne compréhension \\nde l’offre.  \\n \\nAucune mention de prix ne doit apparaître dans l’offre \\ntechnique. \\nOffre financière :  \\nLe soumissionnaire doit compléter intégralement \\nchaque tableau du bordereau de prix joint au \\ndossier de consultation. \\nLe document doit conserver le format Excel de \\nMicrosoft. \\nConditions de régularité de l’offre : \\n- \\nRespect des exigences du présent règlement de consultation \\n- \\nConformité de l’offre du soumissionnaire au cahier des charges \\n- \\nOffres variantes : Autorisées (obligation cependant de remettre une offre conforme au cahier des charges) \\n \\nProfil de base souhaité : 701.E.PAR \\nPossibilité d’ouverture à variante sénior :  701.S.PAR \\n \\nLa SNCF se réserve la possibilité de considérer irrecevable les profils ayant eu une expérience ininterrompue au-delà \\nde 23 ans même si l’intervenant a assuré plusieurs missions différentes au sein du Groupe SNCF (toutes SA et filiales \\nconfondues). \\n \\nAu-delà des 2 ans, une interruption d’au moins 6 mois doit être respectée avant que le même intervenant ne puisse \\nréaliser à nouveau une prestation pour le Groupe SNCF. \\nAu-delà des 3 ans, une interruption d’au moins 1 an doit être respectée avant que le même intervenant ne puisse \\nréaliser à nouveau une prestation pour le Groupe SNCF \\nCritères d’attribution :  \\n \\n « Critères Financiers » 40 % : La notation des prix se fait sur la base du montant total de l’offre. Pour information, le \\nmontant global de chaque offre est calculé sur la durée totale du marché. \\nEnsemble « Critères Techniques » pondéré à 60 % :  Le tableau ci-dessous représente le poids de chacun des sous-\\ncritères, évalués dans la notation technique : \\n \\nLibellé sous-critère technique \\nPondération \\nQualité de la réponse (Compréhension du besoin, le cas échéant outils et \\nméthodologie proposés)  \\n10 % \\nNombre et pertinence des expériences similaires \\n30 % \\nCompétences techniques  \\n30 % \\nConnaissance du domaine fonctionnel \\n20 % \\nExpériences similaires en accompagnement au changement, actions \\npédagogiques illustrant la capacité d’écoute, de reformulation et de \\nsynthèse  \\n10 % \\nLe contrat est attribué au soumissionnaire qui a remis l'offre la mieux-disante, après négociations éventuelles. \\n \\n1 Les offres doivent être exclusivement transmises par e@si.  \\n2 Les questions doivent également être transmises exclusivement par e@si à l’acheteur en charge de la consultation. \\n3 En cas de brief technique, l’horaire et le lien pour participer à cette téléconférence seront transmis aux sociétés consultées. Les \\néchanges directs avec la maîtrise d’ouvrage ne pourront avoir lieu qu’à l’occasion de ce brief. Les questions ultérieures devront être \\nadressées via le profil d’acheteur.  \\nNUMERO DE PAGE : 2\\n\\n\\n \\nUne note technique éliminatoire de 1120 sera appliquée à la présente consultation. Les soumissionnaires ayant une \\nnote inférieure seront éliminés.  \\nDate prévisionnelle pour les soutenances techniques éventuelles :  \\n- \\nMercredi 21 juin  \\n- \\nVendredi 23 juin \\nSNCF se réserve le droit d'établir une liste restreinte avec un ou plusieurs soumissionnaires, selon le classement des offres \\nrecevables, et d’organiser des négociations techniques et financières avec le(s) soumissionnaire(s) de la liste restreinte. \\n \\nDate prévisionnelle d’attribution : 29062023 \\nAnnexes :  \\n- \\nCahier des charges \\n- \\nBordereau de prix \\n- \\nStructuration de l’offre \\n- \\nAccès à la plateforme e@si \\n- \\nConditions Générales de Consultation accessibles sur \\nhttps:www.sncf.comfrgroupefournisseursdocuments \\n- \\nFichier de questions  réponses à transmettre via messagerie e@si à l’acheteur en cas de demandes de \\nprécisions sur le dossier\",\n",
       " '/workspace/data/03-AppelsOffre-anonyme/2023DOS0550696 - Technicien Support Utilisateurs/offres_financieres/CGI_FRANCE-1743068/BPU-technicien_support_utilisateurs.xlsx': {'Catégorie de profil': '701.S.PAR ',\n",
       "  'TAUX JOURNALIERS (€ HTVA)': 350,\n",
       "  'Nb de jours Tranche ferme': 210,\n",
       "  'Nb de jours Tranche optionnelle 1': 105,\n",
       "  'Nb de jours Tranche optionnelle 2': 105,\n",
       "  'Nb de jours Tranche optionnelle 3': 105,\n",
       "  'Nb de jours Tranche optionnelle 4': 105,\n",
       "  'Jours de gratuité appliqués dans le cadre de la TF par profil ': 10,\n",
       "  'Montant des jours de gratuité': 3500,\n",
       "  'Total tranches optionnelles': 147000,\n",
       "  'Total tranche ferme': 73500,\n",
       "  'Total tranche ferme intégrant la remise commerciale': 70000,\n",
       "  'Total tranche ferme + tranche optionnelles intégrant la remise globale': 217000},\n",
       " '/workspace/data/03-AppelsOffre-anonyme/2023DOS0550696 - Technicien Support Utilisateurs/offres_techniques/CGI_FRANCE-1743068/CV-JMO.pdf': 'NUMERO DE PAGE : 1\\n\\n\\n \\n \\n© 2023 CGI inc. \\nConfidentiel \\n \\nInterne \\n \\nJMO \\nConsultant SENIOR Support Méthode, qualité et \\nSécurité  \\n35 ans d’expérience dont 16 ans d’expérience \\ndans l’administration gestion et assistance des \\nutilisateurs \\n \\nProfil \\nJMO, 16 ans d’expérience dans l’administration et gestion et assistance des utilisateurs, des applications et des \\nimpressions.   \\nAutres expériences \\nAVANCIAL – TRANSPORT (2017 à ce jour) \\nSupport Méthode, qualité et Sécurité  \\nGarantir la qualité de la collecte des informations d’exécution des traitements. \\nEffectuer la collecte des informations des rejets de données liés à l’exécution des traitements. \\nAssurer la mise en alerte de traitement selon des critères fonctionnels (taux de rejet maximum, volume traité minimum, \\nplage horaire de déclenchement…). \\nGénérer les tableaux de bord. \\nPrendre en charge les déclarations d’incidents ou d’anomalie de fonctionnement bureautique  \\nRechercher et analyser la cause en cas d’alerte ou d’incident. \\nCoordonner des actions de rétablissement ou palliatives. \\nEffectuer la communication ExploitantMOEMOA. \\nAssurer le maintien des compétences (fiche de pilotage, procédure, documentation …). \\nApporter conseil à l’utilisation bureautique  \\nPrendre en charge des actions de communication  \\nRédiger des procédures \\n \\nSFR–BT Infra – TELEPHONIE (2011 à 2017) \\nResponsable qualité methode \\nDémarche qualitative au Bureau Technique Infrastructure. \\nAudit de l’ensemble des salles informatiques SFR et de la documentation. \\nAmélioration des référentiels et des procédures. \\nContrôle quotidien de l’activité des intervenants (20 collaborateurs). \\nPréparation des chiffres et statistiques mensuels. \\nProposition et mise en place d’axes d’amélioration. Apporter conseil à l’utilisation bureautique  \\nPrendre en charge des actions de communication  \\nRédiger des procédures \\nNUMERO DE PAGE : 2\\n\\n\\n \\n© 20XX CGI inc. \\nConfidentiel \\n2 \\nInterne \\n \\nSNCF AVANCIAL – TRANSPORT (2001 à 2011) \\nAdministration et gestion des utilisateurs  \\nAdministration et gestion des utilisateurs, des applications et des impressions.  \\nGestion des tables de routage IP. \\nInstallations logicielles MSWINDOWS (NT, 95, 3.11). \\nPrendre en charge les déclarations d’incidents ou d’anomalie de fonctionnement bureautique  \\nInstallations Bureautique (MSEXCHANGE, MSOFFICE, Internet EXPLORER,..). Apporter conseil à l’utilisation \\nbureautique  \\nPrendre en charge des actions de communication  \\nRédiger des procédures \\n \\nCITROEN – PARC AUTO (2000 à 2001) \\nSupport technique \\nInterventions sur sites (déplacements en France entière). \\nDépannage matériel (serveurs, postes de travail, imprimantes, …). \\nReconfiguration de postes de travail. \\nInstallation de logiciels. \\nCellule de pilotage du réseau points de vente. \\nSupport applicatif premier niveau. \\nPrise d’appels. \\nDiagnostic, qualification et saisie en base de données des incidents. \\nAssistance bureautique aux utilisateurs. \\nGestion des droits d’accès (mots de passe). \\nDéclenchement des procédures d’escalades. \\n \\nCANON – PHOTOCOPIEUR (1999 à 2000) \\nMicro-réseau \\nInstallation, paramétrage, customisation des logiciels micro (PACK-OFFICE, LOTUS-NOTES, etc…).  \\nDépannage sur sites des PC et des imprimantes.  \\nMise en place de la connectique réseaux. Déplacement sur la France entière. \\nSupport technique téléphonique, montage des PCS. Relations avec les constructeurs. \\n \\nCANON – PHOTOCOPIEUR (1988 à 1999) \\nProduction \\nDans le cadre d’une gérance d’exploitation, prise en charge du dispatching et du façonnage des impressions utilisateurs.  \\nNUMERO DE PAGE : 3\\n\\n\\n \\n© 20XX CGI inc. \\nConfidentiel \\n3 \\nInterne \\nAdministration du parc des supports magnétiques.  \\nAdministration des éditions sous CADISPATCH. \\nContrôle d’exploitation sous DDS \\nFormation  \\n2019 SQL pour Oracle débutant (PLB consultant). \\n2015 Habilitation électrique H0-B0 (APAVE). \\n2012 Habilitation électrique H0-B0 (APAVE). \\n2011 Gestes et Postures. \\n1999 Fondamentaux du PC (UPGRADE). \\n1991 Gestion de réseaux Netview (HELICE FORMATION) \\n         VTAMSNA (HELICE FORMATION) \\n         IMS en Exploitation (HELICE FORMATION) \\n         Initiation TP (HELICE FORMATION) \\n        Contrôle et suivi des Performances (HELICE FORMATION) \\n         Log. Et Tech. des Ordinateurs (HELICE FORMATION). \\n1990 Contrôle et suivi des Performances (HELICE FORMATION) \\n         Pupitre MVS & JES2 (HELICE FORMATION) \\n         TSOE & ISPF (HELICE FORMATION) \\n         Présentation MVS (HELICE FORMATION) \\n         Log. Et Tech. Des Ordinateurs (HELICE FORMATION). \\nLangues \\nFrançais'}"
      ]
     },
     "execution_count": 11,
     "metadata": {},
     "output_type": "execute_result"
    }
   ],
   "source": [
    "info"
   ]
  },
  {
   "cell_type": "code",
   "execution_count": 15,
   "metadata": {},
   "outputs": [
    {
     "name": "stdout",
     "output_type": "stream",
     "text": [
      "oui\n",
      "non\n"
     ]
    }
   ],
   "source": [
    "d = {'oui':3, 'non':4}\n",
    "\n",
    "for i in d.keys():\n",
    "    print(i)"
   ]
  }
 ],
 "metadata": {
  "kernelspec": {
   "display_name": "Python 3",
   "language": "python",
   "name": "python3"
  },
  "language_info": {
   "codemirror_mode": {
    "name": "ipython",
    "version": 3
   },
   "file_extension": ".py",
   "mimetype": "text/x-python",
   "name": "python",
   "nbconvert_exporter": "python",
   "pygments_lexer": "ipython3",
   "version": "3.11.9"
  }
 },
 "nbformat": 4,
 "nbformat_minor": 2
}
