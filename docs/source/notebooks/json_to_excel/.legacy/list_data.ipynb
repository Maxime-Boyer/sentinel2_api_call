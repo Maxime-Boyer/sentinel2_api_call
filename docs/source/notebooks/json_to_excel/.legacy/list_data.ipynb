{
 "cells": [
  {
   "cell_type": "code",
   "execution_count": null,
   "metadata": {},
   "outputs": [],
   "source": [
    "import os\n",
    "import pandas as pd"
   ]
  },
  {
   "cell_type": "code",
   "execution_count": null,
   "metadata": {},
   "outputs": [],
   "source": [
    "def list_all_files(directory, verbose=False):\n",
    "    main_directory = os.path.abspath(directory)\n",
    "    \n",
    "    list_of_files = []\n",
    "    for root, dirs, files in os.walk(directory):\n",
    "        for file in files:\n",
    "            relative_path = os.path.relpath(root, main_directory)\n",
    "            if verbose:\n",
    "                print(f'File Path: {relative_path}, File Name: {file}')\n",
    "            list_of_files.append((relative_path, file))\n",
    "            \n",
    "    return list_of_files\n",
    "\n",
    "def delete_ds_store_files(directory):\n",
    "    for root, dirs, files in os.walk(directory):\n",
    "        for file in files:\n",
    "            if file == '.DS_Store':\n",
    "                file_path = os.path.join(root, file)\n",
    "                try:\n",
    "                    os.remove(file_path)\n",
    "                except Exception as e:\n",
    "                    print(f'Failed to delete file: {file_path}. Error: {e}')\n"
   ]
  },
  {
   "cell_type": "code",
   "execution_count": null,
   "metadata": {},
   "outputs": [],
   "source": [
    "root_dir = \"/Users/ftmh12201/MyWorkspace/01-Projets/DAG-NAO/AppelsOffre\"\n",
    "\n",
    "delete_ds_store_files(root_dir)\n",
    "    \n",
    "list_of_files = list_all_files(root_dir)\n",
    "paths, filenames = zip(*list_of_files)\n",
    "\n",
    "df = pd.DataFrame(data={'path': paths, 'filename': filenames})\n",
    "df['reference'] = df['path'].str[0:14]\n",
    "df['extension'] = df['filename'].apply(lambda x: os.path.splitext(x)[1])\n",
    "\n",
    "df = df.sort_values(by=['path', 'filename'])\n",
    "\n",
    "df[['reference', 'path', 'filename', 'extension']].to_csv('list_of_files.csv', sep=';', index=False)"
   ]
  },
  {
   "cell_type": "code",
   "execution_count": null,
   "metadata": {},
   "outputs": [],
   "source": [
    "df"
   ]
  }
 ],
 "metadata": {
  "kernelspec": {
   "display_name": "base",
   "language": "python",
   "name": "python3"
  },
  "language_info": {
   "codemirror_mode": {
    "name": "ipython",
    "version": 3
   },
   "file_extension": ".py",
   "mimetype": "text/x-python",
   "name": "python",
   "nbconvert_exporter": "python",
   "pygments_lexer": "ipython3",
   "version": "3.10.13"
  }
 },
 "nbformat": 4,
 "nbformat_minor": 2
}
