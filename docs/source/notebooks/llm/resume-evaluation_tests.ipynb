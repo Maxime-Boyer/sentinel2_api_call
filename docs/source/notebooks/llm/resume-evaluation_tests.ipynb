{
 "cells": [
  {
   "cell_type": "code",
   "execution_count": 3,
   "metadata": {},
   "outputs": [],
   "source": [
    "# %pip install boto3==1.34.93 ipython --quiet\n",
    "\n",
    "%load_ext autoreload\n",
    "%autoreload 2"
   ]
  },
  {
   "cell_type": "markdown",
   "metadata": {},
   "source": [
    "# PIPELINE"
   ]
  },
  {
   "cell_type": "markdown",
   "metadata": {},
   "source": [
    "## STRAT 1 BIS"
   ]
  },
  {
   "cell_type": "code",
   "execution_count": 4,
   "metadata": {},
   "outputs": [],
   "source": [
    "version = \"v1\"\n",
    "dossier = \"2023DOS0550696\"\n",
    "\n",
    "# AO\n",
    "cdc_json_file_path = f\"/workspace/docs/source/notebooks/json/{dossier}/{version}/ao/formatted_json_cdc.json\"\n",
    "rec_json_file_path = f\"/workspace/docs/source/notebooks/json/{dossier}/{version}/ao/formatted_json_rec.json\"\n",
    "# CV\n",
    "entreprise = \"cgi\"\n",
    "cv_json_file_path = f\"/workspace/docs/source/notebooks/json/{dossier}/{version}/{entreprise}/formatted_json_cv.json\""
   ]
  },
  {
   "cell_type": "code",
   "execution_count": 5,
   "metadata": {},
   "outputs": [
    {
     "name": "stdout",
     "output_type": "stream",
     "text": [
      "{'objectif_de_la_mission': [\"La mission objet de cette consultation vise à décharger les équipes SNCF dans trois domaines concernant les services bureautiques et digitaux au sens large : - La gestion courante des sollicitations et demandes ; - L'assistance et le conseil aux utilisateurs ; - La gestion des stocks, de l'approvisionnement à la mise au rebus en passant par la remise en main.\", 1], 'duree_de_la_mission': [210, 3], 'nombre_de_profils': [1, 2], 'types_de_profils': [{'type': ['701.E.PAR - Support Méthode, qualité et Sécurité Expert - ouvert à des profils Senior (701.S.PAR)', 2]}], 'taches_et_responsabilites': [{'tache_et_responsabilite': ['Traiter les demandes des agents G&C reçues via le portail interne Digital Office', 1]}, {'tache_et_responsabilite': [\"Prendre en charge les déclarations d'incidents ou d'anomalie de fonctionnement bureautique quand les processus standard des porteurs de services ne suffisent pas\", 1]}, {'tache_et_responsabilite': ['Alerter / escalader en interne DDT et/ou chez les fournisseurs', 1]}, {'tache_et_responsabilite': [\"Assurer le lien avec les différentes assistances et support pour garantir qu'une réponse soit apportée aux utilisateurs\", 1]}, {'tache_et_responsabilite': [\"Gérer le stock, les dotations et les retours d'équipements PC, tablettes, smartphones pour l'ensemble du siège de G&C\", 1]}, {'tache_et_responsabilite': ['Assister le CSIE dans la gestion des commandes : déclenchement du réappro, suivi, relance', 1]}, {'tache_et_responsabilite': ['Assurer le tri des matériels à évacuer (recyclage, collecte SNCF)', 1]}, {'tache_et_responsabilite': [\"Assurer physiquement les remises et retours d'équipements\", 1]}, {'tache_et_responsabilite': ['Assister les utilisateurs dans la prise en main et le paramétrage des équipements (en particulier smartphone et tablette)', 1]}, {'tache_et_responsabilite': [\"Apporter conseil à l'utilisation bureautique et accompagnement sur les outils digitaux\", 1]}, {'tache_et_responsabilite': ['Prendre en charge des actions de communication et de pédagogie au nom de la DDT', 1]}, {'tache_et_responsabilite': ['Rédiger des procédures, des tutoriels, des consignes', 1]}, {'tache_et_responsabilite': ['Participer à de mini-projets concernant la gestion du site', 1]}], 'competences_du_profils': [{'competence': ['Personne ayant déjà piloté des parcs bureautiques et/ou des flottes mobiles', 6]}, {'competence': ['Technicien aguerri, autonome dans le diagnostic voire la remédiation de problème bureautique / mobile et même de problème sur les infrastructures (réseau, VPN, habilitations, opérateurs, store, etc…)', 6]}, {'competence': ['Suffisamment expérimenté et autonome pour tenir le service en récurrent et alerter à bon escient', 6]}], 'stack_technique': [{'tache': ['Flottes sous Android et iOS', 6]}, {'tache': ['Parc de PC sous Windows et Mac', 6]}, {'tache': ['Environnement bureautique O365 dans un contexte Active Directory / VPN', 6]}], 'duree_de_la_mission_avec_option': [\"630 jours maximum en cas de levée d'option\", 3]}\n",
      "{'diplomes': [{'niveau_etude': 'N/A', 'date_obtention': 'N/A', 'diplome': 'N/A', 'competences_acquises': [{'tache': 'N/A'}]}], 'certifications': [{'date_obtention': '2019', 'certification': 'SQL pour Oracle débutant (PLB consultant)', 'competences_acquises': [{'tache': 'N/A'}]}, {'date_obtention': '2015', 'certification': 'Habilitation électrique H0-B0 (APAVE)', 'competences_acquises': [{'tache': 'N/A'}]}, {'date_obtention': '2012', 'certification': 'Habilitation électrique H0-B0 (APAVE)', 'competences_acquises': [{'tache': 'N/A'}]}, {'date_obtention': '2011', 'certification': 'Gestes et Postures', 'competences_acquises': [{'tache': 'N/A'}]}, {'date_obtention': '1999', 'certification': 'Fondamentaux du PC (UPGRADE)', 'competences_acquises': [{'tache': 'N/A'}]}, {'date_obtention': '1991', 'certification': 'Gestion de réseaux Netview (HELICE FORMATION)', 'competences_acquises': [{'tache': 'N/A'}]}, {'date_obtention': '1991', 'certification': 'VTAM/SNA (HELICE FORMATION)', 'competences_acquises': [{'tache': 'N/A'}]}, {'date_obtention': '1991', 'certification': 'IMS en Exploitation (HELICE FORMATION)', 'competences_acquises': [{'tache': 'N/A'}]}, {'date_obtention': '1991', 'certification': 'Initiation TP (HELICE FORMATION)', 'competences_acquises': [{'tache': 'N/A'}]}, {'date_obtention': '1991', 'certification': 'Contrôle et suivi des Performances (HELICE FORMATION)', 'competences_acquises': [{'tache': 'N/A'}]}, {'date_obtention': '1991', 'certification': 'Log. Et Tech. des Ordinateurs (HELICE FORMATION)', 'competences_acquises': [{'tache': 'N/A'}]}, {'date_obtention': '1990', 'certification': 'Contrôle et suivi des Performances (HELICE FORMATION)', 'competences_acquises': [{'tache': 'N/A'}]}, {'date_obtention': '1990', 'certification': 'Pupitre MVS & JES2 (HELICE FORMATION)', 'competences_acquises': [{'tache': 'N/A'}]}, {'date_obtention': '1990', 'certification': 'TSO/E & ISPF (HELICE FORMATION)', 'competences_acquises': [{'tache': 'N/A'}]}, {'date_obtention': '1990', 'certification': 'Présentation MVS (HELICE FORMATION)', 'competences_acquises': [{'tache': 'N/A'}]}, {'date_obtention': '1990', 'certification': 'Log. Et Tech. Des Ordinateurs (HELICE FORMATION)', 'competences_acquises': [{'tache': 'N/A'}]}], 'langues_parlees': [{'langue': 'Français', 'niveau': 'N/A'}], 'experiences_entreprise': [{'nom_entreprise': ['AVANCIAL – TRANSPORT', 1], 'duree_experience': ['6 ans', 1], 'date_debut_experience': ['2017-01-01', 1], 'date_fin_experience': ['2023-04-30', 1], 'nom_poste': ['Support Méthode, qualité et Sécurité', 1], 'stack_technique': [{'tache': [\"Garantir la qualité de la collecte des informations d'exécution des traitements.\", 1]}, {'tache': [\"Effectuer la collecte des informations des rejets de données liés à l'exécution des traitements.\", 1]}, {'tache': ['Assurer la mise en alerte de traitement selon des critères fonctionnels.', 1]}, {'tache': ['Générer les tableaux de bord.', 1]}, {'tache': [\"Prendre en charge les déclarations d'incidents ou d'anomalie de fonctionnement bureautique.\", 1]}, {'tache': [\"Rechercher et analyser la cause en cas d'alerte ou d'incident.\", 1]}, {'tache': ['Coordonner des actions de rétablissement ou palliatives.', 1]}, {'tache': ['Effectuer la communication Exploitant/MOE/MOA.', 1]}, {'tache': ['Assurer le maintien des compétences.', 1]}, {'tache': [\"Apporter conseil à l'utilisation bureautique.\", 1]}, {'tache': ['Prendre en charge des actions de communication.', 1]}, {'tache': ['Rédiger des procédures.', 1]}]}, {'nom_entreprise': ['SFR–BT Infra – TELEPHONIE', 2], 'duree_experience': ['6 ans', 2], 'date_debut_experience': ['2011-01-01', 2], 'date_fin_experience': ['2017-01-01', 2], 'nom_poste': ['Responsable qualité/ methode', 2], 'stack_technique': [{'tache': ['Démarche qualitative au Bureau Technique Infrastructure.', 2]}, {'tache': [\"Audit de l'ensemble des salles informatiques SFR et de la documentation.\", 2]}, {'tache': ['Amélioration des référentiels et des procédures.', 2]}, {'tache': [\"Contrôle quotidien de l'activité des intervenants.\", 2]}, {'tache': ['Préparation des chiffres et statistiques mensuels.', 2]}, {'tache': [\"Proposition et mise en place d'axes d'amélioration.\", 2]}, {'tache': [\"Apporter conseil à l'utilisation bureautique.\", 2]}, {'tache': ['Prendre en charge des actions de communication.', 2]}, {'tache': ['Rédiger des procédures.', 2]}]}, {'nom_entreprise': ['SNCF AVANCIAL – TRANSPORT', 2], 'duree_experience': ['10 ans', 2], 'date_debut_experience': ['2001-01-01', 2], 'date_fin_experience': ['2011-01-01', 2], 'nom_poste': ['Administration et gestion des utilisateurs', 2], 'stack_technique': [{'tache': ['Administration et gestion des utilisateurs, des applications et des impressions.', 2]}, {'tache': ['Gestion des tables de routage IP.', 2]}, {'tache': ['Installations logicielles MS/WINDOWS.', 2]}, {'tache': [\"Prendre en charge les déclarations d'incidents ou d'anomalie de fonctionnement bureautique.\", 2]}, {'tache': ['Installations Bureautique.', 2]}, {'tache': [\"Apporter conseil à l'utilisation bureautique.\", 2]}, {'tache': ['Prendre en charge des actions de communication.', 2]}, {'tache': ['Rédiger des procédures.', 2]}]}, {'nom_entreprise': ['CITROEN – PARC AUTO', 2], 'duree_experience': ['1 an', 2], 'date_debut_experience': ['2000-01-01', 2], 'date_fin_experience': ['2001-01-01', 2], 'nom_poste': ['Support technique', 2], 'stack_technique': [{'tache': ['Interventions sur sites.', 2]}, {'tache': ['Dépannage matériel.', 2]}, {'tache': ['Reconfiguration de postes de travail.', 2]}, {'tache': ['Installation de logiciels.', 2]}, {'tache': ['Cellule de pilotage du réseau points de vente.', 2]}, {'tache': ['Support applicatif premier niveau.', 2]}, {'tache': [\"Prise d'appels.\", 2]}, {'tache': ['Diagnostic, qualification et saisie en base de données des incidents.', 2]}, {'tache': ['Assistance bureautique aux utilisateurs.', 2]}, {'tache': [\"Gestion des droits d'accès.\", 2]}, {'tache': [\"Déclenchement des procédures d'escalades.\", 2]}]}, {'nom_entreprise': ['CANON – PHOTOCOPIEUR', 2], 'duree_experience': ['1 an', 2], 'date_debut_experience': ['1999-01-01', 2], 'date_fin_experience': ['2000-01-01', 2], 'nom_poste': ['Micro-réseau', 2], 'stack_technique': [{'tache': ['Installation, paramétrage, customisation des logiciels micro.', 2]}, {'tache': ['Dépannage sur sites des PC et des imprimantes.', 2]}, {'tache': ['Mise en place de la connectique réseaux.', 2]}, {'tache': ['Support technique téléphonique, montage des PCS.', 2]}, {'tache': ['Relations avec les constructeurs.', 2]}]}, {'nom_entreprise': ['CANON – PHOTOCOPIEUR', 3], 'duree_experience': ['11 ans', 3], 'date_debut_experience': ['1988-01-01', 3], 'date_fin_experience': ['1999-01-01', 3], 'nom_poste': ['Production', 3], 'stack_technique': [{'tache': ['Prise en charge du dispatching et du façonnage des impressions utilisateurs.', 3]}, {'tache': ['Administration du parc des supports magnétiques.', 3]}, {'tache': ['Administration des éditions sous CA/DISPATCH.', 3]}, {'tache': [\"Contrôle d'exploitation sous DDS.\", 3]}]}, {'nom_entreprise': 'AVANCIAL – TRANSPORT', 'nom_poste': 'Support Méthode, qualité et Sécurité', 'role': [{'tache': \"Garantir la qualité de la collecte des informations d'exécution des traitements.\"}, {'tache': \"Effectuer la collecte des informations des rejets de données liés à l'exécution des traitements.\"}, {'tache': 'Assurer la mise en alerte de traitement selon des critères fonctionnels (taux de rejet maximum, volume traité minimum, plage horaire de déclenchement…).'}, {'tache': 'Générer les tableaux de bord.'}, {'tache': \"Prendre en charge les déclarations d'incidents ou d'anomalie de fonctionnement bureautique\"}, {'tache': \"Rechercher et analyser la cause en cas d'alerte ou d'incident.\"}, {'tache': 'Coordonner des actions de rétablissement ou palliatives.'}, {'tache': 'Effectuer la communication Exploitant/MOE/MOA.'}, {'tache': 'Assurer le maintien des compétences (fiche de pilotage, procédure, documentation …).'}, {'tache': \"Apporter conseil à l'utilisation bureautique\"}, {'tache': 'Prendre en charge des actions de communication'}, {'tache': 'Rédiger des procédures'}]}, {'nom_entreprise': 'SFR–BT Infra – TELEPHONIE', 'nom_poste': 'Responsable qualité/ methode', 'role': [{'tache': 'Démarche qualitative au Bureau Technique Infrastructure.'}, {'tache': \"Audit de l'ensemble des salles informatiques SFR et de la documentation.\"}, {'tache': 'Amélioration des référentiels et des procédures.'}, {'tache': \"Contrôle quotidien de l'activité des intervenants (20 collaborateurs).\"}, {'tache': 'Préparation des chiffres et statistiques mensuels.'}, {'tache': \"Proposition et mise en place d'axes d'amélioration.\"}, {'tache': \"Apporter conseil à l'utilisation bureautique\"}, {'tache': 'Prendre en charge des actions de communication'}, {'tache': 'Rédiger des procédures'}]}, {'nom_entreprise': 'SNCF AVANCIAL – TRANSPORT', 'nom_poste': 'Administration et gestion des utilisateurs', 'role': [{'tache': 'Administration et gestion des utilisateurs, des applications et des impressions.'}, {'tache': 'Gestion des tables de routage IP.'}, {'tache': 'Installations logicielles MS/WINDOWS (NT, 95, 3.11).'}, {'tache': \"Prendre en charge les déclarations d'incidents ou d'anomalie de fonctionnement bureautique\"}, {'tache': 'Installations Bureautique (MS/EXCHANGE, MS/OFFICE, Internet EXPLORER,..).'}, {'tache': \"Apporter conseil à l'utilisation bureautique\"}, {'tache': 'Prendre en charge des actions de communication'}, {'tache': 'Rédiger des procédures'}]}, {'nom_entreprise': 'CITROEN – PARC AUTO', 'nom_poste': 'Support technique', 'role': [{'tache': 'Interventions sur sites (déplacements en France entière).'}, {'tache': 'Dépannage matériel (serveurs, postes de travail, imprimantes, …).'}, {'tache': 'Reconfiguration de postes de travail.'}, {'tache': 'Installation de logiciels.'}, {'tache': 'Cellule de pilotage du réseau points de vente.'}, {'tache': 'Support applicatif premier niveau.'}, {'tache': \"Prise d'appels.\"}, {'tache': 'Diagnostic, qualification et saisie en base de données des incidents.'}, {'tache': 'Assistance bureautique aux utilisateurs.'}, {'tache': \"Gestion des droits d'accès (mots de passe).\"}, {'tache': \"Déclenchement des procédures d'escalades.\"}]}, {'nom_entreprise': 'CANON – PHOTOCOPIEUR', 'nom_poste': 'Micro-réseau', 'role': [{'tache': 'Installation, paramétrage, customisation des logiciels micro (PACK-OFFICE, LOTUS-NOTES, etc…).'}, {'tache': 'Dépannage sur sites des PC et des imprimantes.'}, {'tache': 'Mise en place de la connectique réseaux.'}, {'tache': 'Déplacement sur la France entière.'}, {'tache': 'Support technique téléphonique, montage des PCS.'}, {'tache': 'Relations avec les constructeurs.'}]}, {'nom_entreprise': 'CANON – PHOTOCOPIEUR', 'nom_poste': 'Production', 'role': [{'tache': \"Dans le cadre d'une gérance d'exploitation, prise en charge du dispatching et du façonnage des impressions utilisateurs.\"}, {'tache': 'Administration du parc des supports magnétiques.'}, {'tache': 'Administration des éditions sous CA/DISPATCH.'}, {'tache': \"Contrôle d'exploitation sous DDS\"}]}]}\n"
     ]
    }
   ],
   "source": [
    "import json \n",
    "\n",
    "# Open the JSON file and load its contents\n",
    "with open(cdc_json_file_path, \"r\") as file:\n",
    "    cdc_json_data = json.load(file)\n",
    "with open(cv_json_file_path, \"r\") as file:\n",
    "    cv_json_data = json.load(file)\n",
    "with open(rec_json_file_path, \"r\") as file:\n",
    "    rec_json_data = json.load(file)\n",
    "\n",
    "# Now you can work with the loaded JSON data\n",
    "print(cdc_json_data)\n",
    "print(cv_json_data)\n",
    "\n",
    "# Add you json inputs here\n",
    "REQUIREMENTS = cdc_json_data\n",
    "RESUME = cv_json_data"
   ]
  },
  {
   "cell_type": "code",
   "execution_count": 6,
   "metadata": {},
   "outputs": [
    {
     "data": {
      "text/plain": [
       "[{'critere': ['Qualité de la réponse (Compréhension du besoin, le cas échéant outils et méthodologie proposés)',\n",
       "   1],\n",
       "  'ponderation': [10, 1]},\n",
       " {'critere': ['Nombre et pertinence des expériences similaires', 1],\n",
       "  'ponderation': [30, 1]},\n",
       " {'critere': ['Compétences techniques', 1], 'ponderation': [30, 1]},\n",
       " {'critere': ['Connaissance du domaine fonctionnel', 1],\n",
       "  'ponderation': [20, 1]},\n",
       " {'critere': [\"Expériences similaires en accompagnement au changement, actions pédagogiques illustrant la capacité d'écoute, de reformulation et de synthèse\",\n",
       "   1],\n",
       "  'ponderation': [10, 1]}]"
      ]
     },
     "execution_count": 6,
     "metadata": {},
     "output_type": "execute_result"
    }
   ],
   "source": [
    "CRITERIAS  = rec_json_data['sous_criteres_techniques_et_ponderation']\n",
    "\n",
    "CRITERIAS"
   ]
  },
  {
   "cell_type": "code",
   "execution_count": 7,
   "metadata": {},
   "outputs": [],
   "source": [
    "SCALE = {\n",
    "    0: \"Ne répond pas au besoin\",\n",
    "    1: \"Ne répond pas suffisamment au besoin\",\n",
    "    2: \"Répond partiellement au besoin\",\n",
    "    3: \"Répond correctement au besoin\",\n",
    "    4: \"Très bonne réponse\",\n",
    "    5: \"Réponse au-delà des attentes\"\n",
    "}"
   ]
  },
  {
   "cell_type": "markdown",
   "metadata": {},
   "source": [
    "### 1 appel LLM pour tous les criteres"
   ]
  },
  {
   "cell_type": "code",
   "execution_count": 7,
   "metadata": {},
   "outputs": [],
   "source": [
    "from dag_nao.modules.technical_notation.compare_experiences.llm_comparator import LLMComparator"
   ]
  },
  {
   "cell_type": "code",
   "execution_count": 8,
   "metadata": {},
   "outputs": [],
   "source": [
    "comp = LLMComparator()"
   ]
  },
  {
   "cell_type": "code",
   "execution_count": 9,
   "metadata": {},
   "outputs": [
    {
     "name": "stdout",
     "output_type": "stream",
     "text": [
      "Note technique : 3.5\n"
     ]
    }
   ],
   "source": [
    "a, b, c = comp.call_comparator(REQUIREMENTS, RESUME, CRITERIAS, SCALE)"
   ]
  },
  {
   "cell_type": "code",
   "execution_count": 11,
   "metadata": {},
   "outputs": [
    {
     "name": "stdout",
     "output_type": "stream",
     "text": [
      "Voici mon analyse détaillée du CV par rapport aux critères fournis :\n",
      "\n",
      "<scratchpad>\n",
      "Critère 1 : Qualité de la réponse (Compréhension du besoin, le cas échéant outils et méthodologie proposés)\n",
      "- Le CV ne mentionne pas explicitement la compréhension du besoin ou les outils/méthodologies proposés pour cette mission spécifique. Il décrit les expériences et compétences générales du candidat.\n",
      "=> Score : 2 (Répond partiellement au besoin)\n",
      "\n",
      "Critère 2 : Nombre et pertinence des expériences similaires\n",
      "- Le candidat a une longue expérience de plus de 20 ans dans des rôles similaires de support technique, gestion des utilisateurs, administration de parc informatique, etc.\n",
      "- Ses expériences chez Avancial, SFR et SNCF semblent très pertinentes pour les tâches décrites dans l'appel d'offre.\n",
      "=> Score : 4 (Très bonne réponse)\n",
      "\n",
      "Critère 3 : Compétences techniques  \n",
      "- Le CV montre une solide expertise technique dans les domaines requis : gestion de flottes mobiles Android/iOS, parc PC Windows/Mac, environnement O365/Active Directory/VPN.\n",
      "- Le candidat a suivi de nombreuses formations techniques pertinentes.\n",
      "=> Score : 5 (Réponse au-delà des attentes)\n",
      "\n",
      "Critère 4 : Connaissance du domaine fonctionnel\n",
      "- Le CV ne mentionne pas spécifiquement le domaine fonctionnel de la SNCF, mais les expériences chez Avancial (transport) et la longue carrière dans le support technique sont un bon point.\n",
      "=> Score : 3 (Répond correctement au besoin)\n",
      "\n",
      "Critère 5 : Expériences similaires en accompagnement au changement, actions pédagogiques\n",
      "- Plusieurs expériences mentionnent la rédaction de procédures, la communication, le conseil aux utilisateurs, ce qui implique des capacités pédagogiques.\n",
      "- Cependant, il n'y a pas de détails spécifiques sur l'accompagnement au changement.\n",
      "=> Score : 3 (Répond correctement au besoin)\n",
      "</scratchpad>\n",
      "\n",
      "<json_output>\n",
      "{\n",
      "\"Qualité de la réponse (Compréhension du besoin, le cas échéant outils et méthodologie proposés)\": {\n",
      "\"justification\": \"Le CV ne mentionne pas explicitement la compréhension du besoin ou les outils/méthodologies proposés pour cette mission spécifique. Il décrit les expériences et compétences générales du candidat.\",\n",
      "\"score\": 2\n",
      "},\n",
      "\"Nombre et pertinence des expériences similaires\": {\n",
      "\"justification\": \"Le candidat a une longue expérience de plus de 20 ans dans des rôles similaires de support technique, gestion des utilisateurs, administration de parc informatique, etc. Ses expériences chez Avancial, SFR et SNCF semblent très pertinentes pour les tâches décrites dans l'appel d'offre.\",\n",
      "\"score\": 4\n",
      "},\n",
      "\"Compétences techniques\": {\n",
      "\"justification\": \"Le CV montre une solide expertise technique dans les domaines requis : gestion de flottes mobiles Android/iOS, parc PC Windows/Mac, environnement O365/Active Directory/VPN. Le candidat a suivi de nombreuses formations techniques pertinentes.\",\n",
      "\"score\": 5\n",
      "},\n",
      "\"Connaissance du domaine fonctionnel\": {\n",
      "\"justification\": \"Le CV ne mentionne pas spécifiquement le domaine fonctionnel de la SNCF, mais les expériences chez Avancial (transport) et la longue carrière dans le support technique sont un bon point.\",\n",
      "\"score\": 3\n",
      "},\n",
      "\"Expériences similaires en accompagnement au changement, actions pédagogiques\": {\n",
      "\"justification\": \"Plusieurs expériences mentionnent la rédaction de procédures, la communication, le conseil aux utilisateurs, ce qui implique des capacités pédagogiques. Cependant, il n'y a pas de détails spécifiques sur l'accompagnement au changement.\",\n",
      "\"score\": 3\n",
      "}\n",
      "}\n",
      "</json_output>\n"
     ]
    }
   ],
   "source": [
    "print(a)"
   ]
  },
  {
   "cell_type": "code",
   "execution_count": 13,
   "metadata": {},
   "outputs": [
    {
     "data": {
      "text/plain": [
       "{'Qualité de la réponse (Compréhension du besoin, le cas échéant outils et méthodologie proposés)': {'justification': 'Le CV ne mentionne pas explicitement la compréhension du besoin ou les outils/méthodologies proposés pour cette mission spécifique. Il décrit les expériences et compétences générales du candidat.',\n",
       "  'score': 2},\n",
       " 'Nombre et pertinence des expériences similaires': {'justification': \"Le candidat a une longue expérience de plus de 20 ans dans des rôles similaires de support technique, gestion des utilisateurs, administration de parc informatique, etc. Ses expériences chez Avancial, SFR et SNCF semblent très pertinentes pour les tâches décrites dans l'appel d'offre.\",\n",
       "  'score': 4},\n",
       " 'Compétences techniques': {'justification': 'Le CV montre une solide expertise technique dans les domaines requis : gestion de flottes mobiles Android/iOS, parc PC Windows/Mac, environnement O365/Active Directory/VPN. Le candidat a suivi de nombreuses formations techniques pertinentes.',\n",
       "  'score': 5},\n",
       " 'Connaissance du domaine fonctionnel': {'justification': 'Le CV ne mentionne pas spécifiquement le domaine fonctionnel de la SNCF, mais les expériences chez Avancial (transport) et la longue carrière dans le support technique sont un bon point.',\n",
       "  'score': 3},\n",
       " 'Expériences similaires en accompagnement au changement, actions pédagogiques': {'justification': \"Plusieurs expériences mentionnent la rédaction de procédures, la communication, le conseil aux utilisateurs, ce qui implique des capacités pédagogiques. Cependant, il n'y a pas de détails spécifiques sur l'accompagnement au changement.\",\n",
       "  'score': 3}}"
      ]
     },
     "execution_count": 13,
     "metadata": {},
     "output_type": "execute_result"
    }
   ],
   "source": [
    "b"
   ]
  },
  {
   "cell_type": "code",
   "execution_count": 14,
   "metadata": {},
   "outputs": [
    {
     "name": "stdout",
     "output_type": "stream",
     "text": [
      "3.5\n"
     ]
    }
   ],
   "source": [
    "print(c)"
   ]
  },
  {
   "cell_type": "markdown",
   "metadata": {},
   "source": [
    "### 1 appel LLM par critere"
   ]
  },
  {
   "cell_type": "code",
   "execution_count": 8,
   "metadata": {},
   "outputs": [],
   "source": [
    "from dag_nao.modules.technical_notation.compare_experiences_per_criteria.llm_comparator import LLMComparator"
   ]
  },
  {
   "cell_type": "code",
   "execution_count": 9,
   "metadata": {},
   "outputs": [],
   "source": [
    "comp2 = LLMComparator()"
   ]
  },
  {
   "cell_type": "code",
   "execution_count": 10,
   "metadata": {},
   "outputs": [
    {
     "name": "stdout",
     "output_type": "stream",
     "text": [
      "Note technique : 3.0999999999999996\n"
     ]
    }
   ],
   "source": [
    "a, b, c = comp2.call_comparator(REQUIREMENTS, RESUME, CRITERIAS, SCALE)"
   ]
  },
  {
   "cell_type": "code",
   "execution_count": 13,
   "metadata": {},
   "outputs": [
    {
     "data": {
      "text/plain": [
       "{'Qualité de la réponse (Compréhension du besoin, le cas échéant outils et méthodologie proposés)': {'justification': \"Le candidat a une expérience pertinente en support bureautique, gestion de parc et qualité, avec des tâches similaires à celles décrites dans l'appel d'offre. Cependant, son CV ne détaille pas suffisamment sa compréhension spécifique des besoins liés à l'environnement O365/Active Directory/VPN demandé, ni les outils et méthodologies qu'il pourrait proposer. Certaines expériences semblent également un peu anciennes. Dans l'ensemble, le CV répond partiellement au besoin sur ce critère.\",\n",
       "  'score': 2},\n",
       " 'Nombre et pertinence des expériences similaires': {'justification': \"Le candidat possède 6 ans d'expérience très pertinente en tant que Support Méthode, qualité et Sécurité chez AVANCIAL, où il gérait les incidents, le support bureautique et la documentation, ce qui correspond aux principales responsabilités de la mission. Il a également 6 ans d'expérience en tant que Responsable qualité/méthode chez SFR, impliquant la gestion d'équipe, les audits et l'amélioration des procédures. Ses expériences antérieures chez SNCF, Citroën et Canon couvraient également le support bureautique et la documentation. Cependant, aucune expérience ne semble spécifiquement liée à la gestion des stocks et approvisionnements qui fait partie des responsabilités clés. Dans l'ensemble, le candidat dispose d'un grand nombre d'expériences très pertinentes pour la plupart des aspects de la mission.\",\n",
       "  'score': 4},\n",
       " 'Compétences techniques': {'justification': \"Le candidat possède une solide expérience dans la gestion des services bureautiques, l'assistance aux utilisateurs, la gestion des incidents et la documentation. Cependant, son expérience semble davantage axée sur les environnements mainframe et les anciennes versions de Windows. Bien qu'il ait une expérience en support technique et dépannage, son CV ne mentionne pas spécifiquement de compétences techniques récentes sur les flottes mobiles Android/iOS, les parcs de PC sous Windows/Mac et les environnements O365/Active Directory/VPN qui sont requis pour cette mission. Globalement, le candidat répond partiellement aux exigences techniques de la mission.\",\n",
       "  'score': 2},\n",
       " 'Connaissance du domaine fonctionnel': {'justification': \"Le candidat possède une expérience significative dans la gestion des incidents bureautiques, l'assistance aux utilisateurs, la rédaction de procédures et la gestion des équipements, ce qui correspond bien aux tâches et responsabilités attendues pour la mission. Cependant, il semble manquer d'expérience spécifique dans la gestion de flottes mobiles sous Android et iOS, ainsi que dans l'environnement O365 et Active Directory/VPN, qui font partie de la stack technique requise.\",\n",
       "  'score': 4},\n",
       " \"Expériences similaires en accompagnement au changement, actions pédagogiques illustrant la capacité d'écoute, de reformulation et de synthèse\": {'justification': \"Le candidat possède une expérience significative dans le support aux utilisateurs, la communication, la rédaction de documentation et le conseil bureautique, ce qui est pertinent pour l'accompagnement au changement et les actions pédagogiques. Cependant, les informations spécifiques sur les actions pédagogiques réalisées et les capacités de reformulation/synthèse sont limitées dans le CV. Le candidat semble répondre correctement au besoin, mais des exemples plus concrets sur ces aspects auraient été bénéfiques.\",\n",
       "  'score': 3}}"
      ]
     },
     "execution_count": 13,
     "metadata": {},
     "output_type": "execute_result"
    }
   ],
   "source": [
    "b"
   ]
  },
  {
   "cell_type": "code",
   "execution_count": 14,
   "metadata": {},
   "outputs": [
    {
     "data": {
      "text/plain": [
       "3.0999999999999996"
      ]
     },
     "execution_count": 14,
     "metadata": {},
     "output_type": "execute_result"
    }
   ],
   "source": [
    "c"
   ]
  }
 ],
 "metadata": {
  "kernelspec": {
   "display_name": "Python 3",
   "language": "python",
   "name": "python3"
  },
  "language_info": {
   "codemirror_mode": {
    "name": "ipython",
    "version": 3
   },
   "file_extension": ".py",
   "mimetype": "text/x-python",
   "name": "python",
   "nbconvert_exporter": "python",
   "pygments_lexer": "ipython3",
   "version": "3.11.9"
  }
 },
 "nbformat": 4,
 "nbformat_minor": 2
}
