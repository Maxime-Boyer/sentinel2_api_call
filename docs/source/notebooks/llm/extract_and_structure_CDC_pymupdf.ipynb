{
 "cells": [
  {
   "cell_type": "code",
   "execution_count": 1,
   "metadata": {},
   "outputs": [],
   "source": [
    "%load_ext autoreload\n",
    "%autoreload 2"
   ]
  },
  {
   "cell_type": "code",
   "execution_count": 2,
   "metadata": {},
   "outputs": [],
   "source": [
    "import json\n",
    "from dag_nao.modules.llm_backend.file_structurer.llm_file_structurer import LLMFileStructurer"
   ]
  },
  {
   "cell_type": "code",
   "execution_count": 3,
   "metadata": {},
   "outputs": [],
   "source": [
    "from dag_nao.modules.readers.read_files import MultipleFilesReader\n",
    "\n",
    "extractor = MultipleFilesReader()\n",
    "doc_path = \"/workspace/data/03-AppelsOffre-anonyme/2023DOS0550696 - Technicien Support Utilisateurs/ao_sncf/CDC-technicien _support_utilisateurs.pdf\"\n",
    "document_string_list = extractor.read_all_documents(doc_path)"
   ]
  },
  {
   "cell_type": "markdown",
   "metadata": {},
   "source": []
  },
  {
   "cell_type": "code",
   "execution_count": 4,
   "metadata": {},
   "outputs": [],
   "source": [
    "document_string = document_string_list[0]"
   ]
  },
  {
   "cell_type": "code",
   "execution_count": 5,
   "metadata": {},
   "outputs": [
    {
     "data": {
      "text/plain": [
       "'1 \\n  \\nInterne \\nSNCF – GC – DDT – QoS  \\n20230525 \\n \\n \\nCONSULTATION PRESTATIONS INFORMATIQUES \\nAU TITRE DU CONTRAT-CADRE AST & DIGITAL 2021 \\n \\nRéférence à rappeler dans toute correspondance : 20230525_GFN-CSIE \\n1 \\nCONTEXTE \\n1.1 SNCF Gares & Connexions est l’entreprise gestionnaire des 3000 gares Française. Elle en assure le pilotage \\nstratégique, la conception, la construction, l’aménagement, la maintenance, la promotion, la valorisation, \\nl’animation mais aussi la gestion opérationnelle des circulations et des voyageurs  passants  chalands. \\n1.2 En son sein, la Direction Digital & Technologie pilote le SI et les Service Digitaux mais assure aussi la Gestion de \\nFlottes de smartphones et l’assistance informatique pour les utilisateurs du siège, objet de cette consultation. \\n2 \\nDESCRIPTION DE LA MISSION \\n2.1 Objectifs \\nLa mission objet de cette consultation vise à décharger les équipes SNCF dans trois domaines concernant les services \\nbureautiques et digitaux au sens large : \\n- \\nLa gestion courante des sollicitations et demandes ; \\n- \\nL’assistance et le conseil aux utilisateurs ; \\n- \\nLa gestion des stocks, de l’approvisionnement à la mise au rebus en passant par la remise en main. \\n2.2 Description détaillée des tâches qui constituent la mission \\n- \\nTraiter les demandes des agents G&C reçues via le portail interne Digital Office ; \\n- \\nPrendre en charge les déclarations d’incidents ou d’anomalie de fonctionnement bureautique quand les \\nprocessus standard des porteurs de services ne suffisent pas ; \\n- \\nAlerter  escalader en interne DDT etou chez les fournisseurs ;  \\n- \\nAssurer le lien avec les différentes assistances et support pour garantir qu’une réponse soit apportée aux \\nutilisateurs ; \\n- \\nGérer le stock, les dotations et les retours d’équipements PC, tablettes, smartphones pour l’ensemble du siège \\nde G&C ; \\n- \\nAssister le CSIE dans la gestion des commandes : déclenchement du réappro, suivi, relance ; \\n- \\nAssurer le tri des matériels à évacuer (recyclage, collecte SNCF) ; \\n- \\nAssurer physiquement les remises et retours d’équipements ; \\n- \\nAssister les utilisateurs dans la prise en main et le paramétrage des équipements (en particulier smartphone et \\ntablette) ; \\n- \\nApporter conseil à l’utilisation bureautique et accompagnement sur les outils digitaux ; \\n- \\nPrendre en charge des actions de communication et de pédagogie au nom de la DDT ; \\n- \\nRédiger des procédures, des tutoriels, des consignes ; \\n- \\nParticiper à de mini-projets concernant la gestion du site. \\n \\n2.3 Résultats attendus etou livrables avec échéancier si besoin \\nSatisfaction client tenue au meilleur niveau. Corpus documentaire, outils et suivi régulièrement revus et complétés. \\nAnticipation dans la gestion des stocks et autres fournitures. Alertes et escalades à bon escient. \\n \\n2.4 Dates souhaitées de début et de fin de mission \\nPériode ferme :  De juillet 2023 à juillet 2024 \\nPériode optionnelle 1 : De juillet 2024 à décembre 2024 \\nPériode optionnelle 2 : De janvier 2025 à juin 2025 \\nPériode optionnelle 3 : De juillet 2025 à décembre 2025 \\nPériode optionnelle 4 : De janvier 2026 à juin 2026 \\n \\n2 \\n  \\nInterne \\nLes périodes optionnelles seront levées sur demande expresse du client et si et seulement si les périodes \\noptionnelles du contrat-cadre sont levées également.  \\n \\n2.5 Code  libellé profil contrat cadre AST 2021 : 701.E.PAR - Support Méthode, qualité et Sécurité Expert - ouvert à des \\nprofils Senior (701.S.PAR) \\n3 \\nCONDITIONS D’EXECUTION DE LA MISSION \\n3.1 Localisation : 16 avenue d’Ivry – 75 013 Paris,  \\n3.2 Organisation de l’équipe : Equipe GFN  CSIE constituée d’un Chef d’équipe et de deux missions d’assistance, \\nrattachée au Pôle « Qualité de Service et Pilotage du RUN » de la « Direction Digital et Technologie » \\n3.3 Informations disponibles (documentations, …) : Le prestataire aura accès à l’ensemble du fonds documentaire de \\nl’équipe. \\n3.4 Responsables SNCF du suivi de la mission \\nLe prestataire reste sous la supervision directe de son employeur, mais devra aviser de l’avancement de la \\nprestation auprès de \\n – CSIE Central GC. \\n4 \\nACCESSIBILITE ET INCLUSION \\n4.1 Fréquence et organisation de réunions à plus de 3 personnes : Peu de réunions en gros comité mais des échanges \\ncontinus avec les utilisateurs ; l’aisance relationnelle fait partie des facteurs clef de réussite. \\n4.2 Accessibilité des locaux en transports en commun : Site principal de la mission accessible en transports en commun.  \\n4.3 Accessibilité des locaux en fauteuil roulant : Bureau en rez de chaussée et accessible aux PMRPSH mais la mission \\noblige à de nombreux et fréquents déplacements dans tout le bâtiment et à des gestes de manutention au quotidien. \\nIl est indispensable de pouvoir porter et manipuler des charges en toute autonomie. \\n4.4 Organisation du lieu de travail (open space de plus de trois bureaux, bureaux individuels…) : Open Space et nombreux \\néchanges à distance (usage du micro-casque). \\n4.5 Possibilité de télétravail ou de travail depuis une autre localisation en cas de travailleurs handicapés : Uniquement \\nde manière ponctuelle et exceptionnelle. \\n \\n5 \\nPARTICULARITES DE LA MISSION \\n5.1 Particularités : De nombreux contacts avec de nombreux intervenants tant internes qu’externes et tant techniques \\nque métier. Cette mission requiert une expérience significative dans la gestion de parc bureautique, de solides bases \\ntechniques sur les infrastructures informatiques et une réelle aisance relationnelle. \\n5.2 Astreintes à prévoir : Non. \\n5.3 Déplacements à prévoir : Très rares (< 4 par an sauf périodes particulières). \\n5.4 Possibilité de télétravail : Non (ou exceptionnellement). \\n5.5 Equipements informatiques (le fournisseur doit-il  peut-il utiliser son propre matériel ?) : Non, le matériel sera \\nfourni par SNCF. \\n6 \\nAUTRES POINTS \\n6.1 Profil(s) le(s) plus à même de remplir la prestation (compétences requises et souhaitées) : Personne ayant déjà piloté \\ndes parcs bureautiques etou des flottes mobiles. Technicien aguerri, autonome dans le diagnostic voire la \\nremédiation de problème bureautique  mobile et même de problème sur les infrastructures (réseau, VPN, \\n \\n3 \\n  \\nInterne \\nhabilitations, opérateurs, store, etc…).  Suffisamment expérimenté et autonome pour tenir le service en récurrent \\net alerter à bon escient. \\n6.2 Environnement technique : Flottes sous Android et iOS, parc de PC sous Windows et Mac, environnement \\nbureautique O365 dans un contexte Active Directory  VPN. \\n6.3 Estimation du volume de la prestation (en jours) : 210 jours par an, soit 630 jours maximum en cas de levée d’option'"
      ]
     },
     "execution_count": 5,
     "metadata": {},
     "output_type": "execute_result"
    }
   ],
   "source": [
    "document_string"
   ]
  },
  {
   "cell_type": "code",
   "execution_count": 6,
   "metadata": {},
   "outputs": [
    {
     "name": "stdout",
     "output_type": "stream",
     "text": [
      "{\n",
      "    \"duree_de_la_mission\": 630,\n",
      "    \"nombre_de_profils\": 1,\n",
      "    \"types_de_profils\": [\n",
      "        {\n",
      "            \"type\": \"701.E.PAR\"\n",
      "        }\n",
      "    ],\n",
      "    \"types_de_profils_variante\": [\n",
      "        {\n",
      "            \"type\": \"701.S.PAR\"\n",
      "        }\n",
      "    ],\n",
      "    \"taches_et_responsabilites\": [\n",
      "        {\n",
      "            \"tache_et_responsabilite\": \"Traiter les demandes des agents G&C reçues via le portail interne Digital Office\"\n",
      "        },\n",
      "        {\n",
      "            \"tache_et_responsabilite\": \"Prendre en charge les déclarations d’incidents ou d’anomalie de fonctionnement bureautique quand les processus standard des porteurs de services ne suffisent pas\"\n",
      "        },\n",
      "        {\n",
      "            \"tache_et_responsabilite\": \"Alerter  escalader en interne DDT etou chez les fournisseurs\"\n",
      "        },\n",
      "        {\n",
      "            \"tache_et_responsabilite\": \"Assurer le lien avec les différentes assistances et support pour garantir qu’une réponse soit apportée aux utilisateurs\"\n",
      "        },\n",
      "        {\n",
      "            \"tache_et_responsabilite\": \"Gérer le stock, les dotations et les retours d’équipements PC, tablettes, smartphones pour l’ensemble du siège de G&C\"\n",
      "        },\n",
      "        {\n",
      "            \"tache_et_responsabilite\": \"Assister le CSIE dans la gestion des commandes : déclenchement du réappro, suivi, relance\"\n",
      "        },\n",
      "        {\n",
      "            \"tache_et_responsabilite\": \"Assurer le tri des matériels à évacuer (recyclage, collecte SNCF)\"\n",
      "        },\n",
      "        {\n",
      "            \"tache_et_responsabilite\": \"Assurer physiquement les remises et retours d’équipements\"\n",
      "        },\n",
      "        {\n",
      "            \"tache_et_responsabilite\": \"Assister les utilisateurs dans la prise en main et le paramétrage des équipements (en particulier smartphone et tablette)\"\n",
      "        },\n",
      "        {\n",
      "            \"tache_et_responsabilite\": \"Apporter conseil à l’utilisation bureautique et accompagnement sur les outils digitaux\"\n",
      "        },\n",
      "        {\n",
      "            \"tache_et_responsabilite\": \"Prendre en charge des actions de communication et de pédagogie au nom de la DDT\"\n",
      "        },\n",
      "        {\n",
      "            \"tache_et_responsabilite\": \"Rédiger des procédures, des tutoriels, des consignes\"\n",
      "        },\n",
      "        {\n",
      "            \"tache_et_responsabilite\": \"Participer à de mini-projets concernant la gestion du site\"\n",
      "        }\n",
      "    ],\n",
      "    \"competences_du_profils\": [\n",
      "        {\n",
      "            \"competence\": \"Personne ayant déjà piloté des parcs bureautiques etou des flottes mobiles\"\n",
      "        },\n",
      "        {\n",
      "            \"competence\": \"Technicien aguerri, autonome dans le diagnostic voire la remédiation de problème bureautique  mobile et même de problème sur les infrastructures (réseau, VPN, habilitations, opérateurs, store, etc...)\"\n",
      "        },\n",
      "        {\n",
      "            \"competence\": \"Suffisamment expérimenté et autonome pour tenir le service en récurrent et alerter à bon escient\"\n",
      "        }\n",
      "    ]\n",
      "}\n"
     ]
    }
   ],
   "source": [
    "def print_dict(d: dict) -> None:\n",
    "    print(json.dumps(d, indent=4, ensure_ascii=False))\n",
    "\n",
    "llm_backend = LLMFileStructurer()\n",
    "semantic_type_document = \"CDC\"\n",
    "# CV_Experiences\n",
    "\n",
    "response = llm_backend.structure_parsed_file(\n",
    "    file_content=document_string, semantic_type_document=semantic_type_document\n",
    ")\n",
    "# data = json.loads(response.arguments)\n",
    "print_dict(response)"
   ]
  },
  {
   "cell_type": "code",
   "execution_count": 7,
   "metadata": {},
   "outputs": [],
   "source": [
    "with open(\"CDC_no_metadata_json_data.json\", \"w\") as outfile: \n",
    "    json.dump(response, outfile)"
   ]
  },
  {
   "cell_type": "code",
   "execution_count": 8,
   "metadata": {},
   "outputs": [
    {
     "ename": "AttributeError",
     "evalue": "'str' object has no attribute 'get'",
     "output_type": "error",
     "traceback": [
      "\u001b[0;31m---------------------------------------------------------------------------\u001b[0m",
      "\u001b[0;31mAttributeError\u001b[0m                            Traceback (most recent call last)",
      "Cell \u001b[0;32mIn[8], line 37\u001b[0m\n\u001b[1;32m     33\u001b[0m             \u001b[38;5;28;01melse\u001b[39;00m:\n\u001b[1;32m     34\u001b[0m                 \u001b[38;5;66;03m# Handle other types\u001b[39;00m\n\u001b[1;32m     35\u001b[0m                 csv_writer\u001b[38;5;241m.\u001b[39mwriterow([key, \u001b[38;5;28mstr\u001b[39m(value), \u001b[38;5;124m\"\u001b[39m\u001b[38;5;124m\"\u001b[39m])\n\u001b[0;32m---> 37\u001b[0m \u001b[43mcreate_csv\u001b[49m\u001b[43m(\u001b[49m\u001b[43mresponse\u001b[49m\u001b[43m,\u001b[49m\u001b[43m \u001b[49m\u001b[38;5;124;43m\"\u001b[39;49m\u001b[38;5;124;43mCDC_json_data.csv\u001b[39;49m\u001b[38;5;124;43m\"\u001b[39;49m\u001b[43m)\u001b[49m\n",
      "Cell \u001b[0;32mIn[8], line 23\u001b[0m, in \u001b[0;36mcreate_csv\u001b[0;34m(json_data, filename)\u001b[0m\n\u001b[1;32m     21\u001b[0m     \u001b[38;5;28;01mfor\u001b[39;00m sub_key, sub_value \u001b[38;5;129;01min\u001b[39;00m item\u001b[38;5;241m.\u001b[39mitems():\n\u001b[1;32m     22\u001b[0m         \u001b[38;5;28;01mif\u001b[39;00m sub_key \u001b[38;5;241m!=\u001b[39m \u001b[38;5;124m\"\u001b[39m\u001b[38;5;124mpage\u001b[39m\u001b[38;5;124m\"\u001b[39m:\n\u001b[0;32m---> 23\u001b[0m             csv_writer\u001b[38;5;241m.\u001b[39mwriterow([key, sub_value[\u001b[38;5;241m0\u001b[39m], \u001b[43msub_value\u001b[49m\u001b[43m[\u001b[49m\u001b[38;5;241;43m1\u001b[39;49m\u001b[43m]\u001b[49m\u001b[38;5;241;43m.\u001b[39;49m\u001b[43mget\u001b[49m(\u001b[38;5;124m\"\u001b[39m\u001b[38;5;124mpage\u001b[39m\u001b[38;5;124m\"\u001b[39m, \u001b[38;5;124m\"\u001b[39m\u001b[38;5;124m\"\u001b[39m)])\n\u001b[1;32m     24\u001b[0m \u001b[38;5;28;01melse\u001b[39;00m:\n\u001b[1;32m     25\u001b[0m     \u001b[38;5;66;03m# Write value as is if not a dictionary\u001b[39;00m\n\u001b[1;32m     26\u001b[0m     csv_writer\u001b[38;5;241m.\u001b[39mwriterow([key, item, \u001b[38;5;124m\"\u001b[39m\u001b[38;5;124m\"\u001b[39m])\n",
      "\u001b[0;31mAttributeError\u001b[0m: 'str' object has no attribute 'get'"
     ]
    }
   ],
   "source": [
    "import csv\n",
    "import json\n",
    "\n",
    "\n",
    "def create_csv(json_data, filename):\n",
    "    with open(filename, 'w', newline='') as csvfile:\n",
    "        csv_writer = csv.writer(csvfile)\n",
    "        \n",
    "        # Write header\n",
    "        csv_writer.writerow([\"Key\", \"Value\", \"Page\"])\n",
    "        \n",
    "        # Write rows\n",
    "        for key, value in json_data.items():\n",
    "            if isinstance(value, list):\n",
    "                if len(value) == 2 and isinstance(value[1], dict):\n",
    "                    csv_writer.writerow([key, value[0], value[1].get(\"page\", \"\")])\n",
    "                else:\n",
    "                    for item in value:\n",
    "                        if isinstance(item, dict):\n",
    "                            # Extract value and page from the dictionary\n",
    "                            for sub_key, sub_value in item.items():\n",
    "                                if sub_key != \"page\":\n",
    "                                    csv_writer.writerow([key, sub_value[0], sub_value[1].get(\"page\", \"\")])\n",
    "                        else:\n",
    "                            # Write value as is if not a dictionary\n",
    "                            csv_writer.writerow([key, item, \"\"])\n",
    "            elif isinstance(value, dict) and len(value) == 2:\n",
    "                # Write value and page if it's a tuple with two elements\n",
    "                csv_writer.writerow([key, value[0], value[1].get(\"page\", \"\")])\n",
    "            elif isinstance(value, (int, str, float)):\n",
    "                # Write value as is for primary types\n",
    "                csv_writer.writerow([key, value, \"\"])\n",
    "            else:\n",
    "                # Handle other types\n",
    "                csv_writer.writerow([key, str(value), \"\"])\n",
    "\n",
    "create_csv(response, \"CDC_json_data.csv\")"
   ]
  }
 ],
 "metadata": {
  "kernelspec": {
   "display_name": "Python 3",
   "language": "python",
   "name": "python3"
  },
  "language_info": {
   "codemirror_mode": {
    "name": "ipython",
    "version": 3
   },
   "file_extension": ".py",
   "mimetype": "text/x-python",
   "name": "python",
   "nbconvert_exporter": "python",
   "pygments_lexer": "ipython3",
   "version": "3.11.9"
  }
 },
 "nbformat": 4,
 "nbformat_minor": 2
}
