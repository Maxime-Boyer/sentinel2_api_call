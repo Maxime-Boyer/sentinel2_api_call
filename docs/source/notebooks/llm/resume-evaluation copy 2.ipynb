{
 "cells": [
  {
   "cell_type": "code",
   "execution_count": 1,
   "metadata": {},
   "outputs": [],
   "source": [
    "# %pip install boto3==1.34.93 ipython --quiet\n",
    "\n",
    "%load_ext autoreload\n",
    "%autoreload 2"
   ]
  },
  {
   "cell_type": "code",
   "execution_count": 2,
   "metadata": {},
   "outputs": [],
   "source": [
    "# import boto3\n",
    "import json, re\n",
    "# %time\n",
    "# session = boto3.session.Session()\n",
    "# bedrock_client = session.client(\n",
    "#     service_name='bedrock-runtime',\n",
    "#     region_name='eu-west-3',\n",
    "# )\n",
    "\n",
    "# # Model id and Claude config\n",
    "# model_id = \"anthropic.claude-3-sonnet-20240229-v1:0\"\n",
    "# claude_config = {\n",
    "#     'max_tokens': 4096,\n",
    "#     'temperature': 0, \n",
    "#     'anthropic_version': '',\n",
    "#     'stop_sequences': ['Human:']\n",
    "# }"
   ]
  },
  {
   "cell_type": "code",
   "execution_count": 3,
   "metadata": {},
   "outputs": [],
   "source": [
    "# AO\n",
    "cdc_json_file_path = f\"/workspace/outputs/2023DOS0550696/json/ao/formatted_json_cdc.json\"\n",
    "rec_json_file_path = f\"/workspace/outputs/2023DOS0550696/json/ao/formatted_json_rec.json\"\n",
    "# CV\n",
    "entreprise = \"cgi\"\n",
    "cv_json_file_path = f\"/workspace/outputs/2023DOS0550696/json/{entreprise}/formatted_json_cv.json\""
   ]
  },
  {
   "cell_type": "code",
   "execution_count": 4,
   "metadata": {},
   "outputs": [
    {
     "name": "stdout",
     "output_type": "stream",
     "text": [
      "{'objectif_de_la_mission': [\"La mission objet de cette consultation vise à décharger les équipes SNCF dans trois domaines concernant les services bureautiques et digitaux au sens large : - La gestion courante des sollicitations et demandes ; - L'assistance et le conseil aux utilisateurs ; - La gestion des stocks, de l'approvisionnement à la mise au rebus en passant par la remise en main.\", 1], 'duree_de_la_mission': [210, 3], 'nombre_de_profils': [1, 2], 'types_de_profils': [{'type': ['701.E.PAR - Support Méthode, qualité et Sécurité Expert - ouvert à des profils Senior (701.S.PAR)', 2]}], 'taches_et_responsabilites': [{'tache_et_responsabilite': ['Traiter les demandes des agents G&C reçues via le portail interne Digital Office', 1]}, {'tache_et_responsabilite': [\"Prendre en charge les déclarations d'incidents ou d'anomalie de fonctionnement bureautique quand les processus standard des porteurs de services ne suffisent pas\", 1]}, {'tache_et_responsabilite': ['Alerter / escalader en interne DDT et/ou chez les fournisseurs', 1]}, {'tache_et_responsabilite': [\"Assurer le lien avec les différentes assistances et support pour garantir qu'une réponse soit apportée aux utilisateurs\", 1]}, {'tache_et_responsabilite': [\"Gérer le stock, les dotations et les retours d'équipements PC, tablettes, smartphones pour l'ensemble du siège de G&C\", 1]}, {'tache_et_responsabilite': ['Assister le CSIE dans la gestion des commandes : déclenchement du réappro, suivi, relance', 1]}, {'tache_et_responsabilite': ['Assurer le tri des matériels à évacuer (recyclage, collecte SNCF)', 1]}, {'tache_et_responsabilite': [\"Assurer physiquement les remises et retours d'équipements\", 1]}, {'tache_et_responsabilite': ['Assister les utilisateurs dans la prise en main et le paramétrage des équipements (en particulier smartphone et tablette)', 1]}, {'tache_et_responsabilite': [\"Apporter conseil à l'utilisation bureautique et accompagnement sur les outils digitaux\", 1]}, {'tache_et_responsabilite': ['Prendre en charge des actions de communication et de pédagogie au nom de la DDT', 1]}, {'tache_et_responsabilite': ['Rédiger des procédures, des tutoriels, des consignes', 1]}, {'tache_et_responsabilite': ['Participer à de mini-projets concernant la gestion du site', 1]}], 'competences_du_profils': [{'competence': ['Personne ayant déjà piloté des parcs bureautiques et/ou des flottes mobiles', 6]}, {'competence': ['Technicien aguerri, autonome dans le diagnostic voire la remédiation de problème bureautique / mobile et même de problème sur les infrastructures (réseau, VPN, habilitations, opérateurs, store, etc…)', 6]}, {'competence': ['Suffisamment expérimenté et autonome pour tenir le service en récurrent et alerter à bon escient', 6]}], 'stack_technique': [{'tache': ['Flottes sous Android et iOS', 6]}, {'tache': ['Parc de PC sous Windows et Mac', 6]}, {'tache': ['Environnement bureautique O365 dans un contexte Active Directory / VPN', 6]}], 'duree_de_la_mission_avec_option': [\"630 jours maximum en cas de levée d'option\", 3]}\n",
      "{'diplomes': [{'niveau_etude': 'N/A', 'date_obtention': 'N/A', 'diplome': 'N/A', 'competences_acquises': [{'tache': 'N/A'}]}], 'certifications': [{'date_obtention': '2019', 'certification': 'SQL pour Oracle débutant (PLB consultant)', 'competences_acquises': [{'tache': 'N/A'}]}, {'date_obtention': '2015', 'certification': 'Habilitation électrique H0-B0 (APAVE)', 'competences_acquises': [{'tache': 'N/A'}]}, {'date_obtention': '2012', 'certification': 'Habilitation électrique H0-B0 (APAVE)', 'competences_acquises': [{'tache': 'N/A'}]}, {'date_obtention': '2011', 'certification': 'Gestes et Postures', 'competences_acquises': [{'tache': 'N/A'}]}, {'date_obtention': '1999', 'certification': 'Fondamentaux du PC (UPGRADE)', 'competences_acquises': [{'tache': 'N/A'}]}, {'date_obtention': '1991', 'certification': 'Gestion de réseaux Netview (HELICE FORMATION)', 'competences_acquises': [{'tache': 'N/A'}]}, {'date_obtention': '1991', 'certification': 'VTAM/SNA (HELICE FORMATION)', 'competences_acquises': [{'tache': 'N/A'}]}, {'date_obtention': '1991', 'certification': 'IMS en Exploitation (HELICE FORMATION)', 'competences_acquises': [{'tache': 'N/A'}]}, {'date_obtention': '1991', 'certification': 'Initiation TP (HELICE FORMATION)', 'competences_acquises': [{'tache': 'N/A'}]}, {'date_obtention': '1991', 'certification': 'Contrôle et suivi des Performances (HELICE FORMATION)', 'competences_acquises': [{'tache': 'N/A'}]}, {'date_obtention': '1991', 'certification': 'Log. Et Tech. des Ordinateurs (HELICE FORMATION)', 'competences_acquises': [{'tache': 'N/A'}]}, {'date_obtention': '1990', 'certification': 'Contrôle et suivi des Performances (HELICE FORMATION)', 'competences_acquises': [{'tache': 'N/A'}]}, {'date_obtention': '1990', 'certification': 'Pupitre MVS & JES2 (HELICE FORMATION)', 'competences_acquises': [{'tache': 'N/A'}]}, {'date_obtention': '1990', 'certification': 'TSO/E & ISPF (HELICE FORMATION)', 'competences_acquises': [{'tache': 'N/A'}]}, {'date_obtention': '1990', 'certification': 'Présentation MVS (HELICE FORMATION)', 'competences_acquises': [{'tache': 'N/A'}]}, {'date_obtention': '1990', 'certification': 'Log. Et Tech. Des Ordinateurs (HELICE FORMATION)', 'competences_acquises': [{'tache': 'N/A'}]}], 'langues_parlees': [{'langue': 'Français', 'niveau': 'N/A'}], 'experiences_entreprise': [{'nom_entreprise': ['AVANCIAL – TRANSPORT', 1], 'duree_experience': ['6 ans', 1], 'date_debut_experience': ['2017-01-01', 1], 'date_fin_experience': ['2023-04-30', 1], 'nom_poste': ['Support Méthode, qualité et Sécurité', 1], 'stack_technique': [{'tache': [\"Garantir la qualité de la collecte des informations d'exécution des traitements.\", 1]}, {'tache': [\"Effectuer la collecte des informations des rejets de données liés à l'exécution des traitements.\", 1]}, {'tache': ['Assurer la mise en alerte de traitement selon des critères fonctionnels.', 1]}, {'tache': ['Générer les tableaux de bord.', 1]}, {'tache': [\"Prendre en charge les déclarations d'incidents ou d'anomalie de fonctionnement bureautique.\", 1]}, {'tache': [\"Rechercher et analyser la cause en cas d'alerte ou d'incident.\", 1]}, {'tache': ['Coordonner des actions de rétablissement ou palliatives.', 1]}, {'tache': ['Effectuer la communication Exploitant/MOE/MOA.', 1]}, {'tache': ['Assurer le maintien des compétences.', 1]}, {'tache': [\"Apporter conseil à l'utilisation bureautique.\", 1]}, {'tache': ['Prendre en charge des actions de communication.', 1]}, {'tache': ['Rédiger des procédures.', 1]}]}, {'nom_entreprise': ['SFR–BT Infra – TELEPHONIE', 2], 'duree_experience': ['6 ans', 2], 'date_debut_experience': ['2011-01-01', 2], 'date_fin_experience': ['2017-01-01', 2], 'nom_poste': ['Responsable qualité/ methode', 2], 'stack_technique': [{'tache': ['Démarche qualitative au Bureau Technique Infrastructure.', 2]}, {'tache': [\"Audit de l'ensemble des salles informatiques SFR et de la documentation.\", 2]}, {'tache': ['Amélioration des référentiels et des procédures.', 2]}, {'tache': [\"Contrôle quotidien de l'activité des intervenants.\", 2]}, {'tache': ['Préparation des chiffres et statistiques mensuels.', 2]}, {'tache': [\"Proposition et mise en place d'axes d'amélioration.\", 2]}, {'tache': [\"Apporter conseil à l'utilisation bureautique.\", 2]}, {'tache': ['Prendre en charge des actions de communication.', 2]}, {'tache': ['Rédiger des procédures.', 2]}]}, {'nom_entreprise': ['SNCF AVANCIAL – TRANSPORT', 2], 'duree_experience': ['10 ans', 2], 'date_debut_experience': ['2001-01-01', 2], 'date_fin_experience': ['2011-01-01', 2], 'nom_poste': ['Administration et gestion des utilisateurs', 2], 'stack_technique': [{'tache': ['Administration et gestion des utilisateurs, des applications et des impressions.', 2]}, {'tache': ['Gestion des tables de routage IP.', 2]}, {'tache': ['Installations logicielles MS/WINDOWS.', 2]}, {'tache': [\"Prendre en charge les déclarations d'incidents ou d'anomalie de fonctionnement bureautique.\", 2]}, {'tache': ['Installations Bureautique.', 2]}, {'tache': [\"Apporter conseil à l'utilisation bureautique.\", 2]}, {'tache': ['Prendre en charge des actions de communication.', 2]}, {'tache': ['Rédiger des procédures.', 2]}]}, {'nom_entreprise': ['CITROEN – PARC AUTO', 2], 'duree_experience': ['1 an', 2], 'date_debut_experience': ['2000-01-01', 2], 'date_fin_experience': ['2001-01-01', 2], 'nom_poste': ['Support technique', 2], 'stack_technique': [{'tache': ['Interventions sur sites.', 2]}, {'tache': ['Dépannage matériel.', 2]}, {'tache': ['Reconfiguration de postes de travail.', 2]}, {'tache': ['Installation de logiciels.', 2]}, {'tache': ['Cellule de pilotage du réseau points de vente.', 2]}, {'tache': ['Support applicatif premier niveau.', 2]}, {'tache': [\"Prise d'appels.\", 2]}, {'tache': ['Diagnostic, qualification et saisie en base de données des incidents.', 2]}, {'tache': ['Assistance bureautique aux utilisateurs.', 2]}, {'tache': [\"Gestion des droits d'accès.\", 2]}, {'tache': [\"Déclenchement des procédures d'escalades.\", 2]}]}, {'nom_entreprise': ['CANON – PHOTOCOPIEUR', 2], 'duree_experience': ['1 an', 2], 'date_debut_experience': ['1999-01-01', 2], 'date_fin_experience': ['2000-01-01', 2], 'nom_poste': ['Micro-réseau', 2], 'stack_technique': [{'tache': ['Installation, paramétrage, customisation des logiciels micro.', 2]}, {'tache': ['Dépannage sur sites des PC et des imprimantes.', 2]}, {'tache': ['Mise en place de la connectique réseaux.', 2]}, {'tache': ['Support technique téléphonique, montage des PCS.', 2]}, {'tache': ['Relations avec les constructeurs.', 2]}]}, {'nom_entreprise': ['CANON – PHOTOCOPIEUR', 3], 'duree_experience': ['11 ans', 3], 'date_debut_experience': ['1988-01-01', 3], 'date_fin_experience': ['1999-01-01', 3], 'nom_poste': ['Production', 3], 'stack_technique': [{'tache': ['Prise en charge du dispatching et du façonnage des impressions utilisateurs.', 3]}, {'tache': ['Administration du parc des supports magnétiques.', 3]}, {'tache': ['Administration des éditions sous CA/DISPATCH.', 3]}, {'tache': [\"Contrôle d'exploitation sous DDS.\", 3]}]}, {'nom_entreprise': 'AVANCIAL – TRANSPORT', 'nom_poste': 'Support Méthode, qualité et Sécurité', 'role': [{'tache': \"Garantir la qualité de la collecte des informations d'exécution des traitements.\"}, {'tache': \"Effectuer la collecte des informations des rejets de données liés à l'exécution des traitements.\"}, {'tache': 'Assurer la mise en alerte de traitement selon des critères fonctionnels (taux de rejet maximum, volume traité minimum, plage horaire de déclenchement…).'}, {'tache': 'Générer les tableaux de bord.'}, {'tache': \"Prendre en charge les déclarations d'incidents ou d'anomalie de fonctionnement bureautique\"}, {'tache': \"Rechercher et analyser la cause en cas d'alerte ou d'incident.\"}, {'tache': 'Coordonner des actions de rétablissement ou palliatives.'}, {'tache': 'Effectuer la communication Exploitant/MOE/MOA.'}, {'tache': 'Assurer le maintien des compétences (fiche de pilotage, procédure, documentation …).'}, {'tache': \"Apporter conseil à l'utilisation bureautique\"}, {'tache': 'Prendre en charge des actions de communication'}, {'tache': 'Rédiger des procédures'}]}, {'nom_entreprise': 'SFR–BT Infra – TELEPHONIE', 'nom_poste': 'Responsable qualité/ methode', 'role': [{'tache': 'Démarche qualitative au Bureau Technique Infrastructure.'}, {'tache': \"Audit de l'ensemble des salles informatiques SFR et de la documentation.\"}, {'tache': 'Amélioration des référentiels et des procédures.'}, {'tache': \"Contrôle quotidien de l'activité des intervenants (20 collaborateurs).\"}, {'tache': 'Préparation des chiffres et statistiques mensuels.'}, {'tache': \"Proposition et mise en place d'axes d'amélioration.\"}, {'tache': \"Apporter conseil à l'utilisation bureautique\"}, {'tache': 'Prendre en charge des actions de communication'}, {'tache': 'Rédiger des procédures'}]}, {'nom_entreprise': 'SNCF AVANCIAL – TRANSPORT', 'nom_poste': 'Administration et gestion des utilisateurs', 'role': [{'tache': 'Administration et gestion des utilisateurs, des applications et des impressions.'}, {'tache': 'Gestion des tables de routage IP.'}, {'tache': 'Installations logicielles MS/WINDOWS (NT, 95, 3.11).'}, {'tache': \"Prendre en charge les déclarations d'incidents ou d'anomalie de fonctionnement bureautique\"}, {'tache': 'Installations Bureautique (MS/EXCHANGE, MS/OFFICE, Internet EXPLORER,..).'}, {'tache': \"Apporter conseil à l'utilisation bureautique\"}, {'tache': 'Prendre en charge des actions de communication'}, {'tache': 'Rédiger des procédures'}]}, {'nom_entreprise': 'CITROEN – PARC AUTO', 'nom_poste': 'Support technique', 'role': [{'tache': 'Interventions sur sites (déplacements en France entière).'}, {'tache': 'Dépannage matériel (serveurs, postes de travail, imprimantes, …).'}, {'tache': 'Reconfiguration de postes de travail.'}, {'tache': 'Installation de logiciels.'}, {'tache': 'Cellule de pilotage du réseau points de vente.'}, {'tache': 'Support applicatif premier niveau.'}, {'tache': \"Prise d'appels.\"}, {'tache': 'Diagnostic, qualification et saisie en base de données des incidents.'}, {'tache': 'Assistance bureautique aux utilisateurs.'}, {'tache': \"Gestion des droits d'accès (mots de passe).\"}, {'tache': \"Déclenchement des procédures d'escalades.\"}]}, {'nom_entreprise': 'CANON – PHOTOCOPIEUR', 'nom_poste': 'Micro-réseau', 'role': [{'tache': 'Installation, paramétrage, customisation des logiciels micro (PACK-OFFICE, LOTUS-NOTES, etc…).'}, {'tache': 'Dépannage sur sites des PC et des imprimantes.'}, {'tache': 'Mise en place de la connectique réseaux.'}, {'tache': 'Déplacement sur la France entière.'}, {'tache': 'Support technique téléphonique, montage des PCS.'}, {'tache': 'Relations avec les constructeurs.'}]}, {'nom_entreprise': 'CANON – PHOTOCOPIEUR', 'nom_poste': 'Production', 'role': [{'tache': \"Dans le cadre d'une gérance d'exploitation, prise en charge du dispatching et du façonnage des impressions utilisateurs.\"}, {'tache': 'Administration du parc des supports magnétiques.'}, {'tache': 'Administration des éditions sous CA/DISPATCH.'}, {'tache': \"Contrôle d'exploitation sous DDS\"}]}]}\n"
     ]
    }
   ],
   "source": [
    "# Open the JSON file and load its contents\n",
    "with open(cdc_json_file_path, \"r\") as file:\n",
    "    cdc_json_data = json.load(file)\n",
    "with open(cv_json_file_path, \"r\") as file:\n",
    "    cv_json_data = json.load(file)\n",
    "with open(rec_json_file_path, \"r\") as file:\n",
    "    rec_json_data = json.load(file)\n",
    "\n",
    "# Now you can work with the loaded JSON data\n",
    "print(cdc_json_data)\n",
    "print(cv_json_data)\n",
    "\n",
    "# Add you json inputs here\n",
    "REQUIREMENTS = cdc_json_data\n",
    "RESUME = cv_json_data"
   ]
  },
  {
   "cell_type": "code",
   "execution_count": 5,
   "metadata": {},
   "outputs": [
    {
     "name": "stdout",
     "output_type": "stream",
     "text": [
      "['Qualité de la réponse (Compréhension du besoin, le cas échéant outils et méthodologie proposés)', 1]\n",
      "['Nombre et pertinence des expériences similaires', 1]\n",
      "['Compétences techniques', 1]\n",
      "['Connaissance du domaine fonctionnel', 1]\n",
      "[\"Expériences similaires en accompagnement au changement, actions pédagogiques illustrant la capacité d'écoute, de reformulation et de synthèse\", 1]\n"
     ]
    }
   ],
   "source": [
    "CRITERIAS  = rec_json_data['sous_criteres_techniques_et_ponderation']\n",
    "\n",
    "for critere_json in rec_json_data['sous_criteres_techniques_et_ponderation']:\n",
    "    print(critere_json['critere'])"
   ]
  },
  {
   "cell_type": "code",
   "execution_count": 6,
   "metadata": {},
   "outputs": [],
   "source": [
    "SCALE = {\n",
    "    0: \"Ne répond pas au besoin\",\n",
    "    1: \"Ne répond pas suffisamment au besoin\",\n",
    "    2: \"Répond partiellement au besoin\",\n",
    "    3: \"Répond correctement au besoin\",\n",
    "    4: \"Très bonne réponse\",\n",
    "    5: \"Réponse au-delà des attentes\"\n",
    "}\n"
   ]
  },
  {
   "cell_type": "code",
   "execution_count": 7,
   "metadata": {},
   "outputs": [],
   "source": [
    "# prompt = f\"\"\"\n",
    "# Vous êtes un assistant d'analyse des compétences techniques de CV dans le cadre de réponse à appel\n",
    "# d'offre du groupe SNCF. Votre tâche est d'évaluer un CV par rapport à un ensemble de critères\n",
    "# techniques pondérés fournis.\n",
    "\n",
    "# Voici les informations dont vous disposez :\n",
    "\n",
    "# <Requirements>\n",
    "# {REQUIREMENTS}\n",
    "# </Requirements>\n",
    "\n",
    "# <Criteria>\n",
    "# {CRITERIAS}\n",
    "# </Criteria>\n",
    "\n",
    "# <Resume>\n",
    "# {RESUME}\n",
    "# </Resume>\n",
    "\n",
    "# <Scale>\n",
    "# {SCALE}\n",
    "# </Scale>\n",
    "# \"\"\" + \"\"\"\n",
    "# Commencez par lire attentivement les exigences et les critères. Ensuite, analysez le CV par rapport\n",
    "# à chaque critère. Pour chaque critère, fournissez d'abord une justification détaillée de la note que\n",
    "# vous attribuez au candidat. Utilisez les informations du CV pour expliquer pourquoi vous pensez que\n",
    "# le candidat mérite cette note pour ce critère spécifique.\n",
    "\n",
    "# Après avoir fourni la justification, donnez une note numérique entre 1 et 5 en vous basant sur\n",
    "# l'échelle de notation fournie.\n",
    "\n",
    "# Une fois que vous avez analysé tous les critères, produisez un JSON avec les notes et les\n",
    "# justifications pour chaque critère.\n",
    "\n",
    "# Le format du JSON doit être le suivant :\n",
    "\n",
    "# {\n",
    "# 'critère 1': {\n",
    "# 'justification': 'Justification détaillée pour la note',\n",
    "# 'score': X\n",
    "# },\n",
    "# 'critère 2': {\n",
    "# 'justification': 'Justification détaillée pour la note',\n",
    "# 'score': Y\n",
    "# },\n",
    "# ...\n",
    "# }\n",
    "\n",
    "# Remplacez \"critère 1\", \"critère 2\", etc. par les noms réels des critères. Assurez-vous que les\n",
    "# justifications sont claires et détaillées, et que les scores sont conformes à l'échelle de notation\n",
    "# fournie.\n",
    "\n",
    "# <scratchpad>\n",
    "# Vous pouvez utiliser cette zone pour prendre des notes et organiser vos pensées avant de produire le\n",
    "# JSON final.\n",
    "# </scratchpad>\n",
    "\n",
    "# <json_output>\n",
    "# Écrivez votre sortie JSON ici.\n",
    "# </json_output>\n",
    "# \"\"\""
   ]
  },
  {
   "cell_type": "code",
   "execution_count": 8,
   "metadata": {},
   "outputs": [],
   "source": [
    "# def prepare_bedrock_request(messages, claude_config):\n",
    "#     return {\n",
    "#         'messages': messages,\n",
    "#         **claude_config,\n",
    "#     }\n",
    "# def extract_bedrock_response(response):\n",
    "#     body = json.loads(response['body'].read().decode('utf-8'))\n",
    "#     return body['content'][0]['text']\n",
    "\n",
    "def pretty_print(message):\n",
    "    print('\\n\\n'.join('\\n'.join(line.strip() for line in re.findall(r'.{1,100}(?:\\s+|$)', paragraph.strip('\\n'))) for paragraph in re.split(r'\\n\\n+', message)))"
   ]
  },
  {
   "cell_type": "code",
   "execution_count": 9,
   "metadata": {},
   "outputs": [],
   "source": [
    "# %%time\n",
    "# messages = [\n",
    "#     {\"role\": \"user\", \"content\": [\n",
    "#         {\"type\": \"text\", \"text\": prompt},\n",
    "#         ]\n",
    "#     }\n",
    "# ]\n",
    "\n",
    "# body = prepare_bedrock_request(messages, claude_config)\n",
    "# response = bedrock_client.invoke_model(modelId=model_id, body=json.dumps(body))\n",
    "# formated_response = extract_bedrock_response(response)"
   ]
  },
  {
   "cell_type": "code",
   "execution_count": 10,
   "metadata": {},
   "outputs": [
    {
     "name": "stdout",
     "output_type": "stream",
     "text": [
      "Note technique : 4.3\n"
     ]
    }
   ],
   "source": [
    "from dag_nao.modules.technical_notation.single_resume_simple_call_comparator.llm_comparator import LLMComparator\n",
    "\n",
    "llm_comparator = LLMComparator()\n",
    "formated_response, formated_json_response, score = llm_comparator.call_comparator(requirements=REQUIREMENTS, criterias=CRITERIAS, resume=RESUME, scale=SCALE)"
   ]
  },
  {
   "cell_type": "code",
   "execution_count": 11,
   "metadata": {},
   "outputs": [
    {
     "name": "stdout",
     "output_type": "stream",
     "text": [
      "Voici mon analyse détaillée du CV par rapport aux critères fournis :\n",
      "\n",
      "<scratchpad>\n",
      "Critère 1 : Qualité de la réponse (Compréhension du besoin, le cas échéant outils et méthodologie\n",
      "proposés)\n",
      "- Le CV ne fournit pas d'informations spécifiques sur la compréhension du besoin ou les\n",
      "outils/méthodologies proposés pour cette mission. Il décrit principalement les expériences passées\n",
      "du candidat.\n",
      "=> Score : 2 (Répond partiellement au besoin)\n",
      "\n",
      "Critère 2 : Nombre et pertinence des expériences similaires\n",
      "- Le candidat a une expérience de 6 ans en tant que \"Support Méthode, qualité et Sécurité\" chez\n",
      "Avancial, qui semble très pertinente pour cette mission.\n",
      "- Il a également une expérience de 6 ans comme \"Responsable qualité/méthode\" chez SFR, également\n",
      "pertinente.\n",
      "- Ses autres expériences comme \"Administration et gestion des utilisateurs\" à la SNCF, \"Support\n",
      "technique\" chez Citroën et \"Micro-réseau\" chez Canon sont aussi en lien avec les tâches requises.\n",
      "=> Score : 5 (Réponse au-delà des attentes)\n",
      "\n",
      "Critère 3 : Compétences techniques\n",
      "- Le CV montre une solide expérience avec les parcs bureautiques Windows/Mac, la gestion de flottes\n",
      "mobiles Android/iOS, et les environnements O365/Active Directory, qui correspondent à la stack\n",
      "technique requise.\n",
      "- Les certifications comme \"SQL pour Oracle\" et les formations en réseaux/systèmes renforcent ses\n",
      "compétences techniques.\n",
      "=> Score : 5 (Réponse au-delà des attentes)\n",
      "\n",
      "Critère 4 : Connaissance du domaine fonctionnel\n",
      "- Le candidat a une longue expérience dans le support bureautique, la gestion de parcs informatiques\n",
      "et l'assistance aux utilisateurs, ce qui démontre une bonne connaissance du domaine fonctionnel.\n",
      "- Cependant, le CV ne fournit pas de détails spécifiques sur sa connaissance du domaine de la SNCF.\n",
      "=> Score : 4 (Très bonne réponse)\n",
      "\n",
      "Critère 5 : Expériences similaires en accompagnement au changement, actions pédagogiques\n",
      "- Le CV mentionne que le candidat a pris en charge des actions de communication et de pédagogie, et\n",
      "a rédigé des procédures et tutoriels, ce qui suggère des expériences en accompagnement au\n",
      "changement.\n",
      "- Cependant, les détails sur sa capacité d'écoute, de reformulation et de synthèse ne sont pas\n",
      "fournis.\n",
      "=> Score : 3 (Répond correctement au besoin)\n",
      "</scratchpad>\n",
      "\n",
      "<json_output>\n",
      "{\n",
      "\"Qualité de la réponse (Compréhension du besoin, le cas échéant outils et méthodologie proposés)\": {\n",
      "\"justification\": \"Le CV ne fournit pas d'informations spécifiques sur la compréhension du besoin ou\n",
      "les outils/méthodologies proposés pour cette mission. Il décrit principalement les expériences\n",
      "passées du candidat.\",\n",
      "\"score\": 2\n",
      "},\n",
      "\"Nombre et pertinence des expériences similaires\": {\n",
      "\"justification\": \"Le candidat a une expérience de 6 ans en tant que \\\"Support Méthode, qualité et\n",
      "Sécurité\\\" chez Avancial, qui semble très pertinente pour cette mission. Il a également une\n",
      "expérience de 6 ans comme \\\"Responsable qualité/méthode\\\" chez SFR, également pertinente. Ses autres\n",
      "expériences comme \\\"Administration et gestion des utilisateurs\\\" à la SNCF, \\\"Support technique\\\"\n",
      "chez Citroën et \\\"Micro-réseau\\\" chez Canon sont aussi en lien avec les tâches requises.\",\n",
      "\"score\": 5\n",
      "},\n",
      "\"Compétences techniques\": {\n",
      "\"justification\": \"Le CV montre une solide expérience avec les parcs bureautiques Windows/Mac, la\n",
      "gestion de flottes mobiles Android/iOS, et les environnements O365/Active Directory, qui\n",
      "correspondent à la stack technique requise. Les certifications comme \\\"SQL pour Oracle\\\" et les\n",
      "formations en réseaux/systèmes renforcent ses compétences techniques.\",\n",
      "\"score\": 5\n",
      "},\n",
      "\"Connaissance du domaine fonctionnel\": {\n",
      "\"justification\": \"Le candidat a une longue expérience dans le support bureautique, la gestion de\n",
      "parcs informatiques et l'assistance aux utilisateurs, ce qui démontre une bonne connaissance du\n",
      "domaine fonctionnel. Cependant, le CV ne fournit pas de détails spécifiques sur sa connaissance du\n",
      "domaine de la SNCF.\",\n",
      "\"score\": 4\n",
      "},\n",
      "\"Expériences similaires en accompagnement au changement, actions pédagogiques illustrant la capacité\n",
      "d'écoute, de reformulation et de synthèse\": {\n",
      "\"justification\": \"Le CV mentionne que le candidat a pris en charge des actions de communication et\n",
      "de pédagogie, et a rédigé des procédures et tutoriels, ce qui suggère des expériences en\n",
      "accompagnement au changement. Cependant, les détails sur sa capacité d'écoute, de reformulation et\n",
      "de synthèse ne sont pas fournis.\",\n",
      "\"score\": 3\n",
      "}\n",
      "}\n",
      "</json_output>\n"
     ]
    }
   ],
   "source": [
    "pretty_print(formated_response)"
   ]
  },
  {
   "cell_type": "code",
   "execution_count": 12,
   "metadata": {},
   "outputs": [
    {
     "data": {
      "text/plain": [
       "{'Qualité de la réponse (Compréhension du besoin, le cas échéant outils et méthodologie proposés)': {'justification': \"Le CV ne fournit pas d'informations spécifiques sur la compréhension du besoin ou les outils/méthodologies proposés pour cette mission. Il décrit principalement les expériences passées du candidat.\",\n",
       "  'score': 2},\n",
       " 'Nombre et pertinence des expériences similaires': {'justification': 'Le candidat a une expérience de 6 ans en tant que \"Support Méthode, qualité et Sécurité\" chez Avancial, qui semble très pertinente pour cette mission. Il a également une expérience de 6 ans comme \"Responsable qualité/méthode\" chez SFR, également pertinente. Ses autres expériences comme \"Administration et gestion des utilisateurs\" à la SNCF, \"Support technique\" chez Citroën et \"Micro-réseau\" chez Canon sont aussi en lien avec les tâches requises.',\n",
       "  'score': 5},\n",
       " 'Compétences techniques': {'justification': 'Le CV montre une solide expérience avec les parcs bureautiques Windows/Mac, la gestion de flottes mobiles Android/iOS, et les environnements O365/Active Directory, qui correspondent à la stack technique requise. Les certifications comme \"SQL pour Oracle\" et les formations en réseaux/systèmes renforcent ses compétences techniques.',\n",
       "  'score': 5},\n",
       " 'Connaissance du domaine fonctionnel': {'justification': \"Le candidat a une longue expérience dans le support bureautique, la gestion de parcs informatiques et l'assistance aux utilisateurs, ce qui démontre une bonne connaissance du domaine fonctionnel. Cependant, le CV ne fournit pas de détails spécifiques sur sa connaissance du domaine de la SNCF.\",\n",
       "  'score': 4},\n",
       " \"Expériences similaires en accompagnement au changement, actions pédagogiques illustrant la capacité d'écoute, de reformulation et de synthèse\": {'justification': \"Le CV mentionne que le candidat a pris en charge des actions de communication et de pédagogie, et a rédigé des procédures et tutoriels, ce qui suggère des expériences en accompagnement au changement. Cependant, les détails sur sa capacité d'écoute, de reformulation et de synthèse ne sont pas fournis.\",\n",
       "  'score': 3}}"
      ]
     },
     "execution_count": 12,
     "metadata": {},
     "output_type": "execute_result"
    }
   ],
   "source": [
    "formated_json_response"
   ]
  },
  {
   "cell_type": "code",
   "execution_count": 13,
   "metadata": {},
   "outputs": [
    {
     "data": {
      "text/plain": [
       "[{'critere': ['Qualité de la réponse (Compréhension du besoin, le cas échéant outils et méthodologie proposés)',\n",
       "   1],\n",
       "  'ponderation': [10, 1]},\n",
       " {'critere': ['Nombre et pertinence des expériences similaires', 1],\n",
       "  'ponderation': [30, 1]},\n",
       " {'critere': ['Compétences techniques', 1], 'ponderation': [30, 1]},\n",
       " {'critere': ['Connaissance du domaine fonctionnel', 1],\n",
       "  'ponderation': [20, 1]},\n",
       " {'critere': [\"Expériences similaires en accompagnement au changement, actions pédagogiques illustrant la capacité d'écoute, de reformulation et de synthèse\",\n",
       "   1],\n",
       "  'ponderation': [10, 1]}]"
      ]
     },
     "execution_count": 13,
     "metadata": {},
     "output_type": "execute_result"
    }
   ],
   "source": [
    "CRITERIAS"
   ]
  },
  {
   "cell_type": "code",
   "execution_count": 14,
   "metadata": {},
   "outputs": [
    {
     "name": "stdout",
     "output_type": "stream",
     "text": [
      "Note technique : 4.3\n"
     ]
    }
   ],
   "source": [
    "# Create a dictionary to store the aggregated scores\n",
    "aggregated_scores = 0\n",
    "criteria_scores = formated_json_response\n",
    "criteria_weights = CRITERIAS\n",
    "# Iterate through each criterion and its weight\n",
    "for criterion in criteria_weights:\n",
    "    critere_name = criterion['critere'][0]\n",
    "    weight = criterion['ponderation'][0] / 100\n",
    "\n",
    "    # Iterate through the scores and justifications\n",
    "    for key, value in criteria_scores.items():\n",
    "        if key == critere_name:\n",
    "            # Aggregate the weighted score\n",
    "            aggregated_scores += value['score'] * (weight)\n",
    "\n",
    "print(f\"Note technique : {aggregated_scores}\")"
   ]
  }
 ],
 "metadata": {
  "kernelspec": {
   "display_name": "Python 3",
   "language": "python",
   "name": "python3"
  },
  "language_info": {
   "codemirror_mode": {
    "name": "ipython",
    "version": 3
   },
   "file_extension": ".py",
   "mimetype": "text/x-python",
   "name": "python",
   "nbconvert_exporter": "python",
   "pygments_lexer": "ipython3",
   "version": "3.11.9"
  }
 },
 "nbformat": 4,
 "nbformat_minor": 2
}
