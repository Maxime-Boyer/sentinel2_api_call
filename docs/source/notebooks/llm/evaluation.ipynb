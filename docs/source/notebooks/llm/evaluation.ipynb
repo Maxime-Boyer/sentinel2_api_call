{
 "cells": [
  {
   "cell_type": "code",
   "execution_count": 3,
   "metadata": {},
   "outputs": [],
   "source": [
    "from dag_nao.modules.technical_notation.single_resume_simple_call_comparator.llm_comparator import LLMComparator\n",
    "import pandas as pd\n",
    "import json\n",
    "import os\n",
    "import numpy as np"
   ]
  },
  {
   "cell_type": "code",
   "execution_count": 4,
   "metadata": {},
   "outputs": [],
   "source": [
    "ao = '2023DOS0348417'\n",
    "entreprise = \"amaris\"\n",
    "\n",
    "root_folder = f'/workspace/outputs/{ao}/json'\n",
    "ground_truth_path = f'/workspace/data/{ao}.xlsx'\n",
    "\n",
    "# AO\n",
    "cdc_json_file_path = f\"/workspace/outputs/{ao}/json/ao/formatted_json_cdc.json\"\n",
    "rec_json_file_path = f\"/workspace/outputs/{ao}/json/ao/formatted_json_rec.json\"\n",
    "# CV\n",
    "cv_json_file_path = f\"/workspace/outputs/{ao}/json/{entreprise}/formatted_json_cv.json\""
   ]
  },
  {
   "cell_type": "code",
   "execution_count": 5,
   "metadata": {},
   "outputs": [],
   "source": [
    "def get_ground_truth_dict(path: str):\n",
    "    # Read the Excel file\n",
    "    df = pd.read_excel(path)\n",
    "\n",
    "    # Define the criteria names and company names\n",
    "    company_names = df.columns[0:]\n",
    "    company_names = company_names.delete(company_names.get_loc('Note'))\n",
    "    criteria_names = df.iloc[:, 0]\n",
    "    # criteria_names = criteria_names[1:]\n",
    "    print(\"len\", len(criteria_names))\n",
    "    print(\"len\", len(company_names))\n",
    "\n",
    "    print(\"criteria_names : \", criteria_names)\n",
    "    print(\"company_names : \", company_names)\n",
    "\n",
    "    # Initialize an empty dictionary to store the data\n",
    "    data_dict = {}\n",
    "\n",
    "    # # Iterate over criteria and company names to populate the dictionary\n",
    "    for i, criteria in enumerate(criteria_names):\n",
    "        criteria_dict = {}\n",
    "        for j, company in enumerate(company_names):\n",
    "            score = df.iloc[i, j+1]\n",
    "            criteria_dict[company] = score\n",
    "        data_dict[criteria] = criteria_dict\n",
    "\n",
    "    return data_dict\n",
    "\n",
    "def print_folders(root_folder):\n",
    "    \"\"\"\n",
    "    Parse a folder and process files within each subfolder.\n",
    "\n",
    "    Parameters:\n",
    "        root_folder (str): Path to the root folder.\n",
    "\n",
    "    Returns:\n",
    "        None\n",
    "    \"\"\"\n",
    "    # Iterate over subfolders in the root folder\n",
    "    for folder_name in os.listdir(root_folder):\n",
    "        folder_path = os.path.join(root_folder, folder_name)\n",
    "        # Check if the path is a directory\n",
    "        if os.path.isdir(folder_path):\n",
    "            # Get the name of the folder\n",
    "            folder_name_variable = folder_name\n",
    "            # Get the path of the JSON file within the folder\n",
    "            json_file_path = os.path.join(folder_path, 'formatted_json_cv.json')\n",
    "            # Check if the JSON file exists\n",
    "            if os.path.exists(json_file_path):\n",
    "                # Process the JSON file using a processing method\n",
    "                print(json_file_path)\n",
    "                print(folder_name_variable)\n",
    "            else:\n",
    "                print(f\"No 'formatted_json_cv.json' file found in folder: {folder_path}\")"
   ]
  },
  {
   "cell_type": "code",
   "execution_count": 6,
   "metadata": {},
   "outputs": [
    {
     "name": "stdout",
     "output_type": "stream",
     "text": [
      "len 5\n",
      "len 7\n",
      "criteria_names :  0    Qualité de la réponse (Compréhension du besoin...\n",
      "1      Nombre et pertinence des expériences similaires\n",
      "2                               Compétences techniques\n",
      "3                  Connaissance du domaine fonctionnel\n",
      "4    Expériences similaires en accompagnement au ch...\n",
      "Name: Note, dtype: object\n",
      "company_names :  Index(['amaris', 'consort', 'experis_dva', 'experis_jcl', 'neurones_tko',\n",
      "       'neurones_jmb', 'synchrone'],\n",
      "      dtype='object')\n",
      "{'Qualité de la réponse (Compréhension du besoin, le cas échéant outils et méthodologie proposés)': {'amaris': 3, 'consort': 2, 'experis_dva': 4, 'experis_jcl': 2, 'neurones_tko': 4, 'neurones_jmb': 4, 'synchrone': 3}, 'Nombre et pertinence des expériences similaires': {'amaris': 3, 'consort': 2, 'experis_dva': 4, 'experis_jcl': 3, 'neurones_tko': 4, 'neurones_jmb': 4, 'synchrone': 3}, 'Compétences techniques': {'amaris': 3, 'consort': 2, 'experis_dva': 4, 'experis_jcl': 2, 'neurones_tko': 3, 'neurones_jmb': 3, 'synchrone': 3}, 'Connaissance du domaine fonctionnel': {'amaris': 2, 'consort': 2, 'experis_dva': 3, 'experis_jcl': 2, 'neurones_tko': 4, 'neurones_jmb': 3, 'synchrone': 3}, \"Expériences similaires en accompagnement au changement, actions pédagogiques illustrant la capacité d'écoute, de reformulation et de synthèse\": {'amaris': 3, 'consort': 2, 'experis_dva': 3, 'experis_jcl': 2, 'neurones_tko': 3, 'neurones_jmb': 3, 'synchrone': 3}}\n",
      "/workspace/outputs/2023DOS0550696/json/synchrone/formatted_json_cv.json\n",
      "synchrone\n",
      "/workspace/outputs/2023DOS0550696/json/neurones_jmb/formatted_json_cv.json\n",
      "neurones_jmb\n",
      "/workspace/outputs/2023DOS0550696/json/amaris/formatted_json_cv.json\n",
      "amaris\n",
      "/workspace/outputs/2023DOS0550696/json/experis_jcl/formatted_json_cv.json\n",
      "experis_jcl\n",
      "/workspace/outputs/2023DOS0550696/json/neurones_tko/formatted_json_cv.json\n",
      "neurones_tko\n",
      "/workspace/outputs/2023DOS0550696/json/experis_dva/formatted_json_cv.json\n",
      "experis_dva\n",
      "/workspace/outputs/2023DOS0550696/json/cgi/formatted_json_cv.json\n",
      "cgi\n",
      "No 'formatted_json_cv.json' file found in folder: /workspace/outputs/2023DOS0550696/json/ao\n"
     ]
    }
   ],
   "source": [
    "ground_truth = get_ground_truth_dict(ground_truth_path)\n",
    "\n",
    "print(ground_truth)\n",
    "print_folders(root_folder)"
   ]
  },
  {
   "cell_type": "code",
   "execution_count": 7,
   "metadata": {},
   "outputs": [
    {
     "data": {
      "text/plain": [
       "{'Qualité de la réponse (Compréhension du besoin, le cas échéant outils et méthodologie proposés)': {'amaris': 3,\n",
       "  'consort': 2,\n",
       "  'experis_dva': 4,\n",
       "  'experis_jcl': 2,\n",
       "  'neurones_tko': 4,\n",
       "  'neurones_jmb': 4,\n",
       "  'synchrone': 3},\n",
       " 'Nombre et pertinence des expériences similaires': {'amaris': 3,\n",
       "  'consort': 2,\n",
       "  'experis_dva': 4,\n",
       "  'experis_jcl': 3,\n",
       "  'neurones_tko': 4,\n",
       "  'neurones_jmb': 4,\n",
       "  'synchrone': 3},\n",
       " 'Compétences techniques': {'amaris': 3,\n",
       "  'consort': 2,\n",
       "  'experis_dva': 4,\n",
       "  'experis_jcl': 2,\n",
       "  'neurones_tko': 3,\n",
       "  'neurones_jmb': 3,\n",
       "  'synchrone': 3},\n",
       " 'Connaissance du domaine fonctionnel': {'amaris': 2,\n",
       "  'consort': 2,\n",
       "  'experis_dva': 3,\n",
       "  'experis_jcl': 2,\n",
       "  'neurones_tko': 4,\n",
       "  'neurones_jmb': 3,\n",
       "  'synchrone': 3},\n",
       " \"Expériences similaires en accompagnement au changement, actions pédagogiques illustrant la capacité d'écoute, de reformulation et de synthèse\": {'amaris': 3,\n",
       "  'consort': 2,\n",
       "  'experis_dva': 3,\n",
       "  'experis_jcl': 2,\n",
       "  'neurones_tko': 3,\n",
       "  'neurones_jmb': 3,\n",
       "  'synchrone': 3}}"
      ]
     },
     "execution_count": 7,
     "metadata": {},
     "output_type": "execute_result"
    }
   ],
   "source": [
    "ground_truth"
   ]
  },
  {
   "cell_type": "code",
   "execution_count": 8,
   "metadata": {},
   "outputs": [
    {
     "name": "stdout",
     "output_type": "stream",
     "text": [
      "{'objectif_de_la_mission': [\"La mission objet de cette consultation vise à décharger les équipes SNCF dans trois domaines concernant les services bureautiques et digitaux au sens large : - La gestion courante des sollicitations et demandes ; - L'assistance et le conseil aux utilisateurs ; - La gestion des stocks, de l'approvisionnement à la mise au rebus en passant par la remise en main.\", 1], 'duree_de_la_mission': [210, 3], 'nombre_de_profils': [1, 2], 'types_de_profils': [{'type': ['701.E.PAR - Support Méthode, qualité et Sécurité Expert - ouvert à des profils Senior (701.S.PAR)', 2]}], 'taches_et_responsabilites': [{'tache_et_responsabilite': ['Traiter les demandes des agents G&C reçues via le portail interne Digital Office', 1]}, {'tache_et_responsabilite': [\"Prendre en charge les déclarations d'incidents ou d'anomalie de fonctionnement bureautique quand les processus standard des porteurs de services ne suffisent pas\", 1]}, {'tache_et_responsabilite': ['Alerter / escalader en interne DDT et/ou chez les fournisseurs', 1]}, {'tache_et_responsabilite': [\"Assurer le lien avec les différentes assistances et support pour garantir qu'une réponse soit apportée aux utilisateurs\", 1]}, {'tache_et_responsabilite': [\"Gérer le stock, les dotations et les retours d'équipements PC, tablettes, smartphones pour l'ensemble du siège de G&C\", 1]}, {'tache_et_responsabilite': ['Assister le CSIE dans la gestion des commandes : déclenchement du réappro, suivi, relance', 1]}, {'tache_et_responsabilite': ['Assurer le tri des matériels à évacuer (recyclage, collecte SNCF)', 1]}, {'tache_et_responsabilite': [\"Assurer physiquement les remises et retours d'équipements\", 1]}, {'tache_et_responsabilite': ['Assister les utilisateurs dans la prise en main et le paramétrage des équipements (en particulier smartphone et tablette)', 1]}, {'tache_et_responsabilite': [\"Apporter conseil à l'utilisation bureautique et accompagnement sur les outils digitaux\", 1]}, {'tache_et_responsabilite': ['Prendre en charge des actions de communication et de pédagogie au nom de la DDT', 1]}, {'tache_et_responsabilite': ['Rédiger des procédures, des tutoriels, des consignes', 1]}, {'tache_et_responsabilite': ['Participer à de mini-projets concernant la gestion du site', 1]}], 'competences_du_profils': [{'competence': ['Personne ayant déjà piloté des parcs bureautiques et/ou des flottes mobiles', 6]}, {'competence': ['Technicien aguerri, autonome dans le diagnostic voire la remédiation de problème bureautique / mobile et même de problème sur les infrastructures (réseau, VPN, habilitations, opérateurs, store, etc…)', 6]}, {'competence': ['Suffisamment expérimenté et autonome pour tenir le service en récurrent et alerter à bon escient', 6]}], 'stack_technique': [{'tache': ['Flottes sous Android et iOS', 6]}, {'tache': ['Parc de PC sous Windows et Mac', 6]}, {'tache': ['Environnement bureautique O365 dans un contexte Active Directory / VPN', 6]}], 'duree_de_la_mission_avec_option': [\"630 jours maximum en cas de levée d'option\", 3]}\n",
      "{'diplomes': [{'niveau_etude': 'Bac+2', 'date_obtention': '2000-01-01', 'diplome': \"Diplôme d'état de technicien de maintenance et d'aide aux utilisateurs\", 'competences_acquises': [{'tache': 'N/A'}]}, {'niveau_etude': 'Bac+3', 'date_obtention': '2005-01-01', 'diplome': \"Diplôme d'état de technicien réseau - CNAM\", 'competences_acquises': [{'tache': 'N/A'}]}, {'niveau_etude': 'Bac+2', 'date_obtention': '1986-01-01', 'diplome': 'Brevet Technicien Supérieur Automatisme', 'competences_acquises': [{'tache': 'N/A'}]}], 'certifications': [{'date_obtention': '2006-01-01', 'certification': 'Formation administration lotus notes LT775 cursus de certification', 'competences_acquises': [{'tache': 'N/A'}]}, {'date_obtention': '2006-01-01', 'certification': 'Formation client lotus notes LT773 cursus de certification', 'competences_acquises': [{'tache': 'N/A'}]}], 'langues_parlees': [{'langue': 'Français', 'niveau': 'Langue Maternelle'}, {'langue': 'Anglais', 'niveau': 'Courant'}, {'langue': 'Espagnol', 'niveau': 'Courant'}, {'langue': 'Portugais', 'niveau': 'Courant'}], 'experiences_entreprise': [{'nom_entreprise': ['SNCF (Diction des projet IDF)', 2], 'duree_experience': ['01/2022 – 12/2022', 2], 'date_debut_experience': ['2022-01-01', 2], 'date_fin_experience': ['2022-12-31', 2], 'nom_poste': ['Assistant GEREMI', 2], 'stack_technique': [{'tache': ['GIST', 2]}, {'tache': ['GEREMI', 2]}], 'role': [{'tache': ['Contractualisation des prestations', 2]}, {'tache': ['Qualification', 2]}, {'tache': ['Rédaction', 2]}]}, {'nom_entreprise': ['SOLVAY', 3], 'duree_experience': ['12 ans', 3], 'date_debut_experience': ['N/A', -1], 'date_fin_experience': ['N/A', -1], 'nom_poste': ['Consultant Support / AMOA projets migrations GED /Formateur', 3], 'stack_technique': [{'tache': ['eRoom', 3]}, {'tache': ['Documentum', 3]}, {'tache': ['Sealed media', 3]}, {'tache': ['SAP Smart', 3]}, {'tache': ['AODocs', 3]}], 'role': [{'tache': ['Support et administration', 3]}, {'tache': ['Qualification', 3]}, {'tache': ['Rédaction', 3]}, {'tache': ['Formations', 3]}, {'tache': ['Gestion de Projet', 3]}]}, {'nom_entreprise': ['Clients divers (BNP Paribas, Assurances…)', 4], 'duree_experience': ['14 mois', 4], 'date_debut_experience': ['N/A', -1], 'date_fin_experience': ['N/A', -1], 'nom_poste': ['Consultant Support', 4], 'stack_technique': [{'tache': ['Linux Ubuntu', 4]}, {'tache': ['Apache', 4]}, {'tache': ['Outlook', 4]}, {'tache': ['Notes', 4]}, {'tache': ['Exchanges', 4]}, {'tache': ['Postfix', 4]}], 'role': [{'tache': ['Résolutions des problèmes utilisateurs VIP et hauts responsables liés à leur messagerie antivirus firewall.', 4]}, {'tache': ['Configuration de blackberry.', 4]}, {'tache': ['Serveur Linux Ubuntu', 4]}, {'tache': [\"Mise en place d'une stratégie de sauvegarde croisée avec un serveur windows 2000 ou Linux Ubuntu\", 4]}, {'tache': ['Monitoring des accès au serveur avec les outils NTOP, MUNIN, MONIT, TIGER.', 4]}, {'tache': ['Installation de modems pour des échanges CFT avec la banque Palatine.', 4]}, {'tache': ['Stations de travail support', 4]}, {'tache': ['Configuration, dépannage et formation à la messagerie outlook, notes, exchanges, postfix', 4]}]}, {'nom_entreprise': ['SANOFI', 4], 'duree_experience': ['7 mois', 4], 'date_debut_experience': ['N/A', -1], 'date_fin_experience': ['N/A', -1], 'nom_poste': ['Coordinateur technique', 4], 'stack_technique': [{'tache': ['Redhat', 4]}, {'tache': ['Microsoft', 4]}, {'tache': ['Active Directory', 4]}], 'role': [{'tache': ['Mise en place du projet de déploiement matrices internationales « SAW » sur les différents sites clients', 4]}, {'tache': ['Encadrement de dix techniciens', 4]}, {'tache': ['Gestion du matériel', 4]}, {'tache': ['Planification des tâches des techniciens', 4]}, {'tache': ['Prise de RDV chez les clients', 4]}, {'tache': ['Installation de postes', 4]}, {'tache': ['Administration des postes de travail', 4]}, {'tache': ['Support utilisateurs', 4]}, {'tache': [\"Intervention dans la base d'incidents\", 4]}, {'tache': ['Installation de nouveaux périphériques', 4]}]}, {'nom_entreprise': ['Client Divers', 5], 'duree_experience': ['4 mois', 5], 'date_debut_experience': ['N/A', -1], 'date_fin_experience': ['N/A', -1], 'nom_poste': ['Technicien support et administrateur / micro-réseau VIP', 5], 'stack_technique': [{'tache': ['Windows 2000', 5]}, {'tache': ['XP', 5]}, {'tache': ['Lotus Notes 5-6-7', 5]}], 'role': [{'tache': ['Support utilisateurs', 5]}, {'tache': ['Prise de main à distance', 5]}, {'tache': ['Gestion de comptes et des mots de passe', 5]}, {'tache': ['Administration Lotus Notes', 5]}, {'tache': ['Contrôle et mise à jour des matériels bureautiques', 5]}, {'tache': ['Recueil de données', 5]}, {'tache': ['Visite sur site', 5]}, {'tache': [\"Détection d'anomalies\", 5]}]}, {'nom_entreprise': ['EURALAIR', 5], 'duree_experience': ['1 an 9 mois', 5], 'date_debut_experience': ['N/A', -1], 'date_fin_experience': ['N/A', -1], 'nom_poste': ['Technicien micro-support', 5], 'stack_technique': [{'tache': ['Windows 2000', 5]}], 'role': [{'tache': ['Support utilisateurs', 5]}, {'tache': ['Dépannage de NT, 2000, XP sous un environnement Windows 2000 Serveur', 5]}, {'tache': ['Administration 2ème niveau', 5]}, {'tache': ['Reporting', 5]}]}]}\n",
      "Note technique : 3.5\n"
     ]
    }
   ],
   "source": [
    "# Open the JSON file and load its contents\n",
    "with open(cdc_json_file_path, \"r\") as file:\n",
    "    cdc_json_data = json.load(file)\n",
    "with open(cv_json_file_path, \"r\") as file:\n",
    "    cv_json_data = json.load(file)\n",
    "with open(rec_json_file_path, \"r\") as file:\n",
    "    rec_json_data = json.load(file)\n",
    "\n",
    "# Now you can work with the loaded JSON data\n",
    "print(cdc_json_data)\n",
    "print(cv_json_data)\n",
    "\n",
    "# Add you json inputs here\n",
    "REQUIREMENTS = cdc_json_data\n",
    "RESUME = cv_json_data\n",
    "CRITERIAS  = rec_json_data['sous_criteres_techniques_et_ponderation']\n",
    "SCALE = {\n",
    "    0: \"Ne répond pas au besoin\",\n",
    "    1: \"Ne répond pas suffisamment au besoin\",\n",
    "    2: \"Répond partiellement au besoin\",\n",
    "    3: \"Répond correctement au besoin\",\n",
    "    4: \"Très bonne réponse\",\n",
    "    5: \"Réponse au-delà des attentes\"\n",
    "}\n",
    "llm_comparator = LLMComparator()\n",
    "formated_response, formated_json_response, score = llm_comparator.call_comparator(requirements=REQUIREMENTS, criterias=CRITERIAS, resume=RESUME, scale=SCALE)"
   ]
  },
  {
   "cell_type": "code",
   "execution_count": 16,
   "metadata": {},
   "outputs": [
    {
     "data": {
      "text/plain": [
       "'Voici mon analyse détaillée du CV par rapport aux critères fournis :\\n\\n<scratchpad>\\nCritère 1 : Qualité de la réponse (Compréhension du besoin, le cas échéant outils et méthodologie proposés)\\n- Le CV ne fournit pas d\\'informations spécifiques sur la compréhension du besoin ou les outils/méthodologies proposés pour cette mission. Il décrit principalement les expériences passées du candidat.\\n=> Score : 2 (Répond partiellement au besoin)\\n\\nCritère 2 : Nombre et pertinence des expériences similaires\\n- Le candidat a une expérience de 12 ans chez Solvay en tant que consultant support/AMOA sur des projets de migration GED, ce qui semble pertinent.\\n- Il a également travaillé pendant 14 mois en tant que consultant support pour divers clients sur des tâches liées au support utilisateur, messagerie, serveurs Linux/Windows, etc.\\n- Son expérience de 7 mois chez Sanofi en tant que coordinateur technique sur un projet de déploiement est également pertinente.\\n- D\\'autres expériences plus anciennes (4 mois en tant que technicien support VIP, 1 an 9 mois en tant que technicien micro-support) sont moins pertinentes mais apportent des compétences complémentaires.\\n=> Score : 4 (Très bonne réponse)  \\n\\nCritère 3 : Compétences techniques\\n- Le CV montre une bonne expérience avec les environnements Windows, Linux, Active Directory, VPN, etc.\\n- Des compétences sur les outils de messagerie (Outlook, Notes, Exchange), les serveurs web (Apache), les antivirus, les firewalls, etc. sont démontrées.\\n- Une expérience avec des outils de gestion de parc (GIST, GEREMI) et de GED (eRoom, Documentum, etc.) est également mentionnée.\\n- Cependant, les compétences spécifiques sur Android/iOS et les flottes mobiles ne sont pas clairement mises en évidence.\\n=> Score : 4 (Très bonne réponse)\\n\\nCritère 4 : Connaissance du domaine fonctionnel  \\n- Le CV ne fournit pas d\\'informations spécifiques sur la connaissance du domaine fonctionnel de la SNCF ou des services bureautiques/digitaux.\\n- Cependant, les expériences dans divers environnements d\\'entreprise (Solvay, Sanofi, BNP Paribas, etc.) montrent une certaine connaissance générale des besoins des utilisateurs et des services informatiques.\\n=> Score : 3 (Répond correctement au besoin)\\n\\nCritère 5 : Expériences similaires en accompagnement au changement, actions pédagogiques illustrant la capacité d\\'écoute, de reformulation et de synthèse\\n- Le CV mentionne des expériences en formation et rédaction de procédures/tutoriels chez Solvay, ce qui implique des capacités pédagogiques.\\n- Cependant, il n\\'y a pas d\\'exemples spécifiques d\\'actions d\\'accompagnement au changement ou illustrant les capacités d\\'écoute, de reformulation et de synthèse.\\n=> Score : 3 (Répond correctement au besoin)\\n</scratchpad>\\n\\n<json_output>\\n{\\n\"Qualité de la réponse (Compréhension du besoin, le cas échéant outils et méthodologie proposés)\": {\\n\"justification\": \"Le CV ne fournit pas d\\'informations spécifiques sur la compréhension du besoin ou les outils/méthodologies proposés pour cette mission. Il décrit principalement les expériences passées du candidat.\",\\n\"score\": 2\\n},\\n\"Nombre et pertinence des expériences similaires\": {\\n\"justification\": \"Le candidat a une expérience de 12 ans chez Solvay en tant que consultant support/AMOA sur des projets de migration GED, ce qui semble pertinent. Il a également travaillé pendant 14 mois en tant que consultant support pour divers clients sur des tâches liées au support utilisateur, messagerie, serveurs Linux/Windows, etc. Son expérience de 7 mois chez Sanofi en tant que coordinateur technique sur un projet de déploiement est également pertinente. D\\'autres expériences plus anciennes (4 mois en tant que technicien support VIP, 1 an 9 mois en tant que technicien micro-support) sont moins pertinentes mais apportent des compétences complémentaires.\",\\n\"score\": 4\\n},\\n\"Compétences techniques\": {\\n\"justification\": \"Le CV montre une bonne expérience avec les environnements Windows, Linux, Active Directory, VPN, etc. Des compétences sur les outils de messagerie (Outlook, Notes, Exchange), les serveurs web (Apache), les antivirus, les firewalls, etc. sont démontrées. Une expérience avec des outils de gestion de parc (GIST, GEREMI) et de GED (eRoom, Documentum, etc.) est également mentionnée. Cependant, les compétences spécifiques sur Android/iOS et les flottes mobiles ne sont pas clairement mises en évidence.\",\\n\"score\": 4\\n},\\n\"Connaissance du domaine fonctionnel\": {\\n\"justification\": \"Le CV ne fournit pas d\\'informations spécifiques sur la connaissance du domaine fonctionnel de la SNCF ou des services bureautiques/digitaux. Cependant, les expériences dans divers environnements d\\'entreprise (Solvay, Sanofi, BNP Paribas, etc.) montrent une certaine connaissance générale des besoins des utilisateurs et des services informatiques.\",\\n\"score\": 3\\n},\\n\"Expériences similaires en accompagnement au changement, actions pédagogiques illustrant la capacité d\\'écoute, de reformulation et de synthèse\": {\\n\"justification\": \"Le CV mentionne des expériences en formation et rédaction de procédures/tutoriels chez Solvay, ce qui implique des capacités pédagogiques. Cependant, il n\\'y a pas d\\'exemples spécifiques d\\'actions d\\'accompagnement au changement ou illustrant les capacités d\\'écoute, de reformulation et de synthèse.\",\\n\"score\": 3\\n}\\n}\\n</json_output>'"
      ]
     },
     "execution_count": 16,
     "metadata": {},
     "output_type": "execute_result"
    }
   ],
   "source": [
    "formated_response"
   ]
  },
  {
   "cell_type": "code",
   "execution_count": 15,
   "metadata": {},
   "outputs": [
    {
     "data": {
      "text/plain": [
       "{'Qualité de la réponse (Compréhension du besoin, le cas échéant outils et méthodologie proposés)': {'justification': \"Le CV ne fournit pas d'informations spécifiques sur la compréhension du besoin ou les outils/méthodologies proposés pour cette mission. Il décrit principalement les expériences passées du candidat.\",\n",
       "  'score': 2},\n",
       " 'Nombre et pertinence des expériences similaires': {'justification': \"Le candidat a une expérience de 12 ans chez Solvay en tant que consultant support/AMOA sur des projets de migration GED, ce qui semble pertinent. Il a également travaillé pendant 14 mois en tant que consultant support pour divers clients sur des tâches liées au support utilisateur, messagerie, serveurs Linux/Windows, etc. Son expérience de 7 mois chez Sanofi en tant que coordinateur technique sur un projet de déploiement est également pertinente. D'autres expériences plus anciennes (4 mois en tant que technicien support VIP, 1 an 9 mois en tant que technicien micro-support) sont moins pertinentes mais apportent des compétences complémentaires.\",\n",
       "  'score': 4},\n",
       " 'Compétences techniques': {'justification': 'Le CV montre une bonne expérience avec les environnements Windows, Linux, Active Directory, VPN, etc. Des compétences sur les outils de messagerie (Outlook, Notes, Exchange), les serveurs web (Apache), les antivirus, les firewalls, etc. sont démontrées. Une expérience avec des outils de gestion de parc (GIST, GEREMI) et de GED (eRoom, Documentum, etc.) est également mentionnée. Cependant, les compétences spécifiques sur Android/iOS et les flottes mobiles ne sont pas clairement mises en évidence.',\n",
       "  'score': 4},\n",
       " 'Connaissance du domaine fonctionnel': {'justification': \"Le CV ne fournit pas d'informations spécifiques sur la connaissance du domaine fonctionnel de la SNCF ou des services bureautiques/digitaux. Cependant, les expériences dans divers environnements d'entreprise (Solvay, Sanofi, BNP Paribas, etc.) montrent une certaine connaissance générale des besoins des utilisateurs et des services informatiques.\",\n",
       "  'score': 3},\n",
       " \"Expériences similaires en accompagnement au changement, actions pédagogiques illustrant la capacité d'écoute, de reformulation et de synthèse\": {'justification': \"Le CV mentionne des expériences en formation et rédaction de procédures/tutoriels chez Solvay, ce qui implique des capacités pédagogiques. Cependant, il n'y a pas d'exemples spécifiques d'actions d'accompagnement au changement ou illustrant les capacités d'écoute, de reformulation et de synthèse.\",\n",
       "  'score': 3}}"
      ]
     },
     "execution_count": 15,
     "metadata": {},
     "output_type": "execute_result"
    }
   ],
   "source": [
    "formated_json_response"
   ]
  },
  {
   "cell_type": "code",
   "execution_count": null,
   "metadata": {},
   "outputs": [],
   "source": [
    "formated_json_response"
   ]
  },
  {
   "cell_type": "code",
   "execution_count": 9,
   "metadata": {},
   "outputs": [
    {
     "data": {
      "text/plain": [
       "[{'critere': ['Qualité de la réponse (Compréhension du besoin, le cas échéant outils et méthodologie proposés)',\n",
       "   1],\n",
       "  'ponderation': [10, 1]},\n",
       " {'critere': ['Nombre et pertinence des expériences similaires', 1],\n",
       "  'ponderation': [30, 1]},\n",
       " {'critere': ['Compétences techniques', 1], 'ponderation': [30, 1]},\n",
       " {'critere': ['Connaissance du domaine fonctionnel', 1],\n",
       "  'ponderation': [20, 1]},\n",
       " {'critere': [\"Expériences similaires en accompagnement au changement, actions pédagogiques illustrant la capacité d'écoute, de reformulation et de synthèse\",\n",
       "   1],\n",
       "  'ponderation': [10, 1]}]"
      ]
     },
     "execution_count": 9,
     "metadata": {},
     "output_type": "execute_result"
    }
   ],
   "source": [
    "CRITERIAS"
   ]
  },
  {
   "cell_type": "code",
   "execution_count": 14,
   "metadata": {},
   "outputs": [
    {
     "name": "stdout",
     "output_type": "stream",
     "text": [
      "{'amaris': 2.8, 'consort': 1.9999999999999998, 'experis_dva': 3.7, 'experis_jcl': 2.3, 'neurones_tko': 3.5999999999999996, 'neurones_jmb': 3.4000000000000004, 'synchrone': 3.0}\n"
     ]
    }
   ],
   "source": [
    "data = ground_truth\n",
    "criteria = CRITERIAS\n",
    "\n",
    "weighted_scores = {}\n",
    "\n",
    "for criterion in criteria:\n",
    "    if isinstance(criterion['critere'], list):\n",
    "        if len(criterion['critere']) > 0:\n",
    "            criterion_name = criterion['critere'][0]\n",
    "    if isinstance(criterion['ponderation'], list):\n",
    "        if len(criterion['ponderation']) > 0:\n",
    "            criterion_weight = criterion['ponderation'][0]\n",
    "    \n",
    "    if criterion_name in list(data.keys()):\n",
    "        companies = data[criterion_name]\n",
    "    \n",
    "    for company, score in companies.items():\n",
    "        if company in list(weighted_scores.keys()):\n",
    "            weighted_scores[company] += score * (criterion_weight / 100)\n",
    "        else:\n",
    "            weighted_scores[company] = score * (criterion_weight / 100)\n",
    "\n",
    "print(weighted_scores)\n"
   ]
  },
  {
   "cell_type": "code",
   "execution_count": null,
   "metadata": {},
   "outputs": [],
   "source": [
    "for key, value in formated_json_response.items():\n",
    "    print(ground_truth[key][entreprise])\n",
    "    print(value['score'])\n",
    "    "
   ]
  },
  {
   "cell_type": "code",
   "execution_count": null,
   "metadata": {},
   "outputs": [],
   "source": [
    "def compute_rmse(pred_scores_dict, true_scores_dict, entreprise:str):\n",
    "    rmse = 0\n",
    "    for key, value in pred_scores_dict.items():\n",
    "        observed_values = true_scores_dict[key][entreprise]\n",
    "        predicted_values = value['score']\n",
    "        rmse += np.mean((observed_values - predicted_values) ** 2)\n",
    "    rmse = np.sqrt(rmse)\n",
    "    return rmse"
   ]
  },
  {
   "cell_type": "code",
   "execution_count": null,
   "metadata": {},
   "outputs": [],
   "source": [
    "compute_rmse(pred_scores_dict=formated_json_response, true_scores_dict=ground_truth, entreprise=entreprise)"
   ]
  },
  {
   "cell_type": "code",
   "execution_count": null,
   "metadata": {},
   "outputs": [],
   "source": [
    "ground_truth.keys()"
   ]
  },
  {
   "cell_type": "code",
   "execution_count": null,
   "metadata": {},
   "outputs": [],
   "source": [
    "formated_json_response.keys()"
   ]
  }
 ],
 "metadata": {
  "kernelspec": {
   "display_name": "Python 3",
   "language": "python",
   "name": "python3"
  },
  "language_info": {
   "codemirror_mode": {
    "name": "ipython",
    "version": 3
   },
   "file_extension": ".py",
   "mimetype": "text/x-python",
   "name": "python",
   "nbconvert_exporter": "python",
   "pygments_lexer": "ipython3",
   "version": "3.11.9"
  }
 },
 "nbformat": 4,
 "nbformat_minor": 2
}
