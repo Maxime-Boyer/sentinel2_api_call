{
 "cells": [
  {
   "cell_type": "code",
   "execution_count": 1,
   "metadata": {},
   "outputs": [],
   "source": [
    "# %pip install boto3==1.34.93 ipython --quiet\n",
    "\n",
    "%load_ext autoreload\n",
    "%autoreload 2"
   ]
  },
  {
   "cell_type": "code",
   "execution_count": 2,
   "metadata": {},
   "outputs": [],
   "source": [
    "# import boto3\n",
    "import json, re\n",
    "# %time\n",
    "# session = boto3.session.Session()\n",
    "# bedrock_client = session.client(\n",
    "#     service_name='bedrock-runtime',\n",
    "#     region_name='eu-west-3',\n",
    "# )\n",
    "\n",
    "# # Model id and Claude config\n",
    "# model_id = \"anthropic.claude-3-sonnet-20240229-v1:0\"\n",
    "# claude_config = {\n",
    "#     'max_tokens': 4096,\n",
    "#     'temperature': 0, \n",
    "#     'anthropic_version': '',\n",
    "#     'stop_sequences': ['Human:']\n",
    "# }"
   ]
  },
  {
   "cell_type": "code",
   "execution_count": 3,
   "metadata": {},
   "outputs": [],
   "source": [
    "# AO\n",
    "cdc_json_file_path = f\"/workspace/outputs/2023DOS0550696/json/ao/formatted_json_cdc.json\"\n",
    "rec_json_file_path = f\"/workspace/outputs/2023DOS0550696/json/ao/formatted_json_rec.json\"\n",
    "# CV\n",
    "entreprise = \"cgi\"\n",
    "cv_json_file_path1 = f\"/workspace/outputs/2023DOS0550696/json/{entreprise}/formatted_json_cv.json\"\n",
    "entreprise = \"amaris\"\n",
    "cv_json_file_path2 = f\"/workspace/outputs/2023DOS0550696/json/{entreprise}/formatted_json_cv.json\"\n",
    "entreprise = \"experis_dva\"\n",
    "cv_json_file_path3 = f\"/workspace/outputs/2023DOS0550696/json/{entreprise}/formatted_json_cv.json\"\n",
    "entreprise = \"experis_jcl\"\n",
    "cv_json_file_path4 = f\"/workspace/outputs/2023DOS0550696/json/{entreprise}/formatted_json_cv.json\"\n",
    "entreprise = \"neurones_jmb\"\n",
    "cv_json_file_path5 = f\"/workspace/outputs/2023DOS0550696/json/{entreprise}/formatted_json_cv.json\"\n",
    "entreprise = \"neurones_tko\"\n",
    "cv_json_file_path6 = f\"/workspace/outputs/2023DOS0550696/json/{entreprise}/formatted_json_cv.json\"\n",
    "entreprise = \"synchrone\"\n",
    "cv_json_file_path7 = f\"/workspace/outputs/2023DOS0550696/json/{entreprise}/formatted_json_cv.json\"\n",
    "\n",
    "list_paths_resume = [cv_json_file_path1, cv_json_file_path2, cv_json_file_path3, cv_json_file_path4, cv_json_file_path5, cv_json_file_path6, cv_json_file_path7]"
   ]
  },
  {
   "cell_type": "code",
   "execution_count": 4,
   "metadata": {},
   "outputs": [
    {
     "name": "stdout",
     "output_type": "stream",
     "text": [
      "{'objectif_de_la_mission': [\"La mission objet de cette consultation vise à décharger les équipes SNCF dans trois domaines concernant les services bureautiques et digitaux au sens large : - La gestion courante des sollicitations et demandes ; - L'assistance et le conseil aux utilisateurs ; - La gestion des stocks, de l'approvisionnement à la mise au rebus en passant par la remise en main.\", 1], 'duree_de_la_mission': [210, 3], 'nombre_de_profils': [1, 2], 'types_de_profils': [{'type': ['701.E.PAR - Support Méthode, qualité et Sécurité Expert - ouvert à des profils Senior (701.S.PAR)', 2]}], 'taches_et_responsabilites': [{'tache_et_responsabilite': ['Traiter les demandes des agents G&C reçues via le portail interne Digital Office', 1]}, {'tache_et_responsabilite': [\"Prendre en charge les déclarations d'incidents ou d'anomalie de fonctionnement bureautique quand les processus standard des porteurs de services ne suffisent pas\", 1]}, {'tache_et_responsabilite': ['Alerter / escalader en interne DDT et/ou chez les fournisseurs', 1]}, {'tache_et_responsabilite': [\"Assurer le lien avec les différentes assistances et support pour garantir qu'une réponse soit apportée aux utilisateurs\", 1]}, {'tache_et_responsabilite': [\"Gérer le stock, les dotations et les retours d'équipements PC, tablettes, smartphones pour l'ensemble du siège de G&C\", 1]}, {'tache_et_responsabilite': ['Assister le CSIE dans la gestion des commandes : déclenchement du réappro, suivi, relance', 1]}, {'tache_et_responsabilite': ['Assurer le tri des matériels à évacuer (recyclage, collecte SNCF)', 1]}, {'tache_et_responsabilite': [\"Assurer physiquement les remises et retours d'équipements\", 1]}, {'tache_et_responsabilite': ['Assister les utilisateurs dans la prise en main et le paramétrage des équipements (en particulier smartphone et tablette)', 1]}, {'tache_et_responsabilite': [\"Apporter conseil à l'utilisation bureautique et accompagnement sur les outils digitaux\", 1]}, {'tache_et_responsabilite': ['Prendre en charge des actions de communication et de pédagogie au nom de la DDT', 1]}, {'tache_et_responsabilite': ['Rédiger des procédures, des tutoriels, des consignes', 1]}, {'tache_et_responsabilite': ['Participer à de mini-projets concernant la gestion du site', 1]}], 'competences_du_profils': [{'competence': ['Personne ayant déjà piloté des parcs bureautiques et/ou des flottes mobiles', 6]}, {'competence': ['Technicien aguerri, autonome dans le diagnostic voire la remédiation de problème bureautique / mobile et même de problème sur les infrastructures (réseau, VPN, habilitations, opérateurs, store, etc…)', 6]}, {'competence': ['Suffisamment expérimenté et autonome pour tenir le service en récurrent et alerter à bon escient', 6]}], 'stack_technique': [{'tache': ['Flottes sous Android et iOS', 6]}, {'tache': ['Parc de PC sous Windows et Mac', 6]}, {'tache': ['Environnement bureautique O365 dans un contexte Active Directory / VPN', 6]}], 'duree_de_la_mission_avec_option': [\"630 jours maximum en cas de levée d'option\", 3]}\n",
      "{'diplomes': [{'niveau_etude': 'Bac+5', 'date_obtention': '2010-01-01', 'diplome': 'Master 2 réseaux et systèmes informatiques', 'competences_acquises': [{'tache': 'N/A'}]}], 'certifications': [{'date_obtention': '2018-01-01', 'certification': 'Formation Devops', 'competences_acquises': [{'tache': 'N/A'}]}, {'date_obtention': '2017-01-01', 'certification': 'Administration infrastructures réseaux', 'competences_acquises': [{'tache': 'N/A'}]}], 'langues_parlees': [{'langue': 'Anglais', 'niveau': 'Technique'}], 'experiences_entreprise': [{'nom_entreprise': ['SNCF', 1], 'duree_experience': ['À nos jours', 1], 'date_debut_experience': ['2023-01-01', 1], 'date_fin_experience': ['N/A', 1], 'nom_poste': ['Consultant Technicien Support Informatique', 1], 'stack_technique': [{'tache': ['ITSM (ARS), environnement bureautique, installation de postes informatiques, installation de logiciels, masterisation et préparation de postes, déménagement de postes, récupération de postes, gestion de parc, migration Windows 10, gestion de salles de crises', 1]}]}, {'nom_entreprise': ['RATP', 2], 'duree_experience': ['10 mois', 2], 'date_debut_experience': ['2022-03-01', 2], 'date_fin_experience': ['2022-12-31', 2], 'nom_poste': ['Consultant Technicien Support Informatique', 2], 'stack_technique': [{'tache': [\"Support technique Niveau 2, résolution d'incidents réseaux/matériels/logiciels, installation/paramétrage/configuration matériel informatique, installation applications, installation/paramétrage imprimantes, brassage réseaux, accompagnement utilisateurs, formation utilisateurs, gestion administrative inventions/tickets, suivi dotation matériel, prise en main à distance, résolution problèmes VPN, mise en service et configuration postes, déploiement postes Windows 7 à 10, sauvegarde/transfert données, déblocage comptes Windows, mises à jour/sécurité/gestion mots de passe, déploiement postes/intégration domaines, tablettes/smartphones Android/iPhone\", 2]}], 'role': [{'tache': ['Assurer le support technique Niveau 2', 2]}, {'tache': ['Résolution des incidents réseaux, matériels, logiciels', 2]}, {'tache': ['Installation, paramétrage et configuration du matériel informatique (PC, tablette, imprimante…)', 2]}, {'tache': ['Installation des applications spécifiques aux clients', 2]}, {'tache': ['Installation/paramétrage/imprimantes', 2]}, {'tache': ['Brassage réseaux', 2]}, {'tache': ['Accompagnement des utilisateurs au niveau informatique', 2]}, {'tache': [\"Formation auprès des utilisateurs sur les bonnes pratiques d'utilisation du matériel\", 2]}, {'tache': ['Gestion administrative des inventions/gestion des tickets via Smarti,ITSM, Service Now', 2]}, {'tache': ['Suivi de la dotation de matériel', 2]}, {'tache': ['Prise en main à distance pour la résolution des incidents', 2]}, {'tache': ['Résolution des différents problèmes liés au VPN', 2]}, {'tache': ['Mise en service et configuration des postes', 2]}, {'tache': [\"Déploiement des postes informatiques systèmes d'exploitation Windows 7 vers Windows 10, mise à jour des logiciels\", 2]}, {'tache': ['Sauvegarde et transfère des données', 2]}, {'tache': ['Déblocage de comptes Windows', 2]}, {'tache': ['Mises à jour, sécurité, gestion des mots de passe du réseau et en local, déploiement postes, intégration aux domaines.', 2]}, {'tache': ['Tablettes, Smartphone Android, IPhone : Mises à jour, sécurité, enrôlement.', 2]}]}, {'nom_entreprise': ['Caisse des Dépôts & Consignations', 3], 'duree_experience': ['2 années, 2 mois', 3], 'date_debut_experience': ['2020-02-01', 3], 'date_fin_experience': ['2022-03-31', 3], 'nom_poste': ['Consultant Technicien Support Informatique', 3], 'stack_technique': [{'tache': [\"Support technique Niveaux 2 et 3 junior, résolution d'incidents réseaux/matériels/logiciels, installation/paramétrage/configuration matériel informatique, installation applications, installation/paramétrage imprimantes, brassage réseaux, accompagnement utilisateurs, formation utilisateurs, gestion administrative inventions/tickets, suivi dotation matériel, prise en main à distance, résolution problèmes VPN, mise en service et configuration postes, déploiement postes Windows 7 à 10, sauvegarde/transfert données, déblocage comptes Windows, mises à jour/sécurité/gestion mots de passe, déploiement postes/intégration domaines, tablettes/smartphones Android/iPhone, résolution incidents vidéoprojecteurs, gestion demandes/incidents SI, support outils mobilité, gestion parc équipements, traçabilité actions, installation/configuration VMWare, conseils bonnes pratiques, support helpdesk niveaux 1 et 2, diagnostic/traitement incidents\", 3]}]}, {'nom_entreprise': ['Samsung', 4], 'duree_experience': ['1 an', 4], 'date_debut_experience': ['2019-01-01', 4], 'date_fin_experience': ['2020-01-31', 4], 'nom_poste': ['Technicien Proximité N1/N2', 4], 'stack_technique': [{'tache': ['Traitement demandes/résolutions incidents N1/N2, prise en main à distance, assistance utilisateurs, masterisation postes, gestion AD, mise à jour procédures, sécurité logiciels, sauvegarde données, brassage informatique, routeurs Orange', 4]}, {'tache': ['GLPI, Escort, Nasca, Windows 10', 4]}], 'role': [{'tache': [\"Traitement des demandes et résolutions d'incidents N1/N2\", 4]}, {'tache': ['Prise en main à distance via Escort', 4]}, {'tache': ['Assistance aux utilisateurs', 4]}, {'tache': ['Masterisation de poste via SCCM', 4]}, {'tache': [\"Gestion de l'AD\", 4]}, {'tache': ['Mise à jour de procédure', 4]}, {'tache': ['Sécurité des logiciels via Nasca', 4]}, {'tache': ['Sauvegarde des données', 4]}, {'tache': ['Brassage informatique', 4]}, {'tache': ['Routeur Orange', 4]}]}, {'nom_entreprise': ['AXA Banque', 4], 'duree_experience': ['11 mois', 4], 'date_debut_experience': ['2018-02-01', 4], 'date_fin_experience': ['2019-01-31', 4], 'nom_poste': ['Technicien de proximité', 4], 'stack_technique': [{'tache': ['Migration Windows 7 à Windows 10, traitement demandes/résolutions incidents N1/N2, assistance utilisateurs, masterisation postes, interconnexion ordinateurs/imprimantes/serveurs, gestion AD, sauvegarde données, brassage informatique', 4]}, {'tache': ['GLPI, Windows 10', 4]}], 'role': [{'tache': ['Migration de Windows 7 vers Windows10', 4]}, {'tache': [\"Traitement des demandes et résolutions d'incidents N1/N2\", 4]}, {'tache': ['Assistance aux utilisateurs', 4]}, {'tache': ['Masterisation des postes via SCCM', 4]}, {'tache': ['Interconnexion des ordinateurs, imprimantes et serveurs', 4]}, {'tache': [\"Gestion l'AD\", 4]}, {'tache': ['Sauvegarde des données', 4]}, {'tache': ['Brassage informatique', 4]}]}, {'nom_entreprise': ['Crédit Agricole', 5], 'duree_experience': ['1 an', 5], 'date_debut_experience': ['2017-01-01', 5], 'date_fin_experience': ['2017-12-31', 5], 'nom_poste': ['Technicien de proximité', 5], 'stack_technique': [{'tache': ['Migration Windows 7 à Windows 10, traitement demandes/résolutions incidents N1/N2, assistance utilisateurs, masterisation postes, interconnexion ordinateurs/imprimantes/serveurs, gestion AD, sauvegarde données, brassage informatique', 5]}, {'tache': ['JIRA, Windows 10', 5]}], 'role': [{'tache': ['Migration de Windows7 à Windows10', 5]}, {'tache': [\"Traitement des demandes et résolutions d'incidents N1/N2\", 5]}, {'tache': ['Assistance aux utilisateurs', 5]}, {'tache': ['Masterisation des postes via SCCM', 5]}, {'tache': ['Interconnexion des ordinateurs, imprimantes et serveurs', 5]}, {'tache': [\"Gestion l'AD\", 5]}, {'tache': ['Sauvegarde des données', 5]}, {'tache': ['Brassage informatique', 5]}]}, {'nom_entreprise': ['ICC', 5], 'duree_experience': ['2 ans', 5], 'date_debut_experience': ['2014-01-01', 5], 'date_fin_experience': ['2016-01-31', 5], 'nom_poste': ['Technicien de Proximité', 5], 'stack_technique': [{'tache': ['Traitement demandes par mail/téléphone, résolutions incidents N1/N2, assistance utilisateurs, mise à jour site web, installation/configuration logiciels', 5]}, {'tache': ['Pack Office 2013, Windows 10', 5]}], 'role': [{'tache': ['Traitement des demandes par mail, par téléphone', 5]}, {'tache': [\"Résolutions d'incidents N1/N2\", 5]}, {'tache': ['Assistance aux utilisateurs', 5]}, {'tache': ['Mise à jour site web', 5]}, {'tache': ['Installation et configuration des logiciels', 5]}]}, {'nom_entreprise': ['SNCF', 2], 'nom_poste': ['Consultant Technicien Support Informatique', 2], 'role': [{'tache': ['Gestion des sollicitations utilisateurs (utilisation ITSM (ARS), gestion et suivi des dossiers affectés)', 2]}, {'tache': [\"Traitement des incidents (Prise en charge des dossiers, résolution d'incidents (environnement bureautique) sur site, traitement des garanties avec le constructeur\", 2]}, {'tache': ['Traitement des demandes de service (installation de postes informatiques, installation des logiciels autorisés, masterisation et préparation de postes informatiques, déménagement de postes informatiques, récupération de postes informatiques et accessoires)', 2]}, {'tache': ['Gestion du parc (suivi du parc, mise en conformité, gestion de stock de matériel, suivi des garanties)', 2]}, {'tache': [\"Migration Windows 10 (transformation postes Windows 7 vers Windows 10, personnalisation de l'environnement l'utilisateur, accompagnement au changement)\", 2]}, {'tache': ['Gestion des salles de crises du CNO', 2]}]}, {'nom_entreprise': ['Caisse des Dépôts & Consignations', 2], 'nom_poste': ['Consultant Technicien Support Informatique', 2], 'role': [{'tache': ['Assurer le support technique Niveau 2, niveau 3 junior', 3]}, {'tache': ['Résolution des incidents réseaux, matériels, logiciels', 3]}, {'tache': ['Installation, paramétrage et configuration du matériel informatique (PC, tablette, imprimante…)', 3]}, {'tache': ['Installation des applications spécifiques aux clients', 3]}, {'tache': ['Installation/paramétrage/imprimantes', 3]}, {'tache': ['Brassage réseaux', 3]}, {'tache': ['Accompagnement des utilisateurs au niveau informatique', 3]}, {'tache': [\"Formation auprès des utilisateurs sur les bonnes pratiques d'utilisation du matériel\", 3]}, {'tache': ['Gestion administrative des inventions/gestion des tickets via Smarti,ITSM, Service Now', 3]}, {'tache': ['Suivi de la dotation de matériel', 3]}, {'tache': ['Prise en main à distance pour la résolution des incidents', 3]}, {'tache': ['Résolution des différents problèmes liés au VPN', 3]}, {'tache': ['Mise en service et configuration des postes', 3]}, {'tache': [\"Déploiement des postes informatiques systèmes d'exploitation Windows 7 vers Windows 10, mise à jour des logiciels\", 3]}, {'tache': ['Sauvegarde et transfère des données', 3]}, {'tache': ['Déblocage de comptes Windows', 3]}, {'tache': ['Mises à jour, sécurité, gestion des mots de passe du réseau et en local, déploiement postes, intégration aux domaines.', 3]}, {'tache': ['Tablettes, Smartphone Android, IPhone : Mises à jour, sécurité, enrôlement.', 3]}, {'tache': ['Résolution incident : Vidéoprojecteur', 3]}, {'tache': [\"Gestion de toutes les demandes et incidents concernant les systèmes d'information orientés poste de travail : prise d'appels, qualification, résolution, installation, préparation, suivi des demandes et incidents de niveau 1 et 2.\", 3]}, {'tache': ['Gérer le support des outils de mobilités : configurer et paramétrer smartphones et tablettes.', 3]}, {'tache': ['Assurer la gestion du parc et des équipements informatiques et bureautiques.', 3]}, {'tache': ['Assurer la traçabilité de vos actions dans un outil de ticketing.', 3]}, {'tache': ['Installation et configuration VMWARE', 3]}, {'tache': ['Conseiller les utilisateurs sur les bonnes pratiques.', 3]}, {'tache': ['Support HELP DESK de niveau 1 et 2', 3]}, {'tache': [\"Diagnostic et traitement des incidents jusqu'à leurs résolutions\", 3]}]}]}\n"
     ]
    }
   ],
   "source": [
    "# Open the JSON file and load its contents\n",
    "with open(cdc_json_file_path, \"r\") as file:\n",
    "    cdc_json_data = json.load(file)\n",
    "\n",
    "list_resume = []\n",
    "for path in list_paths_resume:    \n",
    "    with open(path, \"r\") as file:\n",
    "        cv_json_data = json.load(file)\n",
    "        list_resume.append(cv_json_data)\n",
    "\n",
    "with open(rec_json_file_path, \"r\") as file:\n",
    "    rec_json_data = json.load(file)\n",
    "\n",
    "# Now you can work with the loaded JSON data\n",
    "print(cdc_json_data)\n",
    "print(cv_json_data)\n",
    "\n",
    "# Add you json inputs here\n",
    "REQUIREMENTS = cdc_json_data\n",
    "RESUME = list_resume"
   ]
  },
  {
   "cell_type": "code",
   "execution_count": 5,
   "metadata": {},
   "outputs": [
    {
     "name": "stdout",
     "output_type": "stream",
     "text": [
      "['Qualité de la réponse (Compréhension du besoin, le cas échéant outils et méthodologie proposés)', 1]\n",
      "['Nombre et pertinence des expériences similaires', 1]\n",
      "['Compétences techniques', 1]\n",
      "['Connaissance du domaine fonctionnel', 1]\n",
      "[\"Expériences similaires en accompagnement au changement, actions pédagogiques illustrant la capacité d'écoute, de reformulation et de synthèse\", 1]\n"
     ]
    }
   ],
   "source": [
    "CRITERIAS  = rec_json_data['sous_criteres_techniques_et_ponderation']\n",
    "\n",
    "for critere_json in rec_json_data['sous_criteres_techniques_et_ponderation']:\n",
    "    print(critere_json['critere'])"
   ]
  },
  {
   "cell_type": "code",
   "execution_count": 6,
   "metadata": {},
   "outputs": [],
   "source": [
    "SCALE = {\n",
    "    0: \"Ne répond pas au besoin\",\n",
    "    1: \"Ne répond pas suffisamment au besoin\",\n",
    "    2: \"Répond partiellement au besoin\",\n",
    "    3: \"Répond correctement au besoin\",\n",
    "    4: \"Très bonne réponse\",\n",
    "    5: \"Réponse au-delà des attentes\"\n",
    "}\n"
   ]
  },
  {
   "cell_type": "code",
   "execution_count": 7,
   "metadata": {},
   "outputs": [
    {
     "name": "stdout",
     "output_type": "stream",
     "text": [
      "CV in process\n",
      "CV in process\n",
      "CV in process\n",
      "CV in process\n",
      "Merci pour ces instructions détaillées. Je vais procéder à l'analyse des exigences, des critères d'évaluation et des CV des répondants. Ensuite, je comparerai les CV entre eux et par rapport aux exigences pour adapter les notes existantes de manière justifiée. Enfin, je produirai les nouveaux JSON avec les notes adaptées.\n",
      "\n",
      "<json_output>\n",
      "{\n",
      "\"Qualité de la réponse (Compréhension du besoin, le cas échéant outils et méthodologie proposés)\": {\n",
      "\"justification\": \"Le candidat semble avoir une bonne compréhension des besoins de la mission grâce à son expérience pertinente en support, gestion d'incidents, communication et documentation. Cependant, il manque quelques éléments spécifiques sur la gestion des stocks, des dotations d'équipements et les outils/méthodologies utilisés pour ces tâches.\",\n",
      "\"score\": 4\n",
      "},\n",
      "\"Nombre et pertinence des expériences similaires\": {\n",
      "\"justification\": \"Le candidat possède de nombreuses expériences très pertinentes couvrant la plupart des aspects de la mission, notamment le support bureautique, la gestion d'incidents, la documentation et la communication. Cependant, il manque d'expérience spécifique dans la gestion des stocks et approvisionnements d'équipements.\",\n",
      "\"score\": 4\n",
      "},\n",
      "\"Compétences techniques\": {\n",
      "\"justification\": \"Le candidat a une solide expérience dans la gestion des services bureautiques et le support technique. Cependant, ses compétences semblent davantage axées sur les environnements mainframe et anciennes versions de Windows. Il pourrait nécessiter une formation complémentaire sur les flottes mobiles Android/iOS, les parcs Windows/Mac récents et les environnements O365/AD/VPN.\",\n",
      "\"score\": 3\n",
      "},\n",
      "\"Connaissance du domaine fonctionnel\": {\n",
      "\"justification\": \"Le candidat possède une expérience pertinente dans des tâches similaires à celles de la mission, comme la gestion d'incidents, le support aux utilisateurs et la documentation. Cependant, il manque d'expérience récente dans la gestion de flottes mobiles et de stocks/approvisionnements, qui sont des aspects importants du domaine fonctionnel.\",\n",
      "\"score\": 3\n",
      "},\n",
      "\"Expériences similaires en accompagnement au changement, actions pédagogiques illustrant la capacité d'écoute, de reformulation et de synthèse\": {\n",
      "\"justification\": \"Le candidat a une expérience significative dans le support aux utilisateurs, la communication et la documentation, ce qui implique probablement des capacités d'écoute et de reformulation. Cependant, peu d'exemples concrets sont fournis sur des actions pédagogiques spécifiques démontrant ces capacités.\",\n",
      "\"score\": 3\n",
      "}\n",
      "}\n",
      "</json_output>\n",
      "\n",
      "<json_output>\n",
      "{\n",
      "\"Qualité de la réponse (Compréhension du besoin, le cas échéant outils et méthodologie proposés)\": {\n",
      "\"justification\": \"Le candidat a une expérience pertinente en gestion documentaire et support utilisateurs, mais son CV ne fournit pas suffisamment de détails sur sa compréhension des besoins techniques et méthodologiques spécifiques de cette mission, notamment sur les environnements Android/iOS, Windows/Mac, O365/AD/VPN et la gestion des stocks/équipements.\",\n",
      "\"score\": 3\n",
      "},\n",
      "\"Nombre et pertinence des expériences similaires\": {\n",
      "\"justification\": \"Le candidat possède de nombreuses expériences pertinentes couvrant une grande partie des tâches attendues, notamment le support utilisateurs, l'assistance, l'administration et la gestion de projets. Cependant, il manque peut-être un peu d'expérience spécifique sur la gestion des stocks et des équipements.\",\n",
      "\"score\": 4\n",
      "},\n",
      "\"Compétences techniques\": {\n",
      "\"justification\": \"Le candidat a une solide expérience dans le support technique et la gestion de parcs bureautiques, avec une stack technique variée. Cependant, il n'a pas d'expérience spécifique mentionnée avec les flottes mobiles Android/iOS et l'environnement O365/Active Directory/VPN requis pour cette mission.\",\n",
      "\"score\": 3\n",
      "},\n",
      "\"Connaissance du domaine fonctionnel\": {\n",
      "\"justification\": \"Le candidat a une bonne connaissance du domaine de la gestion documentaire grâce à son expérience chez Solvay. Cependant, son expérience semble plus limitée dans les aspects spécifiques de la gestion des parcs bureautiques, des flottes mobiles et de la gestion des stocks, qui sont des éléments importants du domaine fonctionnel de cette mission.\",\n",
      "\"score\": 3\n",
      "},\n",
      "\"Expériences similaires en accompagnement au changement, actions pédagogiques illustrant la capacité d'écoute, de reformulation et de synthèse\": {\n",
      "\"justification\": \"Le candidat a une expérience significative en support utilisateurs et formation, mais peu de détails sont fournis sur des actions pédagogiques spécifiques démontrant ses capacités de reformulation, d'écoute et de synthèse dans un contexte d'accompagnement au changement.\",\n",
      "\"score\": 3\n",
      "}\n",
      "}\n",
      "</json_output>\n",
      "\n",
      "<json_output>\n",
      "{\n",
      "\"Qualité de la réponse (Compréhension du besoin, le cas échéant outils et méthodologie proposés)\": {\n",
      "\"justification\": \"Le CV montre une expérience pertinente dans la gestion de parcs bureautiques et de flottes mobiles, ainsi que l'utilisation d'outils tels que ServiceNow, SCCM, GLPI, etc. Cependant, il ne démontre pas clairement sa compréhension détaillée des besoins spécifiques de cette mission particulière.\",\n",
      "\"score\": 3\n",
      "},\n",
      "\"Nombre et pertinence des expériences similaires\": {\n",
      "\"justification\": \"Le candidat possède une expérience significative et pertinente dans la gestion des incidents, du matériel bureautique et l'assistance aux utilisateurs, qui sont des aspects clés de la mission. Cependant, il manque peut-être d'expérience spécifique dans la gestion des stocks et approvisionnements.\",\n",
      "\"score\": 4\n",
      "},\n",
      "\"Compétences techniques\": {\n",
      "\"justification\": \"Le candidat dispose de solides compétences techniques dans la gestion de parcs bureautiques, de flottes mobiles, d'environnements Windows/Mac/Android/iOS/AD/VPN, ainsi que dans l'utilisation d'outils de gestion. Cependant, il manque peut-être d'expérience dans la gestion des approvisionnements/mises au rebut et la rédaction de procédures.\",\n",
      "\"score\": 4\n",
      "},\n",
      "\"Connaissance du domaine fonctionnel\": {\n",
      "\"justification\": \"Le candidat a une expérience significative couvrant de nombreux aspects du domaine fonctionnel attendu, comme la gestion d'incidents, de flottes mobiles, la préparation de postes et l'assistance aux utilisateurs. Cependant, il semble manquer d'expérience dans la gestion des stocks/approvisionnements et la participation à des projets de gestion de site.\",\n",
      "\"score\": 4\n",
      "},\n",
      "\"Expériences similaires en accompagnement au changement, actions pédagogiques illustrant la capacité d'écoute, de reformulation et de synthèse\": {\n",
      "\"justification\": \"Le CV montre des expériences pertinentes en formation d'équipes, rédaction de procédures et assistance aux utilisateurs, impliquant probablement des capacités d'écoute et de reformulation. Cependant, il manque des détails spécifiques sur l'accompagnement au changement et les actions pédagogiques illustrant ces capacités.\",\n",
      "\"score\": 3\n",
      "}\n",
      "}\n",
      "</json_output>\n",
      "\n",
      "<json_output>\n",
      "{\n",
      "\"Qualité de la réponse (Compréhension du besoin, le cas échéant outils et méthodologie proposés)\": {\n",
      "\"justification\": \"Le candidat démontre une bonne compréhension des besoins techniques grâce à son expérience dans la gestion de flottes mobiles, de parcs informatiques et la résolution d'incidents. Cependant, certains aspects comme la gestion des stocks, la documentation et la participation à des projets ne sont pas clairement abordés.\",\n",
      "\"score\": 3\n",
      "},\n",
      "\"Nombre et pertinence des expériences similaires\": {\n",
      "\"justification\": \"Le candidat possède une expérience pertinente et solide dans la gestion de flottes mobiles, le support bureautique, la résolution d'incidents et la gestion de l'Active Directory, correspondant bien aux exigences de la mission. Cependant, son expérience chez Prolival semble moins pertinente.\",\n",
      "\"score\": 4\n",
      "},\n",
      "\"Compétences techniques\": {\n",
      "\"justification\": \"Le candidat a une expérience solide dans la gestion de flottes mobiles, la résolution d'incidents et l'environnement Active Directory/VPN, qui sont des compétences clés pour cette mission. Cependant, il n'a pas d'expérience spécifique mentionnée avec O365 ou la gestion de stocks/approvisionnement.\",\n",
      "\"score\": 4\n",
      "},\n",
      "\"Connaissance du domaine fonctionnel\": {\n",
      "\"justification\": \"Le candidat possède une expérience pertinente en tant que technicien support bureautique et mobilité, avec une bonne connaissance de la gestion des flottes mobiles, de la résolution d'incidents et du support aux utilisateurs. Cependant, son expérience ne couvre pas certains aspects spécifiques comme la gestion des stocks/équipements, la documentation et la participation à des projets.\",\n",
      "\"score\": 4\n",
      "},\n",
      "\"Expériences similaires en accompagnement au changement, actions pédagogiques illustrant la capacité d'écoute, de reformulation et de synthèse\": {\n",
      "\"justification\": \"Le CV montre des expériences pertinentes en assistance aux utilisateurs et résolution de problèmes, impliquant probablement des capacités d'écoute et de reformulation. Cependant, il n'y a pas d'exemples concrets d'actions pédagogiques ou de rédaction de documentation illustrant les capacités de synthèse.\",\n",
      "\"score\": 3\n",
      "}\n",
      "}\n",
      "</json_output>\n",
      "['\\n{\\n\"Qualité de la réponse (Compréhension du besoin, le cas échéant outils et méthodologie proposés)\": {\\n\"justification\": \"Le candidat semble avoir une bonne compréhension des besoins de la mission grâce à son expérience pertinente en support, gestion d\\'incidents, communication et documentation. Cependant, il manque quelques éléments spécifiques sur la gestion des stocks, des dotations d\\'équipements et les outils/méthodologies utilisés pour ces tâches.\",\\n\"score\": 4\\n},\\n\"Nombre et pertinence des expériences similaires\": {\\n\"justification\": \"Le candidat possède de nombreuses expériences très pertinentes couvrant la plupart des aspects de la mission, notamment le support bureautique, la gestion d\\'incidents, la documentation et la communication. Cependant, il manque d\\'expérience spécifique dans la gestion des stocks et approvisionnements d\\'équipements.\",\\n\"score\": 4\\n},\\n\"Compétences techniques\": {\\n\"justification\": \"Le candidat a une solide expérience dans la gestion des services bureautiques et le support technique. Cependant, ses compétences semblent davantage axées sur les environnements mainframe et anciennes versions de Windows. Il pourrait nécessiter une formation complémentaire sur les flottes mobiles Android/iOS, les parcs Windows/Mac récents et les environnements O365/AD/VPN.\",\\n\"score\": 3\\n},\\n\"Connaissance du domaine fonctionnel\": {\\n\"justification\": \"Le candidat possède une expérience pertinente dans des tâches similaires à celles de la mission, comme la gestion d\\'incidents, le support aux utilisateurs et la documentation. Cependant, il manque d\\'expérience récente dans la gestion de flottes mobiles et de stocks/approvisionnements, qui sont des aspects importants du domaine fonctionnel.\",\\n\"score\": 3\\n},\\n\"Expériences similaires en accompagnement au changement, actions pédagogiques illustrant la capacité d\\'écoute, de reformulation et de synthèse\": {\\n\"justification\": \"Le candidat a une expérience significative dans le support aux utilisateurs, la communication et la documentation, ce qui implique probablement des capacités d\\'écoute et de reformulation. Cependant, peu d\\'exemples concrets sont fournis sur des actions pédagogiques spécifiques démontrant ces capacités.\",\\n\"score\": 3\\n}\\n}\\n', '\\n{\\n\"Qualité de la réponse (Compréhension du besoin, le cas échéant outils et méthodologie proposés)\": {\\n\"justification\": \"Le candidat a une expérience pertinente en gestion documentaire et support utilisateurs, mais son CV ne fournit pas suffisamment de détails sur sa compréhension des besoins techniques et méthodologiques spécifiques de cette mission, notamment sur les environnements Android/iOS, Windows/Mac, O365/AD/VPN et la gestion des stocks/équipements.\",\\n\"score\": 3\\n},\\n\"Nombre et pertinence des expériences similaires\": {\\n\"justification\": \"Le candidat possède de nombreuses expériences pertinentes couvrant une grande partie des tâches attendues, notamment le support utilisateurs, l\\'assistance, l\\'administration et la gestion de projets. Cependant, il manque peut-être un peu d\\'expérience spécifique sur la gestion des stocks et des équipements.\",\\n\"score\": 4\\n},\\n\"Compétences techniques\": {\\n\"justification\": \"Le candidat a une solide expérience dans le support technique et la gestion de parcs bureautiques, avec une stack technique variée. Cependant, il n\\'a pas d\\'expérience spécifique mentionnée avec les flottes mobiles Android/iOS et l\\'environnement O365/Active Directory/VPN requis pour cette mission.\",\\n\"score\": 3\\n},\\n\"Connaissance du domaine fonctionnel\": {\\n\"justification\": \"Le candidat a une bonne connaissance du domaine de la gestion documentaire grâce à son expérience chez Solvay. Cependant, son expérience semble plus limitée dans les aspects spécifiques de la gestion des parcs bureautiques, des flottes mobiles et de la gestion des stocks, qui sont des éléments importants du domaine fonctionnel de cette mission.\",\\n\"score\": 3\\n},\\n\"Expériences similaires en accompagnement au changement, actions pédagogiques illustrant la capacité d\\'écoute, de reformulation et de synthèse\": {\\n\"justification\": \"Le candidat a une expérience significative en support utilisateurs et formation, mais peu de détails sont fournis sur des actions pédagogiques spécifiques démontrant ses capacités de reformulation, d\\'écoute et de synthèse dans un contexte d\\'accompagnement au changement.\",\\n\"score\": 3\\n}\\n}\\n', '\\n{\\n\"Qualité de la réponse (Compréhension du besoin, le cas échéant outils et méthodologie proposés)\": {\\n\"justification\": \"Le CV montre une expérience pertinente dans la gestion de parcs bureautiques et de flottes mobiles, ainsi que l\\'utilisation d\\'outils tels que ServiceNow, SCCM, GLPI, etc. Cependant, il ne démontre pas clairement sa compréhension détaillée des besoins spécifiques de cette mission particulière.\",\\n\"score\": 3\\n},\\n\"Nombre et pertinence des expériences similaires\": {\\n\"justification\": \"Le candidat possède une expérience significative et pertinente dans la gestion des incidents, du matériel bureautique et l\\'assistance aux utilisateurs, qui sont des aspects clés de la mission. Cependant, il manque peut-être d\\'expérience spécifique dans la gestion des stocks et approvisionnements.\",\\n\"score\": 4\\n},\\n\"Compétences techniques\": {\\n\"justification\": \"Le candidat dispose de solides compétences techniques dans la gestion de parcs bureautiques, de flottes mobiles, d\\'environnements Windows/Mac/Android/iOS/AD/VPN, ainsi que dans l\\'utilisation d\\'outils de gestion. Cependant, il manque peut-être d\\'expérience dans la gestion des approvisionnements/mises au rebut et la rédaction de procédures.\",\\n\"score\": 4\\n},\\n\"Connaissance du domaine fonctionnel\": {\\n\"justification\": \"Le candidat a une expérience significative couvrant de nombreux aspects du domaine fonctionnel attendu, comme la gestion d\\'incidents, de flottes mobiles, la préparation de postes et l\\'assistance aux utilisateurs. Cependant, il semble manquer d\\'expérience dans la gestion des stocks/approvisionnements et la participation à des projets de gestion de site.\",\\n\"score\": 4\\n},\\n\"Expériences similaires en accompagnement au changement, actions pédagogiques illustrant la capacité d\\'écoute, de reformulation et de synthèse\": {\\n\"justification\": \"Le CV montre des expériences pertinentes en formation d\\'équipes, rédaction de procédures et assistance aux utilisateurs, impliquant probablement des capacités d\\'écoute et de reformulation. Cependant, il manque des détails spécifiques sur l\\'accompagnement au changement et les actions pédagogiques illustrant ces capacités.\",\\n\"score\": 3\\n}\\n}\\n', '\\n{\\n\"Qualité de la réponse (Compréhension du besoin, le cas échéant outils et méthodologie proposés)\": {\\n\"justification\": \"Le candidat démontre une bonne compréhension des besoins techniques grâce à son expérience dans la gestion de flottes mobiles, de parcs informatiques et la résolution d\\'incidents. Cependant, certains aspects comme la gestion des stocks, la documentation et la participation à des projets ne sont pas clairement abordés.\",\\n\"score\": 3\\n},\\n\"Nombre et pertinence des expériences similaires\": {\\n\"justification\": \"Le candidat possède une expérience pertinente et solide dans la gestion de flottes mobiles, le support bureautique, la résolution d\\'incidents et la gestion de l\\'Active Directory, correspondant bien aux exigences de la mission. Cependant, son expérience chez Prolival semble moins pertinente.\",\\n\"score\": 4\\n},\\n\"Compétences techniques\": {\\n\"justification\": \"Le candidat a une expérience solide dans la gestion de flottes mobiles, la résolution d\\'incidents et l\\'environnement Active Directory/VPN, qui sont des compétences clés pour cette mission. Cependant, il n\\'a pas d\\'expérience spécifique mentionnée avec O365 ou la gestion de stocks/approvisionnement.\",\\n\"score\": 4\\n},\\n\"Connaissance du domaine fonctionnel\": {\\n\"justification\": \"Le candidat possède une expérience pertinente en tant que technicien support bureautique et mobilité, avec une bonne connaissance de la gestion des flottes mobiles, de la résolution d\\'incidents et du support aux utilisateurs. Cependant, son expérience ne couvre pas certains aspects spécifiques comme la gestion des stocks/équipements, la documentation et la participation à des projets.\",\\n\"score\": 4\\n},\\n\"Expériences similaires en accompagnement au changement, actions pédagogiques illustrant la capacité d\\'écoute, de reformulation et de synthèse\": {\\n\"justification\": \"Le CV montre des expériences pertinentes en assistance aux utilisateurs et résolution de problèmes, impliquant probablement des capacités d\\'écoute et de reformulation. Cependant, il n\\'y a pas d\\'exemples concrets d\\'actions pédagogiques ou de rédaction de documentation illustrant les capacités de synthèse.\",\\n\"score\": 3\\n}\\n}\\n']\n",
      "[{'Qualité de la réponse (Compréhension du besoin, le cas échéant outils et méthodologie proposés)': {'justification': \"Le candidat semble avoir une bonne compréhension des besoins de la mission grâce à son expérience pertinente en support, gestion d'incidents, communication et documentation. Cependant, il manque quelques éléments spécifiques sur la gestion des stocks, des dotations d'équipements et les outils/méthodologies utilisés pour ces tâches.\", 'score': 4}, 'Nombre et pertinence des expériences similaires': {'justification': \"Le candidat possède de nombreuses expériences très pertinentes couvrant la plupart des aspects de la mission, notamment le support bureautique, la gestion d'incidents, la documentation et la communication. Cependant, il manque d'expérience spécifique dans la gestion des stocks et approvisionnements d'équipements.\", 'score': 4}, 'Compétences techniques': {'justification': 'Le candidat a une solide expérience dans la gestion des services bureautiques et le support technique. Cependant, ses compétences semblent davantage axées sur les environnements mainframe et anciennes versions de Windows. Il pourrait nécessiter une formation complémentaire sur les flottes mobiles Android/iOS, les parcs Windows/Mac récents et les environnements O365/AD/VPN.', 'score': 3}, 'Connaissance du domaine fonctionnel': {'justification': \"Le candidat possède une expérience pertinente dans des tâches similaires à celles de la mission, comme la gestion d'incidents, le support aux utilisateurs et la documentation. Cependant, il manque d'expérience récente dans la gestion de flottes mobiles et de stocks/approvisionnements, qui sont des aspects importants du domaine fonctionnel.\", 'score': 3}, \"Expériences similaires en accompagnement au changement, actions pédagogiques illustrant la capacité d'écoute, de reformulation et de synthèse\": {'justification': \"Le candidat a une expérience significative dans le support aux utilisateurs, la communication et la documentation, ce qui implique probablement des capacités d'écoute et de reformulation. Cependant, peu d'exemples concrets sont fournis sur des actions pédagogiques spécifiques démontrant ces capacités.\", 'score': 3}}, {'Qualité de la réponse (Compréhension du besoin, le cas échéant outils et méthodologie proposés)': {'justification': 'Le candidat a une expérience pertinente en gestion documentaire et support utilisateurs, mais son CV ne fournit pas suffisamment de détails sur sa compréhension des besoins techniques et méthodologiques spécifiques de cette mission, notamment sur les environnements Android/iOS, Windows/Mac, O365/AD/VPN et la gestion des stocks/équipements.', 'score': 3}, 'Nombre et pertinence des expériences similaires': {'justification': \"Le candidat possède de nombreuses expériences pertinentes couvrant une grande partie des tâches attendues, notamment le support utilisateurs, l'assistance, l'administration et la gestion de projets. Cependant, il manque peut-être un peu d'expérience spécifique sur la gestion des stocks et des équipements.\", 'score': 4}, 'Compétences techniques': {'justification': \"Le candidat a une solide expérience dans le support technique et la gestion de parcs bureautiques, avec une stack technique variée. Cependant, il n'a pas d'expérience spécifique mentionnée avec les flottes mobiles Android/iOS et l'environnement O365/Active Directory/VPN requis pour cette mission.\", 'score': 3}, 'Connaissance du domaine fonctionnel': {'justification': 'Le candidat a une bonne connaissance du domaine de la gestion documentaire grâce à son expérience chez Solvay. Cependant, son expérience semble plus limitée dans les aspects spécifiques de la gestion des parcs bureautiques, des flottes mobiles et de la gestion des stocks, qui sont des éléments importants du domaine fonctionnel de cette mission.', 'score': 3}, \"Expériences similaires en accompagnement au changement, actions pédagogiques illustrant la capacité d'écoute, de reformulation et de synthèse\": {'justification': \"Le candidat a une expérience significative en support utilisateurs et formation, mais peu de détails sont fournis sur des actions pédagogiques spécifiques démontrant ses capacités de reformulation, d'écoute et de synthèse dans un contexte d'accompagnement au changement.\", 'score': 3}}, {'Qualité de la réponse (Compréhension du besoin, le cas échéant outils et méthodologie proposés)': {'justification': \"Le CV montre une expérience pertinente dans la gestion de parcs bureautiques et de flottes mobiles, ainsi que l'utilisation d'outils tels que ServiceNow, SCCM, GLPI, etc. Cependant, il ne démontre pas clairement sa compréhension détaillée des besoins spécifiques de cette mission particulière.\", 'score': 3}, 'Nombre et pertinence des expériences similaires': {'justification': \"Le candidat possède une expérience significative et pertinente dans la gestion des incidents, du matériel bureautique et l'assistance aux utilisateurs, qui sont des aspects clés de la mission. Cependant, il manque peut-être d'expérience spécifique dans la gestion des stocks et approvisionnements.\", 'score': 4}, 'Compétences techniques': {'justification': \"Le candidat dispose de solides compétences techniques dans la gestion de parcs bureautiques, de flottes mobiles, d'environnements Windows/Mac/Android/iOS/AD/VPN, ainsi que dans l'utilisation d'outils de gestion. Cependant, il manque peut-être d'expérience dans la gestion des approvisionnements/mises au rebut et la rédaction de procédures.\", 'score': 4}, 'Connaissance du domaine fonctionnel': {'justification': \"Le candidat a une expérience significative couvrant de nombreux aspects du domaine fonctionnel attendu, comme la gestion d'incidents, de flottes mobiles, la préparation de postes et l'assistance aux utilisateurs. Cependant, il semble manquer d'expérience dans la gestion des stocks/approvisionnements et la participation à des projets de gestion de site.\", 'score': 4}, \"Expériences similaires en accompagnement au changement, actions pédagogiques illustrant la capacité d'écoute, de reformulation et de synthèse\": {'justification': \"Le CV montre des expériences pertinentes en formation d'équipes, rédaction de procédures et assistance aux utilisateurs, impliquant probablement des capacités d'écoute et de reformulation. Cependant, il manque des détails spécifiques sur l'accompagnement au changement et les actions pédagogiques illustrant ces capacités.\", 'score': 3}}, {'Qualité de la réponse (Compréhension du besoin, le cas échéant outils et méthodologie proposés)': {'justification': \"Le candidat démontre une bonne compréhension des besoins techniques grâce à son expérience dans la gestion de flottes mobiles, de parcs informatiques et la résolution d'incidents. Cependant, certains aspects comme la gestion des stocks, la documentation et la participation à des projets ne sont pas clairement abordés.\", 'score': 3}, 'Nombre et pertinence des expériences similaires': {'justification': \"Le candidat possède une expérience pertinente et solide dans la gestion de flottes mobiles, le support bureautique, la résolution d'incidents et la gestion de l'Active Directory, correspondant bien aux exigences de la mission. Cependant, son expérience chez Prolival semble moins pertinente.\", 'score': 4}, 'Compétences techniques': {'justification': \"Le candidat a une expérience solide dans la gestion de flottes mobiles, la résolution d'incidents et l'environnement Active Directory/VPN, qui sont des compétences clés pour cette mission. Cependant, il n'a pas d'expérience spécifique mentionnée avec O365 ou la gestion de stocks/approvisionnement.\", 'score': 4}, 'Connaissance du domaine fonctionnel': {'justification': \"Le candidat possède une expérience pertinente en tant que technicien support bureautique et mobilité, avec une bonne connaissance de la gestion des flottes mobiles, de la résolution d'incidents et du support aux utilisateurs. Cependant, son expérience ne couvre pas certains aspects spécifiques comme la gestion des stocks/équipements, la documentation et la participation à des projets.\", 'score': 4}, \"Expériences similaires en accompagnement au changement, actions pédagogiques illustrant la capacité d'écoute, de reformulation et de synthèse\": {'justification': \"Le CV montre des expériences pertinentes en assistance aux utilisateurs et résolution de problèmes, impliquant probablement des capacités d'écoute et de reformulation. Cependant, il n'y a pas d'exemples concrets d'actions pédagogiques ou de rédaction de documentation illustrant les capacités de synthèse.\", 'score': 3}}]\n",
      "<class 'list'>\n",
      "<class 'dict'>\n",
      "4\n",
      "Note technique : 3.4000000000000004\n",
      "Note technique : 3.3\n",
      "Note technique : 3.8\n",
      "Note technique : 3.8\n"
     ]
    }
   ],
   "source": [
    "from dag_nao.modules.technical_notation.single_and_multi_resume_comparator.llm_comparator import LLMComparator\n",
    "\n",
    "llm_comparator = LLMComparator()\n",
    "formated_response, formated_json_response_list, score = llm_comparator.call_comparator(requirements=REQUIREMENTS, criterias=CRITERIAS, list_resume=RESUME, scale=SCALE)"
   ]
  },
  {
   "cell_type": "code",
   "execution_count": 8,
   "metadata": {},
   "outputs": [],
   "source": [
    "dict_loaded = json.loads(json.dumps(\n",
    "    \n",
    "    {\n",
    "    'Compétences techniques': {\n",
    "        'justification': \"Le candidat dispose d'une expérience solide de plus de 15 ans dans des postes de technicien informatique, avec une connaissance approfondie des environnements Windows, Mac, Android et iOS. Il maîtrise les outils de gestion de parc comme SCCM, GLPI et ServiceNow, et a une expérience dans la gestion des incidents, des stocks et des licences. Il a démontré sa capacité à travailler de manière autonome et à alerter en cas de besoin. Cependant, son CV ne mentionne pas d'expérience spécifique dans la gestion des approvisionnements et des mises au rebut, ce qui pourrait être un point faible par rapport aux exigences de la mission.\",\n",
    "        'score': 4\n",
    "    }\n",
    "}\n",
    "))"
   ]
  },
  {
   "cell_type": "code",
   "execution_count": 9,
   "metadata": {},
   "outputs": [
    {
     "data": {
      "text/plain": [
       "{'Compétences techniques': {'justification': \"Le candidat dispose d'une expérience solide de plus de 15 ans dans des postes de technicien informatique, avec une connaissance approfondie des environnements Windows, Mac, Android et iOS. Il maîtrise les outils de gestion de parc comme SCCM, GLPI et ServiceNow, et a une expérience dans la gestion des incidents, des stocks et des licences. Il a démontré sa capacité à travailler de manière autonome et à alerter en cas de besoin. Cependant, son CV ne mentionne pas d'expérience spécifique dans la gestion des approvisionnements et des mises au rebut, ce qui pourrait être un point faible par rapport aux exigences de la mission.\",\n",
       "  'score': 4}}"
      ]
     },
     "execution_count": 9,
     "metadata": {},
     "output_type": "execute_result"
    }
   ],
   "source": [
    "dict_loaded"
   ]
  },
  {
   "cell_type": "code",
   "execution_count": 10,
   "metadata": {},
   "outputs": [
    {
     "data": {
      "text/plain": [
       "dict"
      ]
     },
     "execution_count": 10,
     "metadata": {},
     "output_type": "execute_result"
    }
   ],
   "source": [
    "type(dict_loaded)"
   ]
  },
  {
   "cell_type": "code",
   "execution_count": 11,
   "metadata": {},
   "outputs": [
    {
     "ename": "NameError",
     "evalue": "name 'formated_json_response' is not defined",
     "output_type": "error",
     "traceback": [
      "\u001b[0;31m---------------------------------------------------------------------------\u001b[0m",
      "\u001b[0;31mNameError\u001b[0m                                 Traceback (most recent call last)",
      "Cell \u001b[0;32mIn[11], line 3\u001b[0m\n\u001b[1;32m      1\u001b[0m \u001b[38;5;66;03m# Create a dictionary to store the aggregated scores\u001b[39;00m\n\u001b[1;32m      2\u001b[0m aggregated_scores \u001b[38;5;241m=\u001b[39m \u001b[38;5;241m0\u001b[39m\n\u001b[0;32m----> 3\u001b[0m criteria_scores \u001b[38;5;241m=\u001b[39m \u001b[43mformated_json_response\u001b[49m\n\u001b[1;32m      4\u001b[0m criteria_weights \u001b[38;5;241m=\u001b[39m CRITERIAS\n\u001b[1;32m      5\u001b[0m \u001b[38;5;66;03m# Iterate through each criterion and its weight\u001b[39;00m\n",
      "\u001b[0;31mNameError\u001b[0m: name 'formated_json_response' is not defined"
     ]
    }
   ],
   "source": [
    "# Create a dictionary to store the aggregated scores\n",
    "aggregated_scores = 0\n",
    "criteria_scores = formated_json_response\n",
    "criteria_weights = CRITERIAS\n",
    "# Iterate through each criterion and its weight\n",
    "for criterion in criteria_weights:\n",
    "    critere_name = criterion['critere'][0]\n",
    "    weight = criterion['ponderation'][0] / 100\n",
    "\n",
    "    # Iterate through the scores and justifications\n",
    "    for key, value in criteria_scores.items():\n",
    "        if key == critere_name:\n",
    "            # Aggregate the weighted score\n",
    "            aggregated_scores += value['score'] * (weight)\n",
    "\n",
    "print(f\"Note technique : {aggregated_scores}\")"
   ]
  }
 ],
 "metadata": {
  "kernelspec": {
   "display_name": "Python 3",
   "language": "python",
   "name": "python3"
  },
  "language_info": {
   "codemirror_mode": {
    "name": "ipython",
    "version": 3
   },
   "file_extension": ".py",
   "mimetype": "text/x-python",
   "name": "python",
   "nbconvert_exporter": "python",
   "pygments_lexer": "ipython3",
   "version": "3.11.9"
  }
 },
 "nbformat": 4,
 "nbformat_minor": 2
}
