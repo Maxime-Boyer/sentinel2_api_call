{
 "cells": [
  {
   "cell_type": "code",
   "execution_count": 1,
   "metadata": {},
   "outputs": [],
   "source": [
    "# %pip install boto3==1.34.93 ipython --quiet\n",
    "\n",
    "%load_ext autoreload\n",
    "%autoreload 2"
   ]
  },
  {
   "cell_type": "code",
   "execution_count": 2,
   "metadata": {},
   "outputs": [],
   "source": [
    "# import boto3\n",
    "import json, re\n",
    "# %time\n",
    "# session = boto3.session.Session()\n",
    "# bedrock_client = session.client(\n",
    "#     service_name='bedrock-runtime',\n",
    "#     region_name='eu-west-3',\n",
    "# )\n",
    "\n",
    "# # Model id and Claude config\n",
    "# model_id = \"anthropic.claude-3-sonnet-20240229-v1:0\"\n",
    "# claude_config = {\n",
    "#     'max_tokens': 4096,\n",
    "#     'temperature': 0, \n",
    "#     'anthropic_version': '',\n",
    "#     'stop_sequences': ['Human:']\n",
    "# }"
   ]
  },
  {
   "cell_type": "code",
   "execution_count": 3,
   "metadata": {},
   "outputs": [
    {
     "name": "stdout",
     "output_type": "stream",
     "text": [
      "{'objectif_de_la_mission': [\"Mission permettant de valoriser les services SI et de garantir une forte valeur ajoutée à ses Clients sur les activités d'assistance à maîtrise d'ouvrage sur les applications du pôle Services FM.\", 2], 'duree_de_la_mission': [216, 2], 'nombre_de_profils': [2, 3], 'types_de_profils': [{'type': ['101.S.PAR (en priorité)', 3]}, {'type': ['101.E.PAR', 3]}], 'taches_et_responsabilites': [{'tache_et_responsabilite': ['Gestion opérationnelle du projet (organisation, cadrage, planification, coordination, reporting, TQM, gestion documentaire, …)', 7]}, {'tache_et_responsabilite': ['Assistance au pilotage budgétaire des projets (suivi de la gestion des budgets : réalisé /budget, accostage, etc. …)', 7]}, {'tache_et_responsabilite': ['Reporting avancement auprès du responsable du pôle', 7]}, {'tache_et_responsabilite': [\"A l'identification et la qualification des besoins et des enjeux\", 7]}, {'tache_et_responsabilite': [\"Au recueil, à la rédaction d'expressions de besoins, à la rédaction de spécifications fonctionnelles et à la validation de ces livrables\", 7]}, {'tache_et_responsabilite': [\"À la définition de l'architecture fonctionnelle en lien avec les équipes de MO et d'AMOA SI du département SI, les urbanistes et les architectes des DSI support\", 7]}, {'tache_et_responsabilite': [\"Aux travaux de cadrage SI, aux études d'opportunité et de faisabilité\", 7]}, {'tache_et_responsabilite': [\"À la préparation, l'exécution et le suivi des recettes\", 7]}, {'tache_et_responsabilite': ['Au support aux utilisateurs (guides, support fonctionnel, …)', 7]}, {'tache_et_responsabilite': [\"Appui à la formalisation des processus SI métiers de l'activité foncière et immobilière (définition de processus, rédaction de procédures, etc.)\", 7]}], 'competences_du_profils': [{'competence': [\"Aptitude à agir en tant qu'assistant à maîtrise d'ouvrage SI et à représenter le pôle SI auprès des métiers clients\", 9]}, {'competence': ['Expérience en AMOA SI dans le domaine immobilier souhaitée', 9]}, {'competence': [\"Expérience reconnue en gestion de projets SI, sens de l'organisation et du service, autonomie, prise d'initiatives\", 9]}, {'competence': [\"Connaissances techniques SI (conception fonctionnelle d'application et urbanisation des échanges en particulier)\", 9]}, {'competence': ['Expérience de la conduite du changement (formation, support utilisateurs)', 9]}, {'competence': ['Capacité à travailler en transverse, à piloter et animer des équipes pluridisciplinaires (SI et métiers – internes et externes)', 9]}, {'competence': ['Coopération', 9]}, {'competence': ['Engagement', 9]}, {'competence': [\"Sens de l'organisation\", 9]}, {'competence': ['Sens du résultat', 9]}, {'competence': ['Sens de la satisfaction clients/utilisateurs', 9]}, {'competence': ['Pédagogie', 9]}, {'competence': ['Très bonne communication écrite et orale', 9]}], 'stack_technique': [{'tache': ['framework .netCore 3.1, C# 8.0 - SGBD SQL Server Express', 6]}, {'tache': ['DEV OPS', 6]}, {'tache': [\"software de l'éditeur eCervo, HTML 5.0, JavaScript\", 6]}, {'tache': ['CI, Gitlab, MS Azure, Dockers', 6]}], 'duree_de_la_mission_avec_option': ['432 jours', 3]}\n",
      "{'diplomes': [{'niveau_etude': 'Bac+2', 'date_obtention': '1984-01-01', 'diplome': 'DUT Analyste Programmeur en Informatique de Gestion', 'competences_acquises': [{'tache': 'N/A'}]}, {'niveau_etude': 'Bac+2', 'date_obtention': '1983-01-01', 'diplome': 'DUT Programmeur en micro-informatique', 'competences_acquises': [{'tache': 'N/A'}]}, {'niveau_etude': 'Bac', 'date_obtention': '1982-01-01', 'diplome': 'Bac D (Mathématiques et Sciences de la nature)', 'competences_acquises': [{'tache': 'N/A'}]}], 'certifications': [{'date_obtention': '1993-01-01', 'certification': 'Langage C sous Unix', 'competences_acquises': [{'tache': 'N/A'}]}], 'langues_parlees': [{'langue': 'Français', 'niveau': 'N/A'}, {'langue': 'Anglais', 'niveau': 'N/A'}, {'langue': 'Portugais', 'niveau': 'N/A'}, {'langue': 'Espagnol', 'niveau': 'N/A'}], 'experiences_entreprise': [{'nom_entreprise': 'APPLANCE', 'duree_experience': 'N/A', 'date_debut_experience': '2021-12-01', 'date_fin_experience': 'N/A', 'nom_poste': 'Consultant indépendant', 'stack_technique': [{'tache': 'N/A'}]}, {'nom_entreprise': 'SOPRA STERIA Group', 'duree_experience': '1 année, 11 mois', 'date_debut_experience': '2020-01-01', 'date_fin_experience': '2021-11-30', 'nom_poste': 'Directeur de projets, Team Manager, Responsable de compte client', 'stack_technique': [{'tache': 'Power BI, Oracle 19'}]}, {'nom_entreprise': 'SCEPIA', 'duree_experience': '26 ans', 'date_debut_experience': '1993-10-01', 'date_fin_experience': '2019-12-31', 'nom_poste': 'Chef de projets R&D, Directeur technique, DGA', 'stack_technique': [{'tache': 'Windev, Windev Mobile, Webdev, SQLServer, HyperFile'}]}, {'nom_entreprise': 'GOFOR', 'duree_experience': '2 ans, 7 mois', 'date_debut_experience': '1999-03-01', 'date_fin_experience': '2001-09-30', 'nom_poste': 'Chef de Projet Senior, Product Owner, Tech Lead', 'stack_technique': [{'tache': 'Visual Basic et SQLServer'}]}, {'nom_entreprise': 'CESI', 'duree_experience': '5 ans, 5 mois', 'date_debut_experience': '1988-05-01', 'date_fin_experience': '1993-09-30', 'nom_poste': 'Chef de Projets R&D Sénior', 'stack_technique': [{'tache': 'Prologue Software, WINDOWS, UNIX, BAL, ABAL, CRITERIA SI/MC'}]}, {'nom_entreprise': 'DCM', 'duree_experience': '3 ans, 5 mois', 'date_debut_experience': '1984-12-01', 'date_fin_experience': '1988-04-30', 'nom_poste': 'Analyste Programmeur', 'stack_technique': [{'tache': 'Prologue Software, BAL, ABAL, CRITERIA SI/MC'}]}, {'nom_entreprise': ['APPLANCE', 3], 'nom_poste': ['Consultant indépendant', 3], 'role': [{'tache': ['Direction de projet (CODIR, COPROJ)', 3]}, {'tache': ['Participation aux ateliers de cadrage', 3]}, {'tache': ['Accompagnement lors des ateliers de formation', 3]}, {'tache': ['Participation aux ateliers de recette', 3]}]}, {'nom_entreprise': ['SOPRA STERIA Group', 3], 'nom_poste': ['Directeur de projets, Team Manager, Responsable de compte client', 3], 'role': [{'tache': ['Direction de projets sur le produit ERP Ulis.', 3]}, {'tache': [\"Suivi de comptes clients de l'ERP Ulis afin de répondre à leurs besoins et organiser le service à fournir.\", 3]}, {'tache': [\"Proposition, organisation et suivi des plans d'interventions des consultants auprès des clients.\", 3]}, {'tache': ['Prise en compte des problèmes rencontrés et identification des causes.', 3]}, {'tache': ['Définition précise des tâches à effectuer dans le respect des délais et des attentes.', 3]}, {'tache': [\"Recrutement, formation et gestion d'une équipe de 20 consultants.\", 3]}]}, {'nom_entreprise': ['SCEPIA', 3], 'nom_poste': ['Chef de projets R&D, Directeur technique, DGA Responsable du portefeuille projets', 3], 'role': [{'tache': ['Editeur ERP et outils SIRH destinés aux bailleurs du logement social (SIRH contexte public (90 OPH clients) et privé (50 clients) : Bulletins de salaire, gestion de temps, gestion des absences, DSN, portail salarié, …).', 3]}, {'tache': ['Direction de projets sur plusieurs fusions des SI de bailleurs immobiliers sociaux (regroupements conséquences de la loi Elan).', 3]}, {'tache': [\"Gestion de projets (Chef de projet) d'implémentation/intégration de l'ERP Immobilier social et du SIRH Paie Fonction Publique d'Etat et du Privé.\", 3]}, {'tache': ['Formation des utilisateurs.', 3]}, {'tache': ['Support client niveau expert.', 3]}, {'tache': [\"En charge de l'élaboration/suivi de la roadmap des produits phares de SCEPIA.\", 3]}, {'tache': ['Responsable de la veille technologique sur les outils liés au processus de production.', 4]}, {'tache': [\"Gestion, accompagnement, supervision de l'équipe de développement.\", 4]}, {'tache': [\"Product Owner sur les modules Financiers (Comptabilité M31, M61, M14) et Techniques de l'ERP Immobilier des bailleurs sociaux.\", 4]}, {'tache': [\"Animation d'ateliers de travail avec les clients.\", 4]}, {'tache': [\"Animation d'ateliers d'analyse de backlogs produits avec les clients.\", 4]}, {'tache': ['Support client niveau expert sur les modules Financiers et Gestion Techniques.', 4]}]}, {'nom_entreprise': ['GOFOR', 4], 'nom_poste': ['Chef de Projet Senior, Product Owner, Tech Lead', 4], 'role': [{'tache': [\"Editeur d'un ERP spécialisé dans la gestion des usines et points de ventes de Chaussures et de Prêt à porter.\", 4]}, {'tache': ['Développement des solutions métiers standard.', 4]}, {'tache': ['Développement des solutions personnalisées (spécifiques) clients si besoin.', 4]}, {'tache': [\"Ateliers d'analyse des besoins avec les clients.\", 4]}, {'tache': ['Assistance au service de support technique.', 4]}, {'tache': ['Veille technologique et présentation de solutions innovantes aux clients.', 4]}, {'tache': ['Formation des utilisateurs des logiciels.', 4]}, {'tache': ['Opérations de maintenance effectuées sur les solutions installées chez les clients.', 4]}, {'tache': ['Management de deux développeurs.', 4]}]}, {'nom_entreprise': ['CESI', 4], 'nom_poste': ['Chef de Projets R&D Sénior', 4], 'role': [{'tache': [\"Conception d'un ERP destiné aux agents et concessionnaires automobiles (80% du réseau SEAT, concessions du réseau SONAUTO (Porsche, Mitsubishi), concessions du réseau Mercedes).\", 4]}, {'tache': ['Identification du besoin du client afin de proposer une solution logicielle prenant en compte leurs besoins et contraintes.', 5]}, {'tache': [\"Élaboration d'un plan de tests des objets et des composants au fil des développements afin de corriger les anomalies détectées et garantir la fiabilité de l'application.\", 5]}, {'tache': [\"Mise en œuvre d'une expertise technique et fonctionnelle permettant d'analyser les attentes des utilisateurs et la faisabilité à partir d'un cahier des charges.\", 5]}, {'tache': ['Traitement du backlog des produits.', 5]}, {'tache': [\"Préparation d'un dossier technique décrivant les différentes phases de la conception de l'application afin de disposer d'une source de référence fiable pour les futures interventions sur celle-ci.\", 5]}]}, {'nom_entreprise': ['DCM', 5], 'nom_poste': ['Analyste Programmeur', 5], 'role': [{'tache': ['Conception de solutions logicielles sur mesure (spécifique).', 5]}, {'tache': ['Gestion du support client et de la maintenance évolutive.', 5]}, {'tache': ['Rédaction de la documentation utilisateur.', 5]}]}]}\n"
     ]
    }
   ],
   "source": [
    "# Fill with your json sample files here\n",
    "cdc_json_file_path = \"/workspace/formatted_json_cdc2.json\" \n",
    "cv_json_file_path = \"/workspace/formatted_json_cv2.json\"\n",
    "rec_json_file_path = \"/workspace/formatted_json_rec2.json\"\n",
    "\n",
    "# Open the JSON file and load its contents\n",
    "with open(cdc_json_file_path, \"r\") as file:\n",
    "    cdc_json_data = json.load(file)\n",
    "with open(cv_json_file_path, \"r\") as file:\n",
    "    cv_json_data = json.load(file)\n",
    "with open(rec_json_file_path, \"r\") as file:\n",
    "    rec_json_data = json.load(file)\n",
    "\n",
    "# Now you can work with the loaded JSON data\n",
    "print(cdc_json_data)\n",
    "print(cv_json_data)\n",
    "\n",
    "# Add you json inputs here\n",
    "REQUIREMENTS = cdc_json_data\n",
    "RESUME = cv_json_data"
   ]
  },
  {
   "cell_type": "code",
   "execution_count": 4,
   "metadata": {},
   "outputs": [
    {
     "name": "stdout",
     "output_type": "stream",
     "text": [
      "Qualité de la réponse (Compréhension du besoin, le cas échéant outils et méthodologie proposés)\n",
      "Nombre et pertinence des expériences similaires\n",
      "Compétences techniques\n",
      "Complexité des missions gérées\n",
      "Connaissance du domaine fonctionnel (Facility management)\n"
     ]
    }
   ],
   "source": [
    "CRITERIAS  = rec_json_data['sous_criteres_techniques_et_ponderation']\n",
    "\n",
    "for critere_json in rec_json_data['sous_criteres_techniques_et_ponderation']:\n",
    "    print(critere_json['critere'][0])"
   ]
  },
  {
   "cell_type": "code",
   "execution_count": 5,
   "metadata": {},
   "outputs": [],
   "source": [
    "SCALE = {\n",
    "    0: \"Ne répond pas au besoin\",\n",
    "    1: \"Ne répond pas suffisamment au besoin\",\n",
    "    2: \"Répond partiellement au besoin\",\n",
    "    3: \"Répond correctement au besoin\",\n",
    "    4: \"Très bonne réponse\",\n",
    "    5: \"Réponse au-delà des attentes\"\n",
    "}\n"
   ]
  },
  {
   "cell_type": "code",
   "execution_count": 6,
   "metadata": {},
   "outputs": [],
   "source": [
    "# prompt = f\"\"\"\n",
    "# Vous êtes un assistant d'analyse des compétences techniques de CV dans le cadre de réponse à appel\n",
    "# d'offre du groupe SNCF. Votre tâche est d'évaluer un CV par rapport à un ensemble de critères\n",
    "# techniques pondérés fournis.\n",
    "\n",
    "# Voici les informations dont vous disposez :\n",
    "\n",
    "# <Requirements>\n",
    "# {REQUIREMENTS}\n",
    "# </Requirements>\n",
    "\n",
    "# <Criteria>\n",
    "# {CRITERIAS}\n",
    "# </Criteria>\n",
    "\n",
    "# <Resume>\n",
    "# {RESUME}\n",
    "# </Resume>\n",
    "\n",
    "# <Scale>\n",
    "# {SCALE}\n",
    "# </Scale>\n",
    "# \"\"\" + \"\"\"\n",
    "# Commencez par lire attentivement les exigences et les critères. Ensuite, analysez le CV par rapport\n",
    "# à chaque critère. Pour chaque critère, fournissez d'abord une justification détaillée de la note que\n",
    "# vous attribuez au candidat. Utilisez les informations du CV pour expliquer pourquoi vous pensez que\n",
    "# le candidat mérite cette note pour ce critère spécifique.\n",
    "\n",
    "# Après avoir fourni la justification, donnez une note numérique entre 1 et 5 en vous basant sur\n",
    "# l'échelle de notation fournie.\n",
    "\n",
    "# Une fois que vous avez analysé tous les critères, produisez un JSON avec les notes et les\n",
    "# justifications pour chaque critère.\n",
    "\n",
    "# Le format du JSON doit être le suivant :\n",
    "\n",
    "# {\n",
    "# 'critère 1': {\n",
    "# 'justification': 'Justification détaillée pour la note',\n",
    "# 'score': X\n",
    "# },\n",
    "# 'critère 2': {\n",
    "# 'justification': 'Justification détaillée pour la note',\n",
    "# 'score': Y\n",
    "# },\n",
    "# ...\n",
    "# }\n",
    "\n",
    "# Remplacez \"critère 1\", \"critère 2\", etc. par les noms réels des critères. Assurez-vous que les\n",
    "# justifications sont claires et détaillées, et que les scores sont conformes à l'échelle de notation\n",
    "# fournie.\n",
    "\n",
    "# <scratchpad>\n",
    "# Vous pouvez utiliser cette zone pour prendre des notes et organiser vos pensées avant de produire le\n",
    "# JSON final.\n",
    "# </scratchpad>\n",
    "\n",
    "# <json_output>\n",
    "# Écrivez votre sortie JSON ici.\n",
    "# </json_output>\n",
    "# \"\"\""
   ]
  },
  {
   "cell_type": "code",
   "execution_count": 7,
   "metadata": {},
   "outputs": [],
   "source": [
    "# def prepare_bedrock_request(messages, claude_config):\n",
    "#     return {\n",
    "#         'messages': messages,\n",
    "#         **claude_config,\n",
    "#     }\n",
    "# def extract_bedrock_response(response):\n",
    "#     body = json.loads(response['body'].read().decode('utf-8'))\n",
    "#     return body['content'][0]['text']\n",
    "\n",
    "# def pretty_print(message):\n",
    "#     print('\\n\\n'.join('\\n'.join(line.strip() for line in re.findall(r'.{1,100}(?:\\s+|$)', paragraph.strip('\\n'))) for paragraph in re.split(r'\\n\\n+', message)))"
   ]
  },
  {
   "cell_type": "code",
   "execution_count": 8,
   "metadata": {},
   "outputs": [],
   "source": [
    "# %%time\n",
    "# messages = [\n",
    "#     {\"role\": \"user\", \"content\": [\n",
    "#         {\"type\": \"text\", \"text\": prompt},\n",
    "#         ]\n",
    "#     }\n",
    "# ]\n",
    "\n",
    "# body = prepare_bedrock_request(messages, claude_config)\n",
    "# response = bedrock_client.invoke_model(modelId=model_id, body=json.dumps(body))\n",
    "# formated_response = extract_bedrock_response(response)"
   ]
  },
  {
   "cell_type": "code",
   "execution_count": 9,
   "metadata": {},
   "outputs": [],
   "source": [
    "# pretty_print(formated_response)"
   ]
  },
  {
   "cell_type": "code",
   "execution_count": 10,
   "metadata": {},
   "outputs": [],
   "source": [
    "from dag_nao.modules.technical_notation.compare_experiences.llm_comparator import LLMComparator\n",
    "\n",
    "llm_comparator = LLMComparator()\n",
    "formated_response, formated_json_response = llm_comparator.call_comparator(requirements=REQUIREMENTS, criterias=CRITERIAS, resume=RESUME, scale=SCALE)"
   ]
  },
  {
   "cell_type": "code",
   "execution_count": 14,
   "metadata": {},
   "outputs": [
    {
     "data": {
      "text/plain": [
       "'Voici mon analyse du CV par rapport aux critères fournis, avec les justifications détaillées et les scores correspondants :\\n\\n<json_output>\\n{\\n\"Qualité de la réponse (Compréhension du besoin, le cas échéant outils et méthodologie proposés)\": {\\n\"justification\": \"Le CV ne fournit pas d\\'informations spécifiques sur la compréhension du besoin, les outils ou les méthodologies proposées pour cette mission. Cependant, les expériences professionnelles décrites montrent une bonne capacité à comprendre les besoins des clients et à proposer des solutions adaptées.\",\\n\"score\": 3\\n},\\n\"Nombre et pertinence des expériences similaires\": {\\n\"justification\": \"Le candidat possède une vaste expérience de plus de 30 ans dans le développement et la gestion de projets liés aux ERP, notamment dans le domaine immobilier et de la gestion locative sociale. Ses missions chez SCEPIA, éditeur d\\'ERP pour les bailleurs sociaux, et chez GOFOR, éditeur d\\'ERP pour l\\'habillement, sont particulièrement pertinentes. De plus, il a occupé des rôles de chef de projet, directeur technique et product owner, ce qui correspond aux responsabilités attendues.\",\\n\"score\": 5\\n},\\n\"Compétences techniques\": {\\n\"justification\": \"Le CV met en évidence de solides compétences techniques acquises au fil des années, notamment en développement (.NET, C#, SQL Server, HTML, JavaScript), gestion de projets, conduite du changement, animation d\\'ateliers et formation des utilisateurs. Cependant, certaines technologies spécifiques mentionnées dans les exigences (framework .netCore 3.1, DEV OPS, CI/CD, Gitlab, MS Azure, Dockers) ne sont pas explicitement couvertes.\",\\n\"score\": 4\\n},\\n\"Complexité des missions gérées\": {\\n\"justification\": \"Le CV décrit des missions de grande envergure et complexité, telles que la direction de projets de fusion de systèmes d\\'information suite à des regroupements de bailleurs sociaux, la gestion de roadmaps produits, la supervision d\\'équipes de développement et la gestion de comptes clients importants. Ces expériences démontrent une capacité à gérer des missions complexes et à piloter des équipes pluridisciplinaires.\",\\n\"score\": 5\\n},\\n\"Connaissance du domaine fonctionnel (Facility management)\": {\\n\"justification\": \"Bien que le candidat ait une solide expérience dans le domaine immobilier et de la gestion locative sociale, le CV ne mentionne pas spécifiquement d\\'expérience dans le facility management. Cependant, ses compétences en gestion de projets, en analyse des besoins et en développement d\\'applications métiers pourraient être transférables à ce domaine.\",\\n\"score\": 3\\n}\\n}\\n</json_output>\\n\\n<scratchpad>\\nNotes sur les critères :\\n\\nQualité de la réponse :\\n- Pas d\\'informations spécifiques sur la compréhension du besoin, les outils ou les méthodologies proposées\\n- Mais expériences montrent une capacité à comprendre les besoins clients et proposer des solutions\\n\\nNombre et pertinence des expériences similaires :\\n- Vaste expérience de plus de 30 ans dans le développement et la gestion de projets liés aux ERP\\n- Expériences chez SCEPIA (ERP pour bailleurs sociaux) et GOFOR (ERP pour l\\'habillement) très pertinentes\\n- Rôles de chef de projet, directeur technique et product owner correspondent aux responsabilités attendues\\n\\nCompétences techniques :\\n- Solides compétences techniques en développement, gestion de projets, conduite du changement, animation d\\'ateliers, formation utilisateurs\\n- Mais certaines technologies spécifiques mentionnées dans les exigences (framework .netCore 3.1, DEV OPS, CI/CD, Gitlab, MS Azure, Dockers) non couvertes\\n\\nComplexité des missions gérées :\\n- Missions de grande envergure et complexité (fusion de SI, gestion de roadmaps produits, supervision d\\'équipes de développement, gestion de comptes clients importants)\\n- Capacité à gérer des missions complexes et à piloter des équipes pluridisciplinaires\\n\\nConnaissance du domaine fonctionnel (Facility management) :\\n- Expérience dans le domaine immobilier et de la gestion locative sociale\\n- Mais pas d\\'expérience spécifique mentionnée dans le facility management\\n- Compétences en gestion de projets, analyse des besoins et développement d\\'applications métiers pourraient être transférables\\n</scratchpad>'"
      ]
     },
     "execution_count": 14,
     "metadata": {},
     "output_type": "execute_result"
    }
   ],
   "source": [
    "formated_response"
   ]
  },
  {
   "cell_type": "code",
   "execution_count": 11,
   "metadata": {},
   "outputs": [
    {
     "data": {
      "text/plain": [
       "{'Qualité de la réponse (Compréhension du besoin, le cas échéant outils et méthodologie proposés)': {'justification': \"Le CV ne fournit pas d'informations spécifiques sur la compréhension du besoin, les outils ou les méthodologies proposées pour cette mission. Cependant, les expériences professionnelles décrites montrent une bonne capacité à comprendre les besoins des clients et à proposer des solutions adaptées.\",\n",
       "  'score': 3},\n",
       " 'Nombre et pertinence des expériences similaires': {'justification': \"Le candidat possède une vaste expérience de plus de 30 ans dans le développement et la gestion de projets liés aux ERP, notamment dans le domaine immobilier et de la gestion locative sociale. Ses missions chez SCEPIA, éditeur d'ERP pour les bailleurs sociaux, et chez GOFOR, éditeur d'ERP pour l'habillement, sont particulièrement pertinentes. De plus, il a occupé des rôles de chef de projet, directeur technique et product owner, ce qui correspond aux responsabilités attendues.\",\n",
       "  'score': 5},\n",
       " 'Compétences techniques': {'justification': \"Le CV met en évidence de solides compétences techniques acquises au fil des années, notamment en développement (.NET, C#, SQL Server, HTML, JavaScript), gestion de projets, conduite du changement, animation d'ateliers et formation des utilisateurs. Cependant, certaines technologies spécifiques mentionnées dans les exigences (framework .netCore 3.1, DEV OPS, CI/CD, Gitlab, MS Azure, Dockers) ne sont pas explicitement couvertes.\",\n",
       "  'score': 4},\n",
       " 'Complexité des missions gérées': {'justification': \"Le CV décrit des missions de grande envergure et complexité, telles que la direction de projets de fusion de systèmes d'information suite à des regroupements de bailleurs sociaux, la gestion de roadmaps produits, la supervision d'équipes de développement et la gestion de comptes clients importants. Ces expériences démontrent une capacité à gérer des missions complexes et à piloter des équipes pluridisciplinaires.\",\n",
       "  'score': 5},\n",
       " 'Connaissance du domaine fonctionnel (Facility management)': {'justification': \"Bien que le candidat ait une solide expérience dans le domaine immobilier et de la gestion locative sociale, le CV ne mentionne pas spécifiquement d'expérience dans le facility management. Cependant, ses compétences en gestion de projets, en analyse des besoins et en développement d'applications métiers pourraient être transférables à ce domaine.\",\n",
       "  'score': 3}}"
      ]
     },
     "execution_count": 11,
     "metadata": {},
     "output_type": "execute_result"
    }
   ],
   "source": [
    "formated_json_response"
   ]
  },
  {
   "cell_type": "code",
   "execution_count": 12,
   "metadata": {},
   "outputs": [
    {
     "data": {
      "text/plain": [
       "[{'critere': ['Qualité de la réponse (Compréhension du besoin, le cas échéant outils et méthodologie proposés)',\n",
       "   1],\n",
       "  'ponderation': [15, 1]},\n",
       " {'critere': ['Nombre et pertinence des expériences similaires', 1],\n",
       "  'ponderation': [20, 1]},\n",
       " {'critere': ['Compétences techniques', 1], 'ponderation': [30, 1]},\n",
       " {'critere': ['Complexité des missions gérées', 1], 'ponderation': [20, 1]},\n",
       " {'critere': ['Connaissance du domaine fonctionnel (Facility management)', 1],\n",
       "  'ponderation': [15, 1]}]"
      ]
     },
     "execution_count": 12,
     "metadata": {},
     "output_type": "execute_result"
    }
   ],
   "source": [
    "CRITERIAS"
   ]
  },
  {
   "cell_type": "code",
   "execution_count": 13,
   "metadata": {},
   "outputs": [
    {
     "name": "stdout",
     "output_type": "stream",
     "text": [
      "Note technique : 4.1\n"
     ]
    }
   ],
   "source": [
    "# Create a dictionary to store the aggregated scores\n",
    "aggregated_scores = 0\n",
    "criteria_scores = formated_json_response\n",
    "criteria_weights = CRITERIAS\n",
    "# Iterate through each criterion and its weight\n",
    "for criterion in criteria_weights:\n",
    "    critere_name = criterion['critere'][0]\n",
    "    weight = criterion['ponderation'][0] / 100\n",
    "\n",
    "    # Iterate through the scores and justifications\n",
    "    for key, value in criteria_scores.items():\n",
    "        if key == critere_name:\n",
    "            # Aggregate the weighted score\n",
    "            aggregated_scores += value['score'] * (weight)\n",
    "\n",
    "print(f\"Note technique : {aggregated_scores}\")"
   ]
  }
 ],
 "metadata": {
  "kernelspec": {
   "display_name": "Python 3",
   "language": "python",
   "name": "python3"
  },
  "language_info": {
   "codemirror_mode": {
    "name": "ipython",
    "version": 3
   },
   "file_extension": ".py",
   "mimetype": "text/x-python",
   "name": "python",
   "nbconvert_exporter": "python",
   "pygments_lexer": "ipython3",
   "version": "3.11.9"
  }
 },
 "nbformat": 4,
 "nbformat_minor": 2
}
