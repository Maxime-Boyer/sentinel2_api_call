{
 "cells": [
  {
   "cell_type": "code",
   "execution_count": 1,
   "metadata": {},
   "outputs": [
    {
     "name": "stdout",
     "output_type": "stream",
     "text": [
      "\u001b[33mWARNING: Running pip as the 'root' user can result in broken permissions and conflicting behaviour with the system package manager. It is recommended to use a virtual environment instead: https://pip.pypa.io/warnings/venv\u001b[0m\u001b[33m\n",
      "\u001b[0mNote: you may need to restart the kernel to use updated packages.\n"
     ]
    }
   ],
   "source": [
    "%pip install boto3==1.34.93 ipython --quiet"
   ]
  },
  {
   "cell_type": "code",
   "execution_count": 2,
   "metadata": {},
   "outputs": [
    {
     "name": "stdout",
     "output_type": "stream",
     "text": [
      "CPU times: user 2 µs, sys: 0 ns, total: 2 µs\n",
      "Wall time: 4.05 µs\n"
     ]
    }
   ],
   "source": [
    "import boto3\n",
    "import json, re\n",
    "%time\n",
    "session = boto3.session.Session()\n",
    "bedrock_client = session.client(\n",
    "    service_name='bedrock-runtime',\n",
    "    region_name='eu-west-3',\n",
    ")\n",
    "\n",
    "# Model id and Claude config\n",
    "model_id = \"anthropic.claude-3-sonnet-20240229-v1:0\"\n",
    "claude_config = {\n",
    "    'max_tokens': 4096,\n",
    "    'temperature': 0, \n",
    "    'anthropic_version': '',\n",
    "    'stop_sequences': ['Human:']\n",
    "}"
   ]
  },
  {
   "cell_type": "code",
   "execution_count": 3,
   "metadata": {},
   "outputs": [
    {
     "name": "stdout",
     "output_type": "stream",
     "text": [
      "{'objectif_de_la_mission': [\"La mission vise à décharger les équipes SNCF dans trois domaines concernant les services bureautiques et digitaux : la gestion courante des sollicitations et demandes, l'assistance et le conseil aux utilisateurs, et la gestion des stocks.\", 1], 'duree_de_la_mission': [210, 3], 'nombre_de_profils': [1, 2], 'types_de_profils': [{'type': ['701.E.PAR - Support Méthode, qualité et Sécurité Expert (ouvert à des profils Senior 701.S.PAR)', 2]}], 'taches_et_responsabilites': [{'tache_et_responsabilite': ['Traiter les demandes des agents G&C reçues via le portail interne Digital Office', 2]}, {'tache_et_responsabilite': [\"Prendre en charge les déclarations d'incidents ou d'anomalie de fonctionnement bureautique\", 2]}, {'tache_et_responsabilite': ['Alerter / escalader en interne DDT et/ou chez les fournisseurs', 2]}, {'tache_et_responsabilite': ['Assurer le lien avec les différentes assistances et support', 2]}, {'tache_et_responsabilite': [\"Gérer le stock, les dotations et les retours d'équipements PC, tablettes, smartphones\", 2]}, {'tache_et_responsabilite': ['Assister le CSIE dans la gestion des commandes', 2]}, {'tache_et_responsabilite': ['Assurer le tri des matériels à évacuer', 2]}, {'tache_et_responsabilite': [\"Assurer physiquement les remises et retours d'équipements\", 2]}, {'tache_et_responsabilite': ['Assister les utilisateurs dans la prise en main et le paramétrage des équipements', 2]}, {'tache_et_responsabilite': [\"Apporter conseil à l'utilisation bureautique et accompagnement sur les outils digitaux\", 2]}, {'tache_et_responsabilite': ['Prendre en charge des actions de communication et de pédagogie', 2]}, {'tache_et_responsabilite': ['Rédiger des procédures, des tutoriels, des consignes', 2]}, {'tache_et_responsabilite': ['Participer à de mini-projets concernant la gestion du site', 2]}], 'competences_du_profils': [{'competence': ['Expérience dans la gestion de parc bureautique', 3]}, {'competence': ['Solides bases techniques sur les infrastructures informatiques', 3]}, {'competence': ['Aisance relationnelle', 3]}], 'stack_technique': [['Flottes sous Android et iOS', 3], ['Parc de PC sous Windows et Mac', 3], ['Environnement bureautique O365 dans un contexte Active Directory / VPN', 3]], 'duree_de_la_mission_avec_option': [\"630 jours maximum en cas de levée d'option\", 3]}\n",
      "{'diplomes': [{'niveau_etude': ['Bac+5', 4], 'date_obtention': ['2010-06-30', 4], 'diplome': ['Master en Informatique', 4]}], 'certifications': [{'date_obtention': ['2015-03-15', -1], 'certification': ['Certification AWS Solutions Architect Associate', -1]}], 'langues_parlees': [{'langue': ['Anglais', 5], 'niveau': ['Courant', 5]}, {'langue': ['Espagnol', -1], 'niveau': ['Débutant', -1]}], 'experiences_entreprise': [{'nom_entreprise': 'SNCF', 'duree_experience': '2 années, 6 mois', 'date_debut_experience': '2020-01-01', 'date_fin_experience': '2022-06-30', 'nom_poste': \"Technicien d'assistance et maintenance\", 'stack_technique': ['Windows', 'Mac OS', 'Office 365', 'Active Directory', 'VPN']}, {'nom_entreprise': 'Capgemini', 'duree_experience': '3 ans', 'date_debut_experience': '2017-07-01', 'date_fin_experience': '2020-06-30', 'nom_poste': 'Ingénieur support', 'stack_technique': ['Windows Server', 'Linux', 'VMWare', 'Microsoft Exchange']}, {'nom_entreprise': 'N/A', 'duree_experience': 'N/A', 'date_debut_experience': 'N/A', 'date_fin_experience': 'N/A', 'nom_poste': 'N/A', 'stack_technique': ['N/A']}, {'nom_entreprise': 'HELPLINE', 'nom_poste': \"Ingénieur d'affaires\", 'role': ['Répondre aux besoins techniques bureautique et mobilité', 'Intervenir en tant que support auprès des utilisateurs', \"Accompagner le changement d'outils de production et d'applicatifs\", 'Création de process et suivi des techniciens', \"Animation de l'équipe\"]}, {'nom_entreprise': 'NEURONES', 'nom_poste': 'Global Account Manager', 'role': ['N/A']}, {'nom_entreprise': 'SNCF Gares & Connexions', 'nom_poste': 'N/A', 'role': ['Gestion courante des sollicitations et demandes', 'Assistance et conseil aux utilisateurs', \"Gestion des stocks, de l'approvisionnement à la mise au rebus\"]}]}\n"
     ]
    }
   ],
   "source": [
    "# Fill with your json sample files here\n",
    "cdc_json_file_path = \"/workspace/formatted_json_cdc1.json\" \n",
    "cv_json_file_path = \"/workspace/formatted_json_cv1.json\"\n",
    "rec_json_file_path = \"/workspace/formatted_json_rec1.json\"\n",
    "\n",
    "# Open the JSON file and load its contents\n",
    "with open(cdc_json_file_path, \"r\") as file:\n",
    "    cdc_json_data = json.load(file)\n",
    "with open(cv_json_file_path, \"r\") as file:\n",
    "    cv_json_data = json.load(file)\n",
    "with open(rec_json_file_path, \"r\") as file:\n",
    "    rec_json_data = json.load(file)\n",
    "\n",
    "# Now you can work with the loaded JSON data\n",
    "print(cdc_json_data)\n",
    "print(cv_json_data)\n",
    "\n",
    "# Add you json inputs here\n",
    "REQUIREMENTS = cdc_json_data\n",
    "RESUME = cv_json_data"
   ]
  },
  {
   "cell_type": "code",
   "execution_count": 4,
   "metadata": {},
   "outputs": [
    {
     "name": "stdout",
     "output_type": "stream",
     "text": [
      "Qualité de la réponse (Compréhension du besoin, le cas échéant outils et méthodologie proposés)\n",
      "Nombre et pertinence des expériences similaires\n",
      "Compétences techniques\n",
      "Connaissance du domaine fonctionnel\n",
      "Expériences similaires en accompagnement au changement, actions pédagogiques illustrant la capacité d'écoute, de reformulation et de synthèse\n"
     ]
    }
   ],
   "source": [
    "CRITERIAS  = rec_json_data['sous_criteres_techniques_et_ponderation']\n",
    "\n",
    "for critere_json in rec_json_data['sous_criteres_techniques_et_ponderation']:\n",
    "    print(critere_json['critere'][0])"
   ]
  },
  {
   "cell_type": "code",
   "execution_count": 5,
   "metadata": {},
   "outputs": [],
   "source": [
    "SCALE = {\n",
    "    0: \"Ne répond pas au besoin\",\n",
    "    1: \"Ne répond pas suffisamment au besoin\",\n",
    "    2: \"Répond partiellement au besoin\",\n",
    "    3: \"Répond correctement au besoin\",\n",
    "    4: \"Très bonne réponse\",\n",
    "    5: \"Réponse au-delà des attentes\"\n",
    "}\n"
   ]
  },
  {
   "cell_type": "code",
   "execution_count": 6,
   "metadata": {},
   "outputs": [],
   "source": [
    "prompt = f\"\"\"\n",
    "Vous êtes un assistant d'analyse des compétences techniques de CV dans le cadre de réponse à appel\n",
    "d'offre du groupe SNCF. Votre tâche est d'évaluer un CV par rapport à un ensemble de critères\n",
    "techniques pondérés fournis.\n",
    "\n",
    "Voici les informations dont vous disposez :\n",
    "\n",
    "<Requirements>\n",
    "{REQUIREMENTS}\n",
    "</Requirements>\n",
    "\n",
    "<Criteria>\n",
    "{CRITERIAS}\n",
    "</Criteria>\n",
    "\n",
    "<Resume>\n",
    "{RESUME}\n",
    "</Resume>\n",
    "\n",
    "<Scale>\n",
    "{SCALE}\n",
    "</Scale>\n",
    "\"\"\" + \"\"\"\n",
    "Commencez par lire attentivement les exigences et les critères. Ensuite, analysez le CV par rapport\n",
    "à chaque critère. Pour chaque critère, fournissez d'abord une justification détaillée de la note que\n",
    "vous attribuez au candidat. Utilisez les informations du CV pour expliquer pourquoi vous pensez que\n",
    "le candidat mérite cette note pour ce critère spécifique.\n",
    "\n",
    "Après avoir fourni la justification, donnez une note numérique entre 1 et 5 en vous basant sur\n",
    "l'échelle de notation fournie.\n",
    "\n",
    "Une fois que vous avez analysé tous les critères, produisez un JSON avec les notes et les\n",
    "justifications pour chaque critère.\n",
    "\n",
    "Le format du JSON doit être le suivant :\n",
    "\n",
    "{\n",
    "'critère 1': {\n",
    "'justification': 'Justification détaillée pour la note',\n",
    "'score': X\n",
    "},\n",
    "'critère 2': {\n",
    "'justification': 'Justification détaillée pour la note',\n",
    "'score': Y\n",
    "},\n",
    "...\n",
    "}\n",
    "\n",
    "Remplacez \"critère 1\", \"critère 2\", etc. par les noms réels des critères. Assurez-vous que les\n",
    "justifications sont claires et détaillées, et que les scores sont conformes à l'échelle de notation\n",
    "fournie.\n",
    "\n",
    "<scratchpad>\n",
    "Vous pouvez utiliser cette zone pour prendre des notes et organiser vos pensées avant de produire le\n",
    "JSON final.\n",
    "</scratchpad>\n",
    "\n",
    "<json_output>\n",
    "Écrivez votre sortie JSON ici.\n",
    "</json_output>\n",
    "\"\"\""
   ]
  },
  {
   "cell_type": "code",
   "execution_count": 7,
   "metadata": {},
   "outputs": [],
   "source": [
    "def prepare_bedrock_request(messages, claude_config):\n",
    "    return {\n",
    "        'messages': messages,\n",
    "        **claude_config,\n",
    "    }\n",
    "def extract_bedrock_response(response):\n",
    "    body = json.loads(response['body'].read().decode('utf-8'))\n",
    "    return body['content'][0]['text']\n",
    "\n",
    "def pretty_print(message):\n",
    "    print('\\n\\n'.join('\\n'.join(line.strip() for line in re.findall(r'.{1,100}(?:\\s+|$)', paragraph.strip('\\n'))) for paragraph in re.split(r'\\n\\n+', message)))"
   ]
  },
  {
   "cell_type": "code",
   "execution_count": 8,
   "metadata": {},
   "outputs": [
    {
     "name": "stdout",
     "output_type": "stream",
     "text": [
      "CPU times: user 31.1 ms, sys: 0 ns, total: 31.1 ms\n",
      "Wall time: 25.9 s\n"
     ]
    }
   ],
   "source": [
    "%%time\n",
    "messages = [\n",
    "    {\"role\": \"user\", \"content\": [\n",
    "        {\"type\": \"text\", \"text\": prompt},\n",
    "        ]\n",
    "    }\n",
    "]\n",
    "\n",
    "body = prepare_bedrock_request(messages, claude_config)\n",
    "response = bedrock_client.invoke_model(modelId=model_id, body=json.dumps(body))\n",
    "formated_response = extract_bedrock_response(response)"
   ]
  },
  {
   "cell_type": "code",
   "execution_count": 9,
   "metadata": {},
   "outputs": [
    {
     "name": "stdout",
     "output_type": "stream",
     "text": [
      "Voici mon analyse détaillée du CV par rapport aux critères fournis :\n",
      "\n",
      "<scratchpad>\n",
      "Critère 1 : Qualité de la réponse (Compréhension du besoin, le cas échéant outils et méthodologie\n",
      "proposés)\n",
      "- Le CV ne fournit pas d'informations spécifiques sur la compréhension du besoin ou les\n",
      "outils/méthodologies proposés pour cette mission. Il s'agit principalement d'un récapitulatif des\n",
      "expériences professionnelles passées.\n",
      "=> Score : 2 (Répond partiellement au besoin)\n",
      "\n",
      "Critère 2 : Nombre et pertinence des expériences similaires\n",
      "- Le candidat a 2 ans et 6 mois d'expérience en tant que technicien d'assistance et maintenance chez\n",
      "la SNCF, travaillant sur Windows, Mac OS, Office 365, Active Directory et VPN, ce qui est très\n",
      "pertinent pour cette mission.\n",
      "- Il a également 3 ans d'expérience en tant qu'ingénieur support chez Capgemini, travaillant sur des\n",
      "technologies similaires comme Windows Server et Microsoft Exchange.\n",
      "- Son expérience chez HELPLINE en tant qu'ingénieur d'affaires semble également pertinente, avec des\n",
      "responsabilités d'assistance aux utilisateurs et d'accompagnement au changement.\n",
      "=> Score : 5 (Réponse au-delà des attentes)\n",
      "\n",
      "Critère 3 : Compétences techniques\n",
      "- Le CV mentionne des compétences techniques solides sur les infrastructures informatiques, les\n",
      "flottes Android/iOS, les parcs PC Windows/Mac, et l'environnement bureautique O365/Active\n",
      "Directory/VPN, qui correspondent parfaitement aux exigences techniques de la mission.\n",
      "=> Score : 5 (Réponse au-delà des attentes)\n",
      "\n",
      "Critère 4 : Connaissance du domaine fonctionnel\n",
      "- Le candidat a une expérience directe dans la gestion de parc bureautique et l'assistance aux\n",
      "utilisateurs chez la SNCF et d'autres entreprises.\n",
      "- Son rôle chez SNCF Gares & Connexions semble couvrir les principales tâches de la mission (gestion\n",
      "des demandes, assistance, gestion des stocks).\n",
      "=> Score : 4 (Très bonne réponse)\n",
      "\n",
      "Critère 5 : Expériences similaires en accompagnement au changement, actions pédagogiques illustrant\n",
      "la capacité d'écoute, de reformulation et de synthèse\n",
      "- Chez HELPLINE, le candidat avait pour responsabilité d'accompagner le changement d'outils de\n",
      "production et d'applicatifs, ce qui implique probablement des actions pédagogiques et de la\n",
      "reformulation.\n",
      "- Cependant, le CV ne fournit pas d'exemples concrets illustrant ces capacités.\n",
      "=> Score : 3 (Répond correctement au besoin)\n",
      "</scratchpad>\n",
      "\n",
      "<json_output>\n",
      "{\n",
      "\"Qualité de la réponse (Compréhension du besoin, le cas échéant outils et méthodologie proposés)\": {\n",
      "\"justification\": \"Le CV ne fournit pas d'informations spécifiques sur la compréhension du besoin ou\n",
      "les outils/méthodologies proposés pour cette mission. Il s'agit principalement d'un récapitulatif\n",
      "des expériences professionnelles passées.\",\n",
      "\"score\": 2\n",
      "},\n",
      "\"Nombre et pertinence des expériences similaires\": {\n",
      "\"justification\": \"Le candidat a 2 ans et 6 mois d'expérience en tant que technicien d'assistance et\n",
      "maintenance chez la SNCF, travaillant sur Windows, Mac OS, Office 365, Active Directory et VPN, ce\n",
      "qui est très pertinent pour cette mission. Il a également 3 ans d'expérience en tant qu'ingénieur\n",
      "support chez Capgemini, travaillant sur des technologies similaires comme Windows Server et\n",
      "Microsoft Exchange. Son expérience chez HELPLINE en tant qu'ingénieur d'affaires semble également\n",
      "pertinente, avec des responsabilités d'assistance aux utilisateurs et d'accompagnement au\n",
      "changement.\",\n",
      "\"score\": 5\n",
      "},\n",
      "\"Compétences techniques\": {\n",
      "\"justification\": \"Le CV mentionne des compétences techniques solides sur les infrastructures\n",
      "informatiques, les flottes Android/iOS, les parcs PC Windows/Mac, et l'environnement bureautique\n",
      "O365/Active Directory/VPN, qui correspondent parfaitement aux exigences techniques de la mission.\",\n",
      "\"score\": 5\n",
      "},\n",
      "\"Connaissance du domaine fonctionnel\": {\n",
      "\"justification\": \"Le candidat a une expérience directe dans la gestion de parc bureautique et\n",
      "l'assistance aux utilisateurs chez la SNCF et d'autres entreprises. Son rôle chez SNCF Gares &\n",
      "Connexions semble couvrir les principales tâches de la mission (gestion des demandes, assistance,\n",
      "gestion des stocks).\",\n",
      "\"score\": 4\n",
      "},\n",
      "\"Expériences similaires en accompagnement au changement, actions pédagogiques illustrant la capacité\n",
      "d'écoute, de reformulation et de synthèse\": {\n",
      "\"justification\": \"Chez HELPLINE, le candidat avait pour responsabilité d'accompagner le changement\n",
      "d'outils de production et d'applicatifs, ce qui implique probablement des actions pédagogiques et de\n",
      "la reformulation. Cependant, le CV ne fournit pas d'exemples concrets illustrant ces capacités.\",\n",
      "\"score\": 3\n",
      "}\n",
      "}\n",
      "</json_output>\n"
     ]
    }
   ],
   "source": [
    "pretty_print(formated_response)"
   ]
  },
  {
   "cell_type": "code",
   "execution_count": null,
   "metadata": {},
   "outputs": [],
   "source": []
  }
 ],
 "metadata": {
  "kernelspec": {
   "display_name": "Python 3",
   "language": "python",
   "name": "python3"
  },
  "language_info": {
   "codemirror_mode": {
    "name": "ipython",
    "version": 3
   },
   "file_extension": ".py",
   "mimetype": "text/x-python",
   "name": "python",
   "nbconvert_exporter": "python",
   "pygments_lexer": "ipython3",
   "version": "3.11.9"
  }
 },
 "nbformat": 4,
 "nbformat_minor": 2
}
